{
  "nbformat": 4,
  "nbformat_minor": 0,
  "metadata": {
    "colab": {
      "name": "Play_with_Word2Net.ipynb",
      "provenance": [],
      "collapsed_sections": [
        "LGFil3SW_lEs"
      ]
    },
    "kernelspec": {
      "name": "python3",
      "display_name": "Python 3"
    }
  },
  "cells": [
    {
      "cell_type": "markdown",
      "metadata": {
        "id": "LGFil3SW_lEs",
        "colab_type": "text"
      },
      "source": [
        "#### Copyright 2018 Google LLC."
      ]
    },
    {
      "cell_type": "code",
      "metadata": {
        "id": "T-ZkYPdI_pZ3",
        "colab_type": "code",
        "colab": {}
      },
      "source": [
        "# Licensed under the Apache License, Version 2.0 (the \"License\");\n",
        "# you may not use this file except in compliance with the License.\n",
        "# You may obtain a copy of the License at\n",
        "#\n",
        "# https://www.apache.org/licenses/LICENSE-2.0\n",
        "#\n",
        "# Unless required by applicable law or agreed to in writing, software\n",
        "# distributed under the License is distributed on an \"AS IS\" BASIS,\n",
        "# WITHOUT WARRANTIES OR CONDITIONS OF ANY KIND, either express or implied.\n",
        "# See the License for the specific language governing permissions and\n",
        "# limitations under the License."
      ],
      "execution_count": 0,
      "outputs": []
    },
    {
      "cell_type": "markdown",
      "metadata": {
        "id": "6jRiIjdd9LpD",
        "colab_type": "text"
      },
      "source": [
        "# Natural Language Understanding: WordNet\n",
        "\n",
        "Please **make a copy** of this Colab notebook before starting this lab. To do so, choose **File**->**Save a copy in Drive**.\n",
        "\n",
        "## Topics covered\n",
        "  1. Synsets\n",
        "  1. Lemmas and synonyms\n",
        "  1. Word hierarchies\n",
        "  1. Measuring similarities"
      ]
    },
    {
      "cell_type": "markdown",
      "metadata": {
        "id": "adBAlLqcG-_1",
        "colab_type": "text"
      },
      "source": [
        "One of the earliest attempts to create useful representations of meaning for language is [WordNet](https://en.wikipedia.org/wiki/WordNet) -- a lexical database of words and their relationships.\n",
        "\n",
        "NLTK provides a [WordNet wrapper](http://www.nltk.org/howto/wordnet.html) that we'll use here."
      ]
    },
    {
      "cell_type": "code",
      "metadata": {
        "id": "OAsJ5VRh9LpF",
        "colab_type": "code",
        "outputId": "4217830a-a42e-4b3b-c062-9ae95608af7d",
        "colab": {
          "base_uri": "https://localhost:8080/",
          "height": 51
        }
      },
      "source": [
        "import nltk\n",
        "assert(nltk.download('wordnet'))  # Make sure we have the wordnet data.\n",
        "from nltk.corpus import wordnet as wn"
      ],
      "execution_count": 10,
      "outputs": [
        {
          "output_type": "stream",
          "text": [
            "[nltk_data] Downloading package wordnet to /root/nltk_data...\n",
            "[nltk_data]   Package wordnet is already up-to-date!\n"
          ],
          "name": "stdout"
        }
      ]
    },
    {
      "cell_type": "code",
      "metadata": {
        "id": "OMQCZm5C-TFB",
        "colab_type": "code",
        "colab": {}
      },
      "source": [
        ""
      ],
      "execution_count": 0,
      "outputs": []
    },
    {
      "cell_type": "markdown",
      "metadata": {
        "id": "_-qBFNSW9LpL",
        "colab_type": "text"
      },
      "source": [
        "## Synsets\n",
        "The fundamental WordNet unit is a **synset**, specified by a word form, a part of speech, and an index. The synsets() function retrieves the synsets that match the given word. For example, there are 4 synsets for the word \"surf\", one of which is a noun (n) and three of which are verbs (v). WordNet provides a definition and sometimes glosses (examples) for each synset. **Polysemy**, by the way, means having multiple senses."
      ]
    },
    {
      "cell_type": "code",
      "metadata": {
        "id": "XpgeQO5z9LpL",
        "colab_type": "code",
        "outputId": "cc422e16-f81b-4a61-e0a9-9c0356434fa7",
        "colab": {
          "base_uri": "https://localhost:8080/",
          "height": 221
        }
      },
      "source": [
        "for s in wn.synsets('surf'):\n",
        "    print (s);\n",
        "    print ('\\t', s.definition())\n",
        "    print ('\\t', s.examples())"
      ],
      "execution_count": 11,
      "outputs": [
        {
          "output_type": "stream",
          "text": [
            "Synset('surf.n.01')\n",
            "\t waves breaking on the shore\n",
            "\t []\n",
            "Synset('surfboard.v.01')\n",
            "\t ride the waves of the sea with a surfboard\n",
            "\t ['Californians love to surf']\n",
            "Synset('browse.v.03')\n",
            "\t look around casually and randomly, without seeking anything in particular\n",
            "\t ['browse a computer directory', 'surf the internet or the world wide web']\n",
            "Synset('surf.v.03')\n",
            "\t switch channels, on television\n",
            "\t []\n"
          ],
          "name": "stdout"
        }
      ]
    },
    {
      "cell_type": "markdown",
      "metadata": {
        "id": "QL5YJVEv9LpO",
        "colab_type": "text"
      },
      "source": [
        "## Lemmas and synonyms\n",
        "Each synset includes its corresponding **lemmas** (word forms).\n",
        "\n",
        "We can construct a set of synonyms by looking up all the lemmas for all the synsets for a word."
      ]
    },
    {
      "cell_type": "code",
      "metadata": {
        "id": "YNfv7q_t9LpP",
        "colab_type": "code",
        "outputId": "303dee84-7fee-4401-b928-e147d84fa7c4",
        "colab": {
          "base_uri": "https://localhost:8080/",
          "height": 34
        }
      },
      "source": [
        "synonyms = set()\n",
        " \n",
        "for s in wn.synsets('triumphant'):\n",
        "    for l in s.lemmas():\n",
        "        synonyms.add(l.name())\n",
        "\n",
        "print ('synonyms:', ', '.join(synonyms))"
      ],
      "execution_count": 12,
      "outputs": [
        {
          "output_type": "stream",
          "text": [
            "synonyms: victorious, jubilant, prideful, triumphal, rejoicing, triumphant, exulting, exultant\n"
          ],
          "name": "stdout"
        }
      ]
    },
    {
      "cell_type": "markdown",
      "metadata": {
        "id": "AfM46--L9LpT",
        "colab_type": "text"
      },
      "source": [
        "## Word hierarchies\n",
        "WordNet organizes nouns and verbs into hierarchies according to **hypernym** or is-a relationships.\n",
        "\n",
        "Let's examine the path from \"rutabaga\" to its root in the tree, \"entity\"."
      ]
    },
    {
      "cell_type": "code",
      "metadata": {
        "id": "pXj3S_Bj9LpT",
        "colab_type": "code",
        "outputId": "034339ca-ff8e-4654-b0ae-f7247c648e9d",
        "colab": {
          "base_uri": "https://localhost:8080/",
          "height": 187
        }
      },
      "source": [
        "s = wn.synsets('rutabaga')\n",
        "\n",
        "while s:\n",
        "    print (s[0].hypernyms())\n",
        "    s = s[0].hypernyms()"
      ],
      "execution_count": 13,
      "outputs": [
        {
          "output_type": "stream",
          "text": [
            "[Synset('turnip.n.02')]\n",
            "[Synset('cruciferous_vegetable.n.01'), Synset('root_vegetable.n.01')]\n",
            "[Synset('vegetable.n.01')]\n",
            "[Synset('produce.n.01')]\n",
            "[Synset('food.n.02')]\n",
            "[Synset('solid.n.01')]\n",
            "[Synset('matter.n.03')]\n",
            "[Synset('physical_entity.n.01')]\n",
            "[Synset('entity.n.01')]\n",
            "[]\n"
          ],
          "name": "stdout"
        }
      ]
    },
    {
      "cell_type": "markdown",
      "metadata": {
        "id": "P8PT5B989LpW",
        "colab_type": "text"
      },
      "source": [
        "Actually, the proper way to do this is with a transitive closure, which repeatedly applies the specified function (in this case, hypernyms())."
      ]
    },
    {
      "cell_type": "code",
      "metadata": {
        "id": "dqY9fFIc9LpY",
        "colab_type": "code",
        "outputId": "edf0a73f-9760-4f98-feac-debb170c5c00",
        "colab": {
          "base_uri": "https://localhost:8080/",
          "height": 306
        }
      },
      "source": [
        "hyper = lambda x: x.hypernyms()\n",
        "s = wn.synset('rutabaga.n.01')\n",
        "for i in list(s.closure(hyper)):\n",
        "    print (i)\n",
        "print    \n",
        "ss = wn.synset('root_vegetable.n.01')\n",
        "for i in list(ss.closure(hyper)):\n",
        "    print (i)"
      ],
      "execution_count": 14,
      "outputs": [
        {
          "output_type": "stream",
          "text": [
            "Synset('turnip.n.02')\n",
            "Synset('cruciferous_vegetable.n.01')\n",
            "Synset('root_vegetable.n.01')\n",
            "Synset('vegetable.n.01')\n",
            "Synset('produce.n.01')\n",
            "Synset('food.n.02')\n",
            "Synset('solid.n.01')\n",
            "Synset('matter.n.03')\n",
            "Synset('physical_entity.n.01')\n",
            "Synset('entity.n.01')\n",
            "Synset('vegetable.n.01')\n",
            "Synset('produce.n.01')\n",
            "Synset('food.n.02')\n",
            "Synset('solid.n.01')\n",
            "Synset('matter.n.03')\n",
            "Synset('physical_entity.n.01')\n",
            "Synset('entity.n.01')\n"
          ],
          "name": "stdout"
        }
      ]
    },
    {
      "cell_type": "markdown",
      "metadata": {
        "id": "XjsWqQGf9Lpc",
        "colab_type": "text"
      },
      "source": [
        "## Measuring similarity\n",
        "\n",
        "WordNet's word hierarchies (for nouns and verbs) allow us to measure similarity in various ways.\n",
        "\n",
        "Path similarity is defined as:\n",
        "\n",
        "> $1 / (ShortestPathDistance(s_1, s_2) + 1)$\n",
        "\n",
        "where $ShortestPathDistance(s_1, s_2)$ is computed from the hypernym/hyponym graph.\n",
        "\n"
      ]
    },
    {
      "cell_type": "code",
      "metadata": {
        "id": "ETH-GG-A9Lpc",
        "colab_type": "code",
        "outputId": "2f778a4b-e252-40ec-8a11-2831c8f6d2d0",
        "colab": {
          "base_uri": "https://localhost:8080/",
          "height": 357
        }
      },
      "source": [
        "s1 = wn.synset('dog.n.01')\n",
        "s2 = wn.synset('cat.n.01')\n",
        "s3 = wn.synset('potato.n.01')\n",
        "\n",
        "print (s1, '::', s1, s1.path_similarity(s1))\n",
        "print (s1, '::', s2, s1.path_similarity(s2))\n",
        "print (s1, '::', s3, s1.path_similarity(s3))\n",
        "print (s2, '::', s3, s2.path_similarity(s3))\n",
        "\n",
        "print ()\n",
        "\n",
        "hyper = lambda x: x.hypernyms()\n",
        "\n",
        "print(s1.hypernyms())\n",
        "\n",
        "for i in list(s1.closure(hyper)):\n",
        "    print (i)"
      ],
      "execution_count": 15,
      "outputs": [
        {
          "output_type": "stream",
          "text": [
            "Synset('dog.n.01') :: Synset('dog.n.01') 1.0\n",
            "Synset('dog.n.01') :: Synset('cat.n.01') 0.2\n",
            "Synset('dog.n.01') :: Synset('potato.n.01') 0.07142857142857142\n",
            "Synset('cat.n.01') :: Synset('potato.n.01') 0.05263157894736842\n",
            "\n",
            "[Synset('canine.n.02'), Synset('domestic_animal.n.01')]\n",
            "Synset('canine.n.02')\n",
            "Synset('domestic_animal.n.01')\n",
            "Synset('carnivore.n.01')\n",
            "Synset('animal.n.01')\n",
            "Synset('placental.n.01')\n",
            "Synset('organism.n.01')\n",
            "Synset('mammal.n.01')\n",
            "Synset('living_thing.n.01')\n",
            "Synset('vertebrate.n.01')\n",
            "Synset('whole.n.02')\n",
            "Synset('chordate.n.01')\n",
            "Synset('object.n.01')\n",
            "Synset('physical_entity.n.01')\n",
            "Synset('entity.n.01')\n"
          ],
          "name": "stdout"
        }
      ]
    },
    {
      "cell_type": "markdown",
      "metadata": {
        "id": "EsiZ9u4X9Lpg",
        "colab_type": "text"
      },
      "source": [
        "## Takeaways\n",
        "\n",
        "WordNet gives us ways to compare words and understand their relationships in a much more meaningful way than relying on the raw strings (sequences of characters). We know that 'cat' and 'dog', for example, are somewhat similar even though they have no string similarity. As a result, WordNet has been used in lots of practical applications over the years. However, WordNet has a few important shortcomings:\n",
        "\n",
        "1. WordNet was built by people. This makes it hard to maintain as new words are added (e.g. 'iphone' isn't in WordNet) and definitions evolve. It also has limited language coverage. NLTK wraps Open Multilingual WordNet which includes 22 additional languages, but these are less extensive than the English WordNet. A fundamental question addressed by subsequent sections is: can we build WordNet-like resources automatically from text, of which there is an abundance?\n",
        "\n",
        "1. WordNet, like any dictionary or thesaurus, represents the meaning of a word with its relationships to other words. That is, it lacks *grounding* in the real world. This is fine for people who have plenty of working knowledge of the world, who have seen and interacted with dogs and cats and potatoes, but would be much less helpful for aliens arriving on Earth for the first time. This deficiency, where language is only defined with respect to itself, and not with respect to images for example, is at the frontier of research in Natural Language Understanding."
      ]
    },
    {
      "cell_type": "markdown",
      "metadata": {
        "id": "x1BObDhU9Lpg",
        "colab_type": "text"
      },
      "source": [
        "## Quiz Questions\n",
        "\n",
        "(1) Use the closure function to enumerate the **hyponyms** (the inverse of a hypernym) of 'root_vegetable.n.01'.\n",
        "\n",
        "(2) We used the path_similarity function to compute the similarity between 'dog' and 'cat'. Use the hypernyms() function (see above) to find the path between these two words. Does the path similarity 0.2 make sense?"
      ]
    },
    {
      "cell_type": "code",
      "metadata": {
        "id": "j_pz518V-jhj",
        "colab_type": "code",
        "outputId": "6259d97f-ed47-44c0-8490-17577a89fb66",
        "colab": {
          "base_uri": "https://localhost:8080/",
          "height": 1000
        }
      },
      "source": [
        "import nltk\n",
        "\n",
        "nltk(nltk.download('all'))"
      ],
      "execution_count": 16,
      "outputs": [
        {
          "output_type": "stream",
          "text": [
            "[nltk_data] Downloading collection 'all'\n",
            "[nltk_data]    | \n",
            "[nltk_data]    | Downloading package abc to /root/nltk_data...\n",
            "[nltk_data]    |   Package abc is already up-to-date!\n",
            "[nltk_data]    | Downloading package alpino to /root/nltk_data...\n",
            "[nltk_data]    |   Package alpino is already up-to-date!\n",
            "[nltk_data]    | Downloading package biocreative_ppi to\n",
            "[nltk_data]    |     /root/nltk_data...\n",
            "[nltk_data]    |   Package biocreative_ppi is already up-to-date!\n",
            "[nltk_data]    | Downloading package brown to /root/nltk_data...\n",
            "[nltk_data]    |   Package brown is already up-to-date!\n",
            "[nltk_data]    | Downloading package brown_tei to /root/nltk_data...\n",
            "[nltk_data]    |   Package brown_tei is already up-to-date!\n",
            "[nltk_data]    | Downloading package cess_cat to /root/nltk_data...\n",
            "[nltk_data]    |   Package cess_cat is already up-to-date!\n",
            "[nltk_data]    | Downloading package cess_esp to /root/nltk_data...\n",
            "[nltk_data]    |   Package cess_esp is already up-to-date!\n",
            "[nltk_data]    | Downloading package chat80 to /root/nltk_data...\n",
            "[nltk_data]    |   Package chat80 is already up-to-date!\n",
            "[nltk_data]    | Downloading package city_database to\n",
            "[nltk_data]    |     /root/nltk_data...\n",
            "[nltk_data]    |   Package city_database is already up-to-date!\n",
            "[nltk_data]    | Downloading package cmudict to /root/nltk_data...\n",
            "[nltk_data]    |   Package cmudict is already up-to-date!\n",
            "[nltk_data]    | Downloading package comparative_sentences to\n",
            "[nltk_data]    |     /root/nltk_data...\n",
            "[nltk_data]    |   Package comparative_sentences is already up-to-\n",
            "[nltk_data]    |       date!\n",
            "[nltk_data]    | Downloading package comtrans to /root/nltk_data...\n",
            "[nltk_data]    |   Package comtrans is already up-to-date!\n",
            "[nltk_data]    | Downloading package conll2000 to /root/nltk_data...\n",
            "[nltk_data]    |   Package conll2000 is already up-to-date!\n",
            "[nltk_data]    | Downloading package conll2002 to /root/nltk_data...\n",
            "[nltk_data]    |   Package conll2002 is already up-to-date!\n",
            "[nltk_data]    | Downloading package conll2007 to /root/nltk_data...\n",
            "[nltk_data]    |   Package conll2007 is already up-to-date!\n",
            "[nltk_data]    | Downloading package crubadan to /root/nltk_data...\n",
            "[nltk_data]    |   Package crubadan is already up-to-date!\n",
            "[nltk_data]    | Downloading package dependency_treebank to\n",
            "[nltk_data]    |     /root/nltk_data...\n",
            "[nltk_data]    |   Package dependency_treebank is already up-to-date!\n",
            "[nltk_data]    | Downloading package dolch to /root/nltk_data...\n",
            "[nltk_data]    |   Package dolch is already up-to-date!\n",
            "[nltk_data]    | Downloading package europarl_raw to\n",
            "[nltk_data]    |     /root/nltk_data...\n",
            "[nltk_data]    |   Package europarl_raw is already up-to-date!\n",
            "[nltk_data]    | Downloading package floresta to /root/nltk_data...\n",
            "[nltk_data]    |   Package floresta is already up-to-date!\n",
            "[nltk_data]    | Downloading package framenet_v15 to\n",
            "[nltk_data]    |     /root/nltk_data...\n",
            "[nltk_data]    |   Package framenet_v15 is already up-to-date!\n",
            "[nltk_data]    | Downloading package framenet_v17 to\n",
            "[nltk_data]    |     /root/nltk_data...\n",
            "[nltk_data]    |   Package framenet_v17 is already up-to-date!\n",
            "[nltk_data]    | Downloading package gazetteers to /root/nltk_data...\n",
            "[nltk_data]    |   Package gazetteers is already up-to-date!\n",
            "[nltk_data]    | Downloading package genesis to /root/nltk_data...\n",
            "[nltk_data]    |   Package genesis is already up-to-date!\n",
            "[nltk_data]    | Downloading package gutenberg to /root/nltk_data...\n",
            "[nltk_data]    |   Package gutenberg is already up-to-date!\n",
            "[nltk_data]    | Downloading package ieer to /root/nltk_data...\n",
            "[nltk_data]    |   Package ieer is already up-to-date!\n",
            "[nltk_data]    | Downloading package inaugural to /root/nltk_data...\n",
            "[nltk_data]    |   Package inaugural is already up-to-date!\n",
            "[nltk_data]    | Downloading package indian to /root/nltk_data...\n",
            "[nltk_data]    |   Package indian is already up-to-date!\n",
            "[nltk_data]    | Downloading package jeita to /root/nltk_data...\n",
            "[nltk_data]    |   Package jeita is already up-to-date!\n",
            "[nltk_data]    | Downloading package kimmo to /root/nltk_data...\n",
            "[nltk_data]    |   Package kimmo is already up-to-date!\n",
            "[nltk_data]    | Downloading package knbc to /root/nltk_data...\n",
            "[nltk_data]    |   Package knbc is already up-to-date!\n",
            "[nltk_data]    | Downloading package lin_thesaurus to\n",
            "[nltk_data]    |     /root/nltk_data...\n",
            "[nltk_data]    |   Package lin_thesaurus is already up-to-date!\n",
            "[nltk_data]    | Downloading package mac_morpho to /root/nltk_data...\n",
            "[nltk_data]    |   Package mac_morpho is already up-to-date!\n",
            "[nltk_data]    | Downloading package machado to /root/nltk_data...\n",
            "[nltk_data]    |   Package machado is already up-to-date!\n",
            "[nltk_data]    | Downloading package masc_tagged to /root/nltk_data...\n",
            "[nltk_data]    |   Package masc_tagged is already up-to-date!\n",
            "[nltk_data]    | Downloading package moses_sample to\n",
            "[nltk_data]    |     /root/nltk_data...\n",
            "[nltk_data]    |   Package moses_sample is already up-to-date!\n",
            "[nltk_data]    | Downloading package movie_reviews to\n",
            "[nltk_data]    |     /root/nltk_data...\n",
            "[nltk_data]    |   Package movie_reviews is already up-to-date!\n",
            "[nltk_data]    | Downloading package names to /root/nltk_data...\n",
            "[nltk_data]    |   Package names is already up-to-date!\n",
            "[nltk_data]    | Downloading package nombank.1.0 to /root/nltk_data...\n",
            "[nltk_data]    |   Package nombank.1.0 is already up-to-date!\n",
            "[nltk_data]    | Downloading package nps_chat to /root/nltk_data...\n",
            "[nltk_data]    |   Package nps_chat is already up-to-date!\n",
            "[nltk_data]    | Downloading package omw to /root/nltk_data...\n",
            "[nltk_data]    |   Package omw is already up-to-date!\n",
            "[nltk_data]    | Downloading package opinion_lexicon to\n",
            "[nltk_data]    |     /root/nltk_data...\n",
            "[nltk_data]    |   Package opinion_lexicon is already up-to-date!\n",
            "[nltk_data]    | Downloading package paradigms to /root/nltk_data...\n",
            "[nltk_data]    |   Package paradigms is already up-to-date!\n",
            "[nltk_data]    | Downloading package pil to /root/nltk_data...\n",
            "[nltk_data]    |   Package pil is already up-to-date!\n",
            "[nltk_data]    | Downloading package pl196x to /root/nltk_data...\n",
            "[nltk_data]    |   Package pl196x is already up-to-date!\n",
            "[nltk_data]    | Downloading package ppattach to /root/nltk_data...\n",
            "[nltk_data]    |   Package ppattach is already up-to-date!\n",
            "[nltk_data]    | Downloading package problem_reports to\n",
            "[nltk_data]    |     /root/nltk_data...\n",
            "[nltk_data]    |   Package problem_reports is already up-to-date!\n",
            "[nltk_data]    | Downloading package propbank to /root/nltk_data...\n",
            "[nltk_data]    |   Package propbank is already up-to-date!\n",
            "[nltk_data]    | Downloading package ptb to /root/nltk_data...\n",
            "[nltk_data]    |   Package ptb is already up-to-date!\n",
            "[nltk_data]    | Downloading package product_reviews_1 to\n",
            "[nltk_data]    |     /root/nltk_data...\n",
            "[nltk_data]    |   Package product_reviews_1 is already up-to-date!\n",
            "[nltk_data]    | Downloading package product_reviews_2 to\n",
            "[nltk_data]    |     /root/nltk_data...\n",
            "[nltk_data]    |   Package product_reviews_2 is already up-to-date!\n",
            "[nltk_data]    | Downloading package pros_cons to /root/nltk_data...\n",
            "[nltk_data]    |   Package pros_cons is already up-to-date!\n",
            "[nltk_data]    | Downloading package qc to /root/nltk_data...\n",
            "[nltk_data]    |   Package qc is already up-to-date!\n",
            "[nltk_data]    | Downloading package reuters to /root/nltk_data...\n",
            "[nltk_data]    |   Package reuters is already up-to-date!\n",
            "[nltk_data]    | Downloading package rte to /root/nltk_data...\n",
            "[nltk_data]    |   Package rte is already up-to-date!\n",
            "[nltk_data]    | Downloading package semcor to /root/nltk_data...\n",
            "[nltk_data]    |   Package semcor is already up-to-date!\n",
            "[nltk_data]    | Downloading package senseval to /root/nltk_data...\n",
            "[nltk_data]    |   Package senseval is already up-to-date!\n",
            "[nltk_data]    | Downloading package sentiwordnet to\n",
            "[nltk_data]    |     /root/nltk_data...\n",
            "[nltk_data]    |   Package sentiwordnet is already up-to-date!\n",
            "[nltk_data]    | Downloading package sentence_polarity to\n",
            "[nltk_data]    |     /root/nltk_data...\n",
            "[nltk_data]    |   Package sentence_polarity is already up-to-date!\n",
            "[nltk_data]    | Downloading package shakespeare to /root/nltk_data...\n",
            "[nltk_data]    |   Package shakespeare is already up-to-date!\n",
            "[nltk_data]    | Downloading package sinica_treebank to\n",
            "[nltk_data]    |     /root/nltk_data...\n",
            "[nltk_data]    |   Package sinica_treebank is already up-to-date!\n",
            "[nltk_data]    | Downloading package smultron to /root/nltk_data...\n",
            "[nltk_data]    |   Package smultron is already up-to-date!\n",
            "[nltk_data]    | Downloading package state_union to /root/nltk_data...\n",
            "[nltk_data]    |   Package state_union is already up-to-date!\n",
            "[nltk_data]    | Downloading package stopwords to /root/nltk_data...\n",
            "[nltk_data]    |   Package stopwords is already up-to-date!\n",
            "[nltk_data]    | Downloading package subjectivity to\n",
            "[nltk_data]    |     /root/nltk_data...\n",
            "[nltk_data]    |   Package subjectivity is already up-to-date!\n",
            "[nltk_data]    | Downloading package swadesh to /root/nltk_data...\n",
            "[nltk_data]    |   Package swadesh is already up-to-date!\n",
            "[nltk_data]    | Downloading package switchboard to /root/nltk_data...\n",
            "[nltk_data]    |   Package switchboard is already up-to-date!\n",
            "[nltk_data]    | Downloading package timit to /root/nltk_data...\n",
            "[nltk_data]    |   Package timit is already up-to-date!\n",
            "[nltk_data]    | Downloading package toolbox to /root/nltk_data...\n",
            "[nltk_data]    |   Package toolbox is already up-to-date!\n",
            "[nltk_data]    | Downloading package treebank to /root/nltk_data...\n",
            "[nltk_data]    |   Package treebank is already up-to-date!\n",
            "[nltk_data]    | Downloading package twitter_samples to\n",
            "[nltk_data]    |     /root/nltk_data...\n",
            "[nltk_data]    |   Package twitter_samples is already up-to-date!\n",
            "[nltk_data]    | Downloading package udhr to /root/nltk_data...\n",
            "[nltk_data]    |   Package udhr is already up-to-date!\n",
            "[nltk_data]    | Downloading package udhr2 to /root/nltk_data...\n",
            "[nltk_data]    |   Package udhr2 is already up-to-date!\n",
            "[nltk_data]    | Downloading package unicode_samples to\n",
            "[nltk_data]    |     /root/nltk_data...\n",
            "[nltk_data]    |   Package unicode_samples is already up-to-date!\n",
            "[nltk_data]    | Downloading package universal_treebanks_v20 to\n",
            "[nltk_data]    |     /root/nltk_data...\n",
            "[nltk_data]    |   Package universal_treebanks_v20 is already up-to-\n",
            "[nltk_data]    |       date!\n",
            "[nltk_data]    | Downloading package verbnet to /root/nltk_data...\n",
            "[nltk_data]    |   Package verbnet is already up-to-date!\n",
            "[nltk_data]    | Downloading package verbnet3 to /root/nltk_data...\n",
            "[nltk_data]    |   Package verbnet3 is already up-to-date!\n",
            "[nltk_data]    | Downloading package webtext to /root/nltk_data...\n",
            "[nltk_data]    |   Package webtext is already up-to-date!\n",
            "[nltk_data]    | Downloading package wordnet to /root/nltk_data...\n",
            "[nltk_data]    |   Package wordnet is already up-to-date!\n",
            "[nltk_data]    | Downloading package wordnet_ic to /root/nltk_data...\n",
            "[nltk_data]    |   Package wordnet_ic is already up-to-date!\n",
            "[nltk_data]    | Downloading package words to /root/nltk_data...\n",
            "[nltk_data]    |   Package words is already up-to-date!\n",
            "[nltk_data]    | Downloading package ycoe to /root/nltk_data...\n",
            "[nltk_data]    |   Package ycoe is already up-to-date!\n",
            "[nltk_data]    | Downloading package rslp to /root/nltk_data...\n",
            "[nltk_data]    |   Package rslp is already up-to-date!\n",
            "[nltk_data]    | Downloading package maxent_treebank_pos_tagger to\n",
            "[nltk_data]    |     /root/nltk_data...\n",
            "[nltk_data]    |   Package maxent_treebank_pos_tagger is already up-\n",
            "[nltk_data]    |       to-date!\n",
            "[nltk_data]    | Downloading package universal_tagset to\n",
            "[nltk_data]    |     /root/nltk_data...\n",
            "[nltk_data]    |   Package universal_tagset is already up-to-date!\n",
            "[nltk_data]    | Downloading package maxent_ne_chunker to\n",
            "[nltk_data]    |     /root/nltk_data...\n",
            "[nltk_data]    |   Package maxent_ne_chunker is already up-to-date!\n",
            "[nltk_data]    | Downloading package punkt to /root/nltk_data...\n",
            "[nltk_data]    |   Package punkt is already up-to-date!\n",
            "[nltk_data]    | Downloading package book_grammars to\n",
            "[nltk_data]    |     /root/nltk_data...\n",
            "[nltk_data]    |   Package book_grammars is already up-to-date!\n",
            "[nltk_data]    | Downloading package sample_grammars to\n",
            "[nltk_data]    |     /root/nltk_data...\n",
            "[nltk_data]    |   Package sample_grammars is already up-to-date!\n",
            "[nltk_data]    | Downloading package spanish_grammars to\n",
            "[nltk_data]    |     /root/nltk_data...\n",
            "[nltk_data]    |   Package spanish_grammars is already up-to-date!\n",
            "[nltk_data]    | Downloading package basque_grammars to\n",
            "[nltk_data]    |     /root/nltk_data...\n",
            "[nltk_data]    |   Package basque_grammars is already up-to-date!\n",
            "[nltk_data]    | Downloading package large_grammars to\n",
            "[nltk_data]    |     /root/nltk_data...\n",
            "[nltk_data]    |   Package large_grammars is already up-to-date!\n",
            "[nltk_data]    | Downloading package tagsets to /root/nltk_data...\n",
            "[nltk_data]    |   Package tagsets is already up-to-date!\n",
            "[nltk_data]    | Downloading package snowball_data to\n",
            "[nltk_data]    |     /root/nltk_data...\n",
            "[nltk_data]    |   Package snowball_data is already up-to-date!\n",
            "[nltk_data]    | Downloading package bllip_wsj_no_aux to\n",
            "[nltk_data]    |     /root/nltk_data...\n",
            "[nltk_data]    |   Package bllip_wsj_no_aux is already up-to-date!\n",
            "[nltk_data]    | Downloading package word2vec_sample to\n",
            "[nltk_data]    |     /root/nltk_data...\n",
            "[nltk_data]    |   Package word2vec_sample is already up-to-date!\n",
            "[nltk_data]    | Downloading package panlex_swadesh to\n",
            "[nltk_data]    |     /root/nltk_data...\n",
            "[nltk_data]    |   Package panlex_swadesh is already up-to-date!\n",
            "[nltk_data]    | Downloading package mte_teip5 to /root/nltk_data...\n",
            "[nltk_data]    |   Package mte_teip5 is already up-to-date!\n",
            "[nltk_data]    | Downloading package averaged_perceptron_tagger to\n",
            "[nltk_data]    |     /root/nltk_data...\n",
            "[nltk_data]    |   Package averaged_perceptron_tagger is already up-\n",
            "[nltk_data]    |       to-date!\n",
            "[nltk_data]    | Downloading package averaged_perceptron_tagger_ru to\n",
            "[nltk_data]    |     /root/nltk_data...\n",
            "[nltk_data]    |   Package averaged_perceptron_tagger_ru is already\n",
            "[nltk_data]    |       up-to-date!\n",
            "[nltk_data]    | Downloading package perluniprops to\n",
            "[nltk_data]    |     /root/nltk_data...\n",
            "[nltk_data]    |   Package perluniprops is already up-to-date!\n",
            "[nltk_data]    | Downloading package nonbreaking_prefixes to\n",
            "[nltk_data]    |     /root/nltk_data...\n",
            "[nltk_data]    |   Package nonbreaking_prefixes is already up-to-date!\n",
            "[nltk_data]    | Downloading package vader_lexicon to\n",
            "[nltk_data]    |     /root/nltk_data...\n",
            "[nltk_data]    |   Package vader_lexicon is already up-to-date!\n",
            "[nltk_data]    | Downloading package porter_test to /root/nltk_data...\n",
            "[nltk_data]    |   Package porter_test is already up-to-date!\n",
            "[nltk_data]    | Downloading package wmt15_eval to /root/nltk_data...\n",
            "[nltk_data]    |   Package wmt15_eval is already up-to-date!\n",
            "[nltk_data]    | Downloading package mwa_ppdb to /root/nltk_data...\n",
            "[nltk_data]    |   Package mwa_ppdb is already up-to-date!\n",
            "[nltk_data]    | \n",
            "[nltk_data]  Done downloading collection all\n"
          ],
          "name": "stdout"
        },
        {
          "output_type": "error",
          "ename": "TypeError",
          "evalue": "ignored",
          "traceback": [
            "\u001b[0;31m---------------------------------------------------------------------------\u001b[0m",
            "\u001b[0;31mTypeError\u001b[0m                                 Traceback (most recent call last)",
            "\u001b[0;32m<ipython-input-16-48a41549fb71>\u001b[0m in \u001b[0;36m<module>\u001b[0;34m()\u001b[0m\n\u001b[1;32m      1\u001b[0m \u001b[0;32mimport\u001b[0m \u001b[0mnltk\u001b[0m\u001b[0;34m\u001b[0m\u001b[0;34m\u001b[0m\u001b[0m\n\u001b[1;32m      2\u001b[0m \u001b[0;34m\u001b[0m\u001b[0m\n\u001b[0;32m----> 3\u001b[0;31m \u001b[0mnltk\u001b[0m\u001b[0;34m(\u001b[0m\u001b[0mnltk\u001b[0m\u001b[0;34m.\u001b[0m\u001b[0mdownload\u001b[0m\u001b[0;34m(\u001b[0m\u001b[0;34m'all'\u001b[0m\u001b[0;34m)\u001b[0m\u001b[0;34m)\u001b[0m\u001b[0;34m\u001b[0m\u001b[0;34m\u001b[0m\u001b[0m\n\u001b[0m",
            "\u001b[0;31mTypeError\u001b[0m: 'module' object is not callable"
          ]
        }
      ]
    },
    {
      "cell_type": "code",
      "metadata": {
        "id": "N_TXLmP3-y9l",
        "colab_type": "code",
        "outputId": "a20d6468-4202-4e2c-a944-d5b289ff4ac6",
        "colab": {
          "base_uri": "https://localhost:8080/",
          "height": 102
        }
      },
      "source": [
        "nltk.download('punkt')\n",
        "nltk.download('wordnet')\n"
      ],
      "execution_count": 18,
      "outputs": [
        {
          "output_type": "stream",
          "text": [
            "[nltk_data] Downloading package punkt to /root/nltk_data...\n",
            "[nltk_data]   Package punkt is already up-to-date!\n",
            "[nltk_data] Downloading package wordnet to /root/nltk_data...\n",
            "[nltk_data]   Package wordnet is already up-to-date!\n"
          ],
          "name": "stdout"
        },
        {
          "output_type": "execute_result",
          "data": {
            "text/plain": [
              "True"
            ]
          },
          "metadata": {
            "tags": []
          },
          "execution_count": 18
        }
      ]
    },
    {
      "cell_type": "code",
      "metadata": {
        "id": "QMNUuT9C-Ue8",
        "colab_type": "code",
        "outputId": "b43c3432-3d81-4cba-bf94-246786f38c8d",
        "colab": {
          "base_uri": "https://localhost:8080/",
          "height": 122
        }
      },
      "source": [
        "import nltk\n",
        "import gensim\n",
        "from nltk.corpus import gutenberg\n",
        "\n",
        "from nltk.corpus import wordnet\n",
        "\n",
        "model= gensim.models.Word2Vec(gutenberg.sents())\n",
        "X= list(model.wv.vocab)\n",
        "data=model.most_similar('science')\n",
        "print(data)"
      ],
      "execution_count": 19,
      "outputs": [
        {
          "output_type": "stream",
          "text": [
            "[('disinterested', 0.8455296158790588), ('powerful', 0.839820146560669), ('contemptible', 0.8355181813240051), ('ambition', 0.8223700523376465), ('rare', 0.8219707608222961), ('scientific', 0.8184798359870911), ('romantic', 0.816957950592041), ('species', 0.8166199326515198), ('abominable', 0.8121931552886963), ('honourable', 0.8116869926452637)]\n"
          ],
          "name": "stdout"
        },
        {
          "output_type": "stream",
          "text": [
            "/usr/local/lib/python3.6/dist-packages/ipykernel_launcher.py:9: DeprecationWarning: Call to deprecated `most_similar` (Method will be removed in 4.0.0, use self.wv.most_similar() instead).\n",
            "  if __name__ == '__main__':\n",
            "/usr/local/lib/python3.6/dist-packages/gensim/matutils.py:737: FutureWarning: Conversion of the second argument of issubdtype from `int` to `np.signedinteger` is deprecated. In future, it will be treated as `np.int64 == np.dtype(int).type`.\n",
            "  if np.issubdtype(vec.dtype, np.int):\n"
          ],
          "name": "stderr"
        }
      ]
    },
    {
      "cell_type": "markdown",
      "metadata": {
        "id": "33RgaEY0jYsw",
        "colab_type": "text"
      },
      "source": [
        "# load pre-trained word-vectors from gensim-data\n",
        "https://radimrehurek.com/gensim/models/keyedvectors.html"
      ]
    },
    {
      "cell_type": "code",
      "metadata": {
        "id": "cH9hwURVjqMp",
        "colab_type": "code",
        "outputId": "610e9cb2-8cf5-4922-d3be-f80d8d49ef51",
        "colab": {
          "base_uri": "https://localhost:8080/",
          "height": 1000
        }
      },
      "source": [
        "import gensim.downloader as api\n",
        "\n",
        "import json\n",
        "info = api.info()\n",
        "print(json.dumps(info, indent=4))"
      ],
      "execution_count": 22,
      "outputs": [
        {
          "output_type": "stream",
          "text": [
            "{\n",
            "    \"corpora\": {\n",
            "        \"semeval-2016-2017-task3-subtaskBC\": {\n",
            "            \"num_records\": -1,\n",
            "            \"record_format\": \"dict\",\n",
            "            \"file_size\": 6344358,\n",
            "            \"reader_code\": \"https://github.com/RaRe-Technologies/gensim-data/releases/download/semeval-2016-2017-task3-subtaskB-eng/__init__.py\",\n",
            "            \"license\": \"All files released for the task are free for general research use\",\n",
            "            \"fields\": {\n",
            "                \"2016-train\": [\n",
            "                    \"...\"\n",
            "                ],\n",
            "                \"2016-dev\": [\n",
            "                    \"...\"\n",
            "                ],\n",
            "                \"2017-test\": [\n",
            "                    \"...\"\n",
            "                ],\n",
            "                \"2016-test\": [\n",
            "                    \"...\"\n",
            "                ]\n",
            "            },\n",
            "            \"description\": \"SemEval 2016 / 2017 Task 3 Subtask B and C datasets contain train+development (317 original questions, 3,169 related questions, and 31,690 comments), and test datasets in English. The description of the tasks and the collected data is given in sections 3 and 4.1 of the task paper http://alt.qcri.org/semeval2016/task3/data/uploads/semeval2016-task3-report.pdf linked in section \\u201cPapers\\u201d of https://github.com/RaRe-Technologies/gensim-data/issues/18.\",\n",
            "            \"checksum\": \"701ea67acd82e75f95e1d8e62fb0ad29\",\n",
            "            \"file_name\": \"semeval-2016-2017-task3-subtaskBC.gz\",\n",
            "            \"read_more\": [\n",
            "                \"http://alt.qcri.org/semeval2017/task3/\",\n",
            "                \"http://alt.qcri.org/semeval2017/task3/data/uploads/semeval2017-task3.pdf\",\n",
            "                \"https://github.com/RaRe-Technologies/gensim-data/issues/18\",\n",
            "                \"https://github.com/Witiko/semeval-2016_2017-task3-subtaskB-english\"\n",
            "            ],\n",
            "            \"parts\": 1\n",
            "        },\n",
            "        \"semeval-2016-2017-task3-subtaskA-unannotated\": {\n",
            "            \"num_records\": 189941,\n",
            "            \"record_format\": \"dict\",\n",
            "            \"file_size\": 234373151,\n",
            "            \"reader_code\": \"https://github.com/RaRe-Technologies/gensim-data/releases/download/semeval-2016-2017-task3-subtaskA-unannotated-eng/__init__.py\",\n",
            "            \"license\": \"These datasets are free for general research use.\",\n",
            "            \"fields\": {\n",
            "                \"THREAD_SEQUENCE\": \"\",\n",
            "                \"RelQuestion\": {\n",
            "                    \"RELQ_CATEGORY\": \"question category, according to the Qatar Living taxonomy\",\n",
            "                    \"RELQ_DATE\": \"date of posting\",\n",
            "                    \"RELQ_ID\": \"question indentifier\",\n",
            "                    \"RELQ_USERID\": \"identifier of the user asking the question\",\n",
            "                    \"RELQ_USERNAME\": \"name of the user asking the question\",\n",
            "                    \"RelQBody\": \"body of question\",\n",
            "                    \"RelQSubject\": \"subject of question\"\n",
            "                },\n",
            "                \"RelComments\": [\n",
            "                    {\n",
            "                        \"RelCText\": \"text of answer\",\n",
            "                        \"RELC_USERID\": \"identifier of the user posting the comment\",\n",
            "                        \"RELC_ID\": \"comment identifier\",\n",
            "                        \"RELC_USERNAME\": \"name of the user posting the comment\",\n",
            "                        \"RELC_DATE\": \"date of posting\"\n",
            "                    }\n",
            "                ]\n",
            "            },\n",
            "            \"description\": \"SemEval 2016 / 2017 Task 3 Subtask A unannotated dataset contains 189,941 questions and 1,894,456 comments in English collected from the Community Question Answering (CQA) web forum of Qatar Living. These can be used as a corpus for language modelling.\",\n",
            "            \"checksum\": \"2de0e2f2c4f91c66ae4fcf58d50ba816\",\n",
            "            \"file_name\": \"semeval-2016-2017-task3-subtaskA-unannotated.gz\",\n",
            "            \"read_more\": [\n",
            "                \"http://alt.qcri.org/semeval2016/task3/\",\n",
            "                \"http://alt.qcri.org/semeval2016/task3/data/uploads/semeval2016-task3-report.pdf\",\n",
            "                \"https://github.com/RaRe-Technologies/gensim-data/issues/18\",\n",
            "                \"https://github.com/Witiko/semeval-2016_2017-task3-subtaskA-unannotated-english\"\n",
            "            ],\n",
            "            \"parts\": 1\n",
            "        },\n",
            "        \"patent-2017\": {\n",
            "            \"num_records\": 353197,\n",
            "            \"record_format\": \"dict\",\n",
            "            \"file_size\": 3087262469,\n",
            "            \"reader_code\": \"https://github.com/RaRe-Technologies/gensim-data/releases/download/patent-2017/__init__.py\",\n",
            "            \"license\": \"not found\",\n",
            "            \"description\": \"Patent Grant Full Text. Contains the full text including tables, sequence data and 'in-line' mathematical expressions of each patent grant issued in 2017.\",\n",
            "            \"checksum-0\": \"818501f0b9af62d3b88294d86d509f8f\",\n",
            "            \"checksum-1\": \"66c05635c1d3c7a19b4a335829d09ffa\",\n",
            "            \"file_name\": \"patent-2017.gz\",\n",
            "            \"read_more\": [\n",
            "                \"http://patents.reedtech.com/pgrbft.php\"\n",
            "            ],\n",
            "            \"parts\": 2\n",
            "        },\n",
            "        \"quora-duplicate-questions\": {\n",
            "            \"num_records\": 404290,\n",
            "            \"record_format\": \"dict\",\n",
            "            \"file_size\": 21684784,\n",
            "            \"reader_code\": \"https://github.com/RaRe-Technologies/gensim-data/releases/download/quora-duplicate-questions/__init__.py\",\n",
            "            \"license\": \"probably https://www.quora.com/about/tos\",\n",
            "            \"fields\": {\n",
            "                \"question1\": \"the full text of each question\",\n",
            "                \"question2\": \"the full text of each question\",\n",
            "                \"qid1\": \"unique ids of each question\",\n",
            "                \"qid2\": \"unique ids of each question\",\n",
            "                \"id\": \"the id of a training set question pair\",\n",
            "                \"is_duplicate\": \"the target variable, set to 1 if question1 and question2 have essentially the same meaning, and 0 otherwise\"\n",
            "            },\n",
            "            \"description\": \"Over 400,000 lines of potential question duplicate pairs. Each line contains IDs for each question in the pair, the full text for each question, and a binary value that indicates whether the line contains a duplicate pair or not.\",\n",
            "            \"checksum\": \"d7cfa7fbc6e2ec71ab74c495586c6365\",\n",
            "            \"file_name\": \"quora-duplicate-questions.gz\",\n",
            "            \"read_more\": [\n",
            "                \"https://data.quora.com/First-Quora-Dataset-Release-Question-Pairs\"\n",
            "            ],\n",
            "            \"parts\": 1\n",
            "        },\n",
            "        \"wiki-english-20171001\": {\n",
            "            \"num_records\": 4924894,\n",
            "            \"record_format\": \"dict\",\n",
            "            \"file_size\": 6516051717,\n",
            "            \"reader_code\": \"https://github.com/RaRe-Technologies/gensim-data/releases/download/wiki-english-20171001/__init__.py\",\n",
            "            \"license\": \"https://dumps.wikimedia.org/legal.html\",\n",
            "            \"fields\": {\n",
            "                \"section_texts\": \"list of body of sections\",\n",
            "                \"section_titles\": \"list of titles of sections\",\n",
            "                \"title\": \"Title of wiki article\"\n",
            "            },\n",
            "            \"description\": \"Extracted Wikipedia dump from October 2017. Produced by `python -m gensim.scripts.segment_wiki -f enwiki-20171001-pages-articles.xml.bz2 -o wiki-en.gz`\",\n",
            "            \"checksum-0\": \"a7d7d7fd41ea7e2d7fa32ec1bb640d71\",\n",
            "            \"checksum-1\": \"b2683e3356ffbca3b6c2dca6e9801f9f\",\n",
            "            \"checksum-2\": \"c5cde2a9ae77b3c4ebce804f6df542c2\",\n",
            "            \"checksum-3\": \"00b71144ed5e3aeeb885de84f7452b81\",\n",
            "            \"file_name\": \"wiki-english-20171001.gz\",\n",
            "            \"read_more\": [\n",
            "                \"https://dumps.wikimedia.org/enwiki/20171001/\"\n",
            "            ],\n",
            "            \"parts\": 4\n",
            "        },\n",
            "        \"text8\": {\n",
            "            \"num_records\": 1701,\n",
            "            \"record_format\": \"list of str (tokens)\",\n",
            "            \"file_size\": 33182058,\n",
            "            \"reader_code\": \"https://github.com/RaRe-Technologies/gensim-data/releases/download/text8/__init__.py\",\n",
            "            \"license\": \"not found\",\n",
            "            \"description\": \"First 100,000,000 bytes of plain text from Wikipedia. Used for testing purposes; see wiki-english-* for proper full Wikipedia datasets.\",\n",
            "            \"checksum\": \"68799af40b6bda07dfa47a32612e5364\",\n",
            "            \"file_name\": \"text8.gz\",\n",
            "            \"read_more\": [\n",
            "                \"http://mattmahoney.net/dc/textdata.html\"\n",
            "            ],\n",
            "            \"parts\": 1\n",
            "        },\n",
            "        \"fake-news\": {\n",
            "            \"num_records\": 12999,\n",
            "            \"record_format\": \"dict\",\n",
            "            \"file_size\": 20102776,\n",
            "            \"reader_code\": \"https://github.com/RaRe-Technologies/gensim-data/releases/download/fake-news/__init__.py\",\n",
            "            \"license\": \"https://creativecommons.org/publicdomain/zero/1.0/\",\n",
            "            \"fields\": {\n",
            "                \"crawled\": \"date the story was archived\",\n",
            "                \"ord_in_thread\": \"\",\n",
            "                \"published\": \"date published\",\n",
            "                \"participants_count\": \"number of participants\",\n",
            "                \"shares\": \"number of Facebook shares\",\n",
            "                \"replies_count\": \"number of replies\",\n",
            "                \"main_img_url\": \"image from story\",\n",
            "                \"spam_score\": \"data from webhose.io\",\n",
            "                \"uuid\": \"unique identifier\",\n",
            "                \"language\": \"data from webhose.io\",\n",
            "                \"title\": \"title of story\",\n",
            "                \"country\": \"data from webhose.io\",\n",
            "                \"domain_rank\": \"data from webhose.io\",\n",
            "                \"author\": \"author of story\",\n",
            "                \"comments\": \"number of Facebook comments\",\n",
            "                \"site_url\": \"site URL from BS detector\",\n",
            "                \"text\": \"text of story\",\n",
            "                \"thread_title\": \"\",\n",
            "                \"type\": \"type of website (label from BS detector)\",\n",
            "                \"likes\": \"number of Facebook likes\"\n",
            "            },\n",
            "            \"description\": \"News dataset, contains text and metadata from 244 websites and represents 12,999 posts in total from a specific window of 30 days. The data was pulled using the webhose.io API, and because it's coming from their crawler, not all websites identified by their BS Detector are present in this dataset. Data sources that were missing a label were simply assigned a label of 'bs'. There are (ostensibly) no genuine, reliable, or trustworthy news sources represented in this dataset (so far), so don't trust anything you read.\",\n",
            "            \"checksum\": \"5e64e942df13219465927f92dcefd5fe\",\n",
            "            \"file_name\": \"fake-news.gz\",\n",
            "            \"read_more\": [\n",
            "                \"https://www.kaggle.com/mrisdal/fake-news\"\n",
            "            ],\n",
            "            \"parts\": 1\n",
            "        },\n",
            "        \"20-newsgroups\": {\n",
            "            \"num_records\": 18846,\n",
            "            \"record_format\": \"dict\",\n",
            "            \"file_size\": 14483581,\n",
            "            \"reader_code\": \"https://github.com/RaRe-Technologies/gensim-data/releases/download/20-newsgroups/__init__.py\",\n",
            "            \"license\": \"not found\",\n",
            "            \"fields\": {\n",
            "                \"topic\": \"name of topic (20 variant of possible values)\",\n",
            "                \"set\": \"marker of original split (possible values 'train' and 'test')\",\n",
            "                \"data\": \"\",\n",
            "                \"id\": \"original id inferred from folder name\"\n",
            "            },\n",
            "            \"description\": \"The notorious collection of approximately 20,000 newsgroup posts, partitioned (nearly) evenly across 20 different newsgroups.\",\n",
            "            \"checksum\": \"c92fd4f6640a86d5ba89eaad818a9891\",\n",
            "            \"file_name\": \"20-newsgroups.gz\",\n",
            "            \"read_more\": [\n",
            "                \"http://qwone.com/~jason/20Newsgroups/\"\n",
            "            ],\n",
            "            \"parts\": 1\n",
            "        },\n",
            "        \"__testing_matrix-synopsis\": {\n",
            "            \"description\": \"[THIS IS ONLY FOR TESTING] Synopsis of the movie matrix.\",\n",
            "            \"checksum\": \"1767ac93a089b43899d54944b07d9dc5\",\n",
            "            \"file_name\": \"__testing_matrix-synopsis.gz\",\n",
            "            \"read_more\": [\n",
            "                \"http://www.imdb.com/title/tt0133093/plotsummary?ref_=ttpl_pl_syn#synopsis\"\n",
            "            ],\n",
            "            \"parts\": 1\n",
            "        },\n",
            "        \"__testing_multipart-matrix-synopsis\": {\n",
            "            \"description\": \"[THIS IS ONLY FOR TESTING] Synopsis of the movie matrix.\",\n",
            "            \"checksum-0\": \"c8b0c7d8cf562b1b632c262a173ac338\",\n",
            "            \"checksum-1\": \"5ff7fc6818e9a5d9bc1cf12c35ed8b96\",\n",
            "            \"checksum-2\": \"966db9d274d125beaac7987202076cba\",\n",
            "            \"file_name\": \"__testing_multipart-matrix-synopsis.gz\",\n",
            "            \"read_more\": [\n",
            "                \"http://www.imdb.com/title/tt0133093/plotsummary?ref_=ttpl_pl_syn#synopsis\"\n",
            "            ],\n",
            "            \"parts\": 3\n",
            "        }\n",
            "    },\n",
            "    \"models\": {\n",
            "        \"fasttext-wiki-news-subwords-300\": {\n",
            "            \"num_records\": 999999,\n",
            "            \"file_size\": 1005007116,\n",
            "            \"base_dataset\": \"Wikipedia 2017, UMBC webbase corpus and statmt.org news dataset (16B tokens)\",\n",
            "            \"reader_code\": \"https://github.com/RaRe-Technologies/gensim-data/releases/download/fasttext-wiki-news-subwords-300/__init__.py\",\n",
            "            \"license\": \"https://creativecommons.org/licenses/by-sa/3.0/\",\n",
            "            \"parameters\": {\n",
            "                \"dimension\": 300\n",
            "            },\n",
            "            \"description\": \"1 million word vectors trained on Wikipedia 2017, UMBC webbase corpus and statmt.org news dataset (16B tokens).\",\n",
            "            \"read_more\": [\n",
            "                \"https://fasttext.cc/docs/en/english-vectors.html\",\n",
            "                \"https://arxiv.org/abs/1712.09405\",\n",
            "                \"https://arxiv.org/abs/1607.01759\"\n",
            "            ],\n",
            "            \"checksum\": \"de2bb3a20c46ce65c9c131e1ad9a77af\",\n",
            "            \"file_name\": \"fasttext-wiki-news-subwords-300.gz\",\n",
            "            \"parts\": 1\n",
            "        },\n",
            "        \"conceptnet-numberbatch-17-06-300\": {\n",
            "            \"num_records\": 1917247,\n",
            "            \"file_size\": 1225497562,\n",
            "            \"base_dataset\": \"ConceptNet, word2vec, GloVe, and OpenSubtitles 2016\",\n",
            "            \"reader_code\": \"https://github.com/RaRe-Technologies/gensim-data/releases/download/conceptnet-numberbatch-17-06-300/__init__.py\",\n",
            "            \"license\": \"https://github.com/commonsense/conceptnet-numberbatch/blob/master/LICENSE.txt\",\n",
            "            \"parameters\": {\n",
            "                \"dimension\": 300\n",
            "            },\n",
            "            \"description\": \"ConceptNet Numberbatch consists of state-of-the-art semantic vectors (also known as word embeddings) that can be used directly as a representation of word meanings or as a starting point for further machine learning. ConceptNet Numberbatch is part of the ConceptNet open data project. ConceptNet provides lots of ways to compute with word meanings, one of which is word embeddings. ConceptNet Numberbatch is a snapshot of just the word embeddings. It is built using an ensemble that combines data from ConceptNet, word2vec, GloVe, and OpenSubtitles 2016, using a variation on retrofitting.\",\n",
            "            \"read_more\": [\n",
            "                \"http://aaai.org/ocs/index.php/AAAI/AAAI17/paper/view/14972\",\n",
            "                \"https://github.com/commonsense/conceptnet-numberbatch\",\n",
            "                \"http://conceptnet.io/\"\n",
            "            ],\n",
            "            \"checksum\": \"fd642d457adcd0ea94da0cd21b150847\",\n",
            "            \"file_name\": \"conceptnet-numberbatch-17-06-300.gz\",\n",
            "            \"parts\": 1\n",
            "        },\n",
            "        \"word2vec-ruscorpora-300\": {\n",
            "            \"num_records\": 184973,\n",
            "            \"file_size\": 208427381,\n",
            "            \"base_dataset\": \"Russian National Corpus (about 250M words)\",\n",
            "            \"reader_code\": \"https://github.com/RaRe-Technologies/gensim-data/releases/download/word2vec-ruscorpora-300/__init__.py\",\n",
            "            \"license\": \"https://creativecommons.org/licenses/by/4.0/deed.en\",\n",
            "            \"parameters\": {\n",
            "                \"dimension\": 300,\n",
            "                \"window_size\": 10\n",
            "            },\n",
            "            \"description\": \"Word2vec Continuous Skipgram vectors trained on full Russian National Corpus (about 250M words). The model contains 185K words.\",\n",
            "            \"preprocessing\": \"The corpus was lemmatized and tagged with Universal PoS\",\n",
            "            \"read_more\": [\n",
            "                \"https://www.academia.edu/24306935/WebVectors_a_Toolkit_for_Building_Web_Interfaces_for_Vector_Semantic_Models\",\n",
            "                \"http://rusvectores.org/en/\",\n",
            "                \"https://github.com/RaRe-Technologies/gensim-data/issues/3\"\n",
            "            ],\n",
            "            \"checksum\": \"9bdebdc8ae6d17d20839dd9b5af10bc4\",\n",
            "            \"file_name\": \"word2vec-ruscorpora-300.gz\",\n",
            "            \"parts\": 1\n",
            "        },\n",
            "        \"word2vec-google-news-300\": {\n",
            "            \"num_records\": 3000000,\n",
            "            \"file_size\": 1743563840,\n",
            "            \"base_dataset\": \"Google News (about 100 billion words)\",\n",
            "            \"reader_code\": \"https://github.com/RaRe-Technologies/gensim-data/releases/download/word2vec-google-news-300/__init__.py\",\n",
            "            \"license\": \"not found\",\n",
            "            \"parameters\": {\n",
            "                \"dimension\": 300\n",
            "            },\n",
            "            \"description\": \"Pre-trained vectors trained on a part of the Google News dataset (about 100 billion words). The model contains 300-dimensional vectors for 3 million words and phrases. The phrases were obtained using a simple data-driven approach described in 'Distributed Representations of Words and Phrases and their Compositionality' (https://code.google.com/archive/p/word2vec/).\",\n",
            "            \"read_more\": [\n",
            "                \"https://code.google.com/archive/p/word2vec/\",\n",
            "                \"https://arxiv.org/abs/1301.3781\",\n",
            "                \"https://arxiv.org/abs/1310.4546\",\n",
            "                \"https://www.microsoft.com/en-us/research/publication/linguistic-regularities-in-continuous-space-word-representations/?from=http%3A%2F%2Fresearch.microsoft.com%2Fpubs%2F189726%2Frvecs.pdf\"\n",
            "            ],\n",
            "            \"checksum\": \"a5e5354d40acb95f9ec66d5977d140ef\",\n",
            "            \"file_name\": \"word2vec-google-news-300.gz\",\n",
            "            \"parts\": 1\n",
            "        },\n",
            "        \"glove-wiki-gigaword-50\": {\n",
            "            \"num_records\": 400000,\n",
            "            \"file_size\": 69182535,\n",
            "            \"base_dataset\": \"Wikipedia 2014 + Gigaword 5 (6B tokens, uncased)\",\n",
            "            \"reader_code\": \"https://github.com/RaRe-Technologies/gensim-data/releases/download/glove-wiki-gigaword-50/__init__.py\",\n",
            "            \"license\": \"http://opendatacommons.org/licenses/pddl/\",\n",
            "            \"parameters\": {\n",
            "                \"dimension\": 50\n",
            "            },\n",
            "            \"description\": \"Pre-trained vectors based on Wikipedia 2014 + Gigaword, 5.6B tokens, 400K vocab, uncased (https://nlp.stanford.edu/projects/glove/).\",\n",
            "            \"preprocessing\": \"Converted to w2v format with `python -m gensim.scripts.glove2word2vec -i <fname> -o glove-wiki-gigaword-50.txt`.\",\n",
            "            \"read_more\": [\n",
            "                \"https://nlp.stanford.edu/projects/glove/\",\n",
            "                \"https://nlp.stanford.edu/pubs/glove.pdf\"\n",
            "            ],\n",
            "            \"checksum\": \"c289bc5d7f2f02c6dc9f2f9b67641813\",\n",
            "            \"file_name\": \"glove-wiki-gigaword-50.gz\",\n",
            "            \"parts\": 1\n",
            "        },\n",
            "        \"glove-wiki-gigaword-100\": {\n",
            "            \"num_records\": 400000,\n",
            "            \"file_size\": 134300434,\n",
            "            \"base_dataset\": \"Wikipedia 2014 + Gigaword 5 (6B tokens, uncased)\",\n",
            "            \"reader_code\": \"https://github.com/RaRe-Technologies/gensim-data/releases/download/glove-wiki-gigaword-100/__init__.py\",\n",
            "            \"license\": \"http://opendatacommons.org/licenses/pddl/\",\n",
            "            \"parameters\": {\n",
            "                \"dimension\": 100\n",
            "            },\n",
            "            \"description\": \"Pre-trained vectors based on Wikipedia 2014 + Gigaword 5.6B tokens, 400K vocab, uncased (https://nlp.stanford.edu/projects/glove/).\",\n",
            "            \"preprocessing\": \"Converted to w2v format with `python -m gensim.scripts.glove2word2vec -i <fname> -o glove-wiki-gigaword-100.txt`.\",\n",
            "            \"read_more\": [\n",
            "                \"https://nlp.stanford.edu/projects/glove/\",\n",
            "                \"https://nlp.stanford.edu/pubs/glove.pdf\"\n",
            "            ],\n",
            "            \"checksum\": \"40ec481866001177b8cd4cb0df92924f\",\n",
            "            \"file_name\": \"glove-wiki-gigaword-100.gz\",\n",
            "            \"parts\": 1\n",
            "        },\n",
            "        \"glove-wiki-gigaword-200\": {\n",
            "            \"num_records\": 400000,\n",
            "            \"file_size\": 264336934,\n",
            "            \"base_dataset\": \"Wikipedia 2014 + Gigaword 5 (6B tokens, uncased)\",\n",
            "            \"reader_code\": \"https://github.com/RaRe-Technologies/gensim-data/releases/download/glove-wiki-gigaword-200/__init__.py\",\n",
            "            \"license\": \"http://opendatacommons.org/licenses/pddl/\",\n",
            "            \"parameters\": {\n",
            "                \"dimension\": 200\n",
            "            },\n",
            "            \"description\": \"Pre-trained vectors based on Wikipedia 2014 + Gigaword, 5.6B tokens, 400K vocab, uncased (https://nlp.stanford.edu/projects/glove/).\",\n",
            "            \"preprocessing\": \"Converted to w2v format with `python -m gensim.scripts.glove2word2vec -i <fname> -o glove-wiki-gigaword-200.txt`.\",\n",
            "            \"read_more\": [\n",
            "                \"https://nlp.stanford.edu/projects/glove/\",\n",
            "                \"https://nlp.stanford.edu/pubs/glove.pdf\"\n",
            "            ],\n",
            "            \"checksum\": \"59652db361b7a87ee73834a6c391dfc1\",\n",
            "            \"file_name\": \"glove-wiki-gigaword-200.gz\",\n",
            "            \"parts\": 1\n",
            "        },\n",
            "        \"glove-wiki-gigaword-300\": {\n",
            "            \"num_records\": 400000,\n",
            "            \"file_size\": 394362229,\n",
            "            \"base_dataset\": \"Wikipedia 2014 + Gigaword 5 (6B tokens, uncased)\",\n",
            "            \"reader_code\": \"https://github.com/RaRe-Technologies/gensim-data/releases/download/glove-wiki-gigaword-300/__init__.py\",\n",
            "            \"license\": \"http://opendatacommons.org/licenses/pddl/\",\n",
            "            \"parameters\": {\n",
            "                \"dimension\": 300\n",
            "            },\n",
            "            \"description\": \"Pre-trained vectors based on Wikipedia 2014 + Gigaword, 5.6B tokens, 400K vocab, uncased (https://nlp.stanford.edu/projects/glove/).\",\n",
            "            \"preprocessing\": \"Converted to w2v format with `python -m gensim.scripts.glove2word2vec -i <fname> -o glove-wiki-gigaword-300.txt`.\",\n",
            "            \"read_more\": [\n",
            "                \"https://nlp.stanford.edu/projects/glove/\",\n",
            "                \"https://nlp.stanford.edu/pubs/glove.pdf\"\n",
            "            ],\n",
            "            \"checksum\": \"29e9329ac2241937d55b852e8284e89b\",\n",
            "            \"file_name\": \"glove-wiki-gigaword-300.gz\",\n",
            "            \"parts\": 1\n",
            "        },\n",
            "        \"glove-twitter-25\": {\n",
            "            \"num_records\": 1193514,\n",
            "            \"file_size\": 109885004,\n",
            "            \"base_dataset\": \"Twitter (2B tweets, 27B tokens, 1.2M vocab, uncased)\",\n",
            "            \"reader_code\": \"https://github.com/RaRe-Technologies/gensim-data/releases/download/glove-twitter-25/__init__.py\",\n",
            "            \"license\": \"http://opendatacommons.org/licenses/pddl/\",\n",
            "            \"parameters\": {\n",
            "                \"dimension\": 25\n",
            "            },\n",
            "            \"description\": \"Pre-trained vectors based on 2B tweets, 27B tokens, 1.2M vocab, uncased (https://nlp.stanford.edu/projects/glove/).\",\n",
            "            \"preprocessing\": \"Converted to w2v format with `python -m gensim.scripts.glove2word2vec -i <fname> -o glove-twitter-25.txt`.\",\n",
            "            \"read_more\": [\n",
            "                \"https://nlp.stanford.edu/projects/glove/\",\n",
            "                \"https://nlp.stanford.edu/pubs/glove.pdf\"\n",
            "            ],\n",
            "            \"checksum\": \"50db0211d7e7a2dcd362c6b774762793\",\n",
            "            \"file_name\": \"glove-twitter-25.gz\",\n",
            "            \"parts\": 1\n",
            "        },\n",
            "        \"glove-twitter-50\": {\n",
            "            \"num_records\": 1193514,\n",
            "            \"file_size\": 209216938,\n",
            "            \"base_dataset\": \"Twitter (2B tweets, 27B tokens, 1.2M vocab, uncased)\",\n",
            "            \"reader_code\": \"https://github.com/RaRe-Technologies/gensim-data/releases/download/glove-twitter-50/__init__.py\",\n",
            "            \"license\": \"http://opendatacommons.org/licenses/pddl/\",\n",
            "            \"parameters\": {\n",
            "                \"dimension\": 50\n",
            "            },\n",
            "            \"description\": \"Pre-trained vectors based on 2B tweets, 27B tokens, 1.2M vocab, uncased (https://nlp.stanford.edu/projects/glove/)\",\n",
            "            \"preprocessing\": \"Converted to w2v format with `python -m gensim.scripts.glove2word2vec -i <fname> -o glove-twitter-50.txt`.\",\n",
            "            \"read_more\": [\n",
            "                \"https://nlp.stanford.edu/projects/glove/\",\n",
            "                \"https://nlp.stanford.edu/pubs/glove.pdf\"\n",
            "            ],\n",
            "            \"checksum\": \"c168f18641f8c8a00fe30984c4799b2b\",\n",
            "            \"file_name\": \"glove-twitter-50.gz\",\n",
            "            \"parts\": 1\n",
            "        },\n",
            "        \"glove-twitter-100\": {\n",
            "            \"num_records\": 1193514,\n",
            "            \"file_size\": 405932991,\n",
            "            \"base_dataset\": \"Twitter (2B tweets, 27B tokens, 1.2M vocab, uncased)\",\n",
            "            \"reader_code\": \"https://github.com/RaRe-Technologies/gensim-data/releases/download/glove-twitter-100/__init__.py\",\n",
            "            \"license\": \"http://opendatacommons.org/licenses/pddl/\",\n",
            "            \"parameters\": {\n",
            "                \"dimension\": 100\n",
            "            },\n",
            "            \"description\": \"Pre-trained vectors based on  2B tweets, 27B tokens, 1.2M vocab, uncased (https://nlp.stanford.edu/projects/glove/)\",\n",
            "            \"preprocessing\": \"Converted to w2v format with `python -m gensim.scripts.glove2word2vec -i <fname> -o glove-twitter-100.txt`.\",\n",
            "            \"read_more\": [\n",
            "                \"https://nlp.stanford.edu/projects/glove/\",\n",
            "                \"https://nlp.stanford.edu/pubs/glove.pdf\"\n",
            "            ],\n",
            "            \"checksum\": \"b04f7bed38756d64cf55b58ce7e97b15\",\n",
            "            \"file_name\": \"glove-twitter-100.gz\",\n",
            "            \"parts\": 1\n",
            "        },\n",
            "        \"glove-twitter-200\": {\n",
            "            \"num_records\": 1193514,\n",
            "            \"file_size\": 795373100,\n",
            "            \"base_dataset\": \"Twitter (2B tweets, 27B tokens, 1.2M vocab, uncased)\",\n",
            "            \"reader_code\": \"https://github.com/RaRe-Technologies/gensim-data/releases/download/glove-twitter-200/__init__.py\",\n",
            "            \"license\": \"http://opendatacommons.org/licenses/pddl/\",\n",
            "            \"parameters\": {\n",
            "                \"dimension\": 200\n",
            "            },\n",
            "            \"description\": \"Pre-trained vectors based on 2B tweets, 27B tokens, 1.2M vocab, uncased (https://nlp.stanford.edu/projects/glove/).\",\n",
            "            \"preprocessing\": \"Converted to w2v format with `python -m gensim.scripts.glove2word2vec -i <fname> -o glove-twitter-200.txt`.\",\n",
            "            \"read_more\": [\n",
            "                \"https://nlp.stanford.edu/projects/glove/\",\n",
            "                \"https://nlp.stanford.edu/pubs/glove.pdf\"\n",
            "            ],\n",
            "            \"checksum\": \"e52e8392d1860b95d5308a525817d8f9\",\n",
            "            \"file_name\": \"glove-twitter-200.gz\",\n",
            "            \"parts\": 1\n",
            "        },\n",
            "        \"__testing_word2vec-matrix-synopsis\": {\n",
            "            \"description\": \"[THIS IS ONLY FOR TESTING] Word vecrors of the movie matrix.\",\n",
            "            \"parameters\": {\n",
            "                \"dimensions\": 50\n",
            "            },\n",
            "            \"preprocessing\": \"Converted to w2v using a preprocessed corpus. Converted to w2v format with `python3.5 -m gensim.models.word2vec -train <input_filename> -iter 50 -output <output_filename>`.\",\n",
            "            \"read_more\": [],\n",
            "            \"checksum\": \"534dcb8b56a360977a269b7bfc62d124\",\n",
            "            \"file_name\": \"__testing_word2vec-matrix-synopsis.gz\",\n",
            "            \"parts\": 1\n",
            "        }\n",
            "    }\n",
            "}\n"
          ],
          "name": "stdout"
        }
      ]
    },
    {
      "cell_type": "code",
      "metadata": {
        "id": "mBhy82u9iCAO",
        "colab_type": "code",
        "outputId": "f945f158-a376-4408-edf2-b5295211df24",
        "colab": {
          "base_uri": "https://localhost:8080/",
          "height": 88
        }
      },
      "source": [
        "word_vectors = api.load(\"glove-wiki-gigaword-300\") "
      ],
      "execution_count": 23,
      "outputs": [
        {
          "output_type": "stream",
          "text": [
            "[==================================================] 100.0% 376.1/376.1MB downloaded\n"
          ],
          "name": "stdout"
        },
        {
          "output_type": "stream",
          "text": [
            "/usr/local/lib/python3.6/dist-packages/smart_open/smart_open_lib.py:253: UserWarning: This function is deprecated, use smart_open.open instead. See the migration notes for details: https://github.com/RaRe-Technologies/smart_open/blob/master/README.rst#migrating-to-the-new-open-function\n",
            "  'See the migration notes for details: %s' % _MIGRATION_NOTES_URL\n"
          ],
          "name": "stderr"
        }
      ]
    },
    {
      "cell_type": "code",
      "metadata": {
        "id": "S4CX9iWWi89M",
        "colab_type": "code",
        "outputId": "0badac83-9d83-4619-fd8f-02ea4c2c611f",
        "colab": {
          "base_uri": "https://localhost:8080/",
          "height": 105
        }
      },
      "source": [
        "result = word_vectors.most_similar(positive=['woman', 'king'], negative=['man'])\n",
        "print(\"{}: {:.4f}\".format(*result[0]))\n",
        "print(result)"
      ],
      "execution_count": 34,
      "outputs": [
        {
          "output_type": "stream",
          "text": [
            "queen: 0.6713\n",
            "[('queen', 0.6713277101516724), ('princess', 0.5432624220848083), ('throne', 0.5386104583740234), ('monarch', 0.5347574949264526), ('daughter', 0.498025119304657), ('mother', 0.4956442713737488), ('elizabeth', 0.4832652509212494), ('kingdom', 0.47747087478637695), ('prince', 0.4668239951133728), ('wife', 0.4647327661514282)]\n"
          ],
          "name": "stdout"
        },
        {
          "output_type": "stream",
          "text": [
            "/usr/local/lib/python3.6/dist-packages/gensim/matutils.py:737: FutureWarning: Conversion of the second argument of issubdtype from `int` to `np.signedinteger` is deprecated. In future, it will be treated as `np.int64 == np.dtype(int).type`.\n",
            "  if np.issubdtype(vec.dtype, np.int):\n"
          ],
          "name": "stderr"
        }
      ]
    },
    {
      "cell_type": "code",
      "metadata": {
        "id": "E3Pxv5sajGwj",
        "colab_type": "code",
        "outputId": "6ef837d8-6a7b-4d67-a980-ad6ff826c6d2",
        "colab": {
          "base_uri": "https://localhost:8080/",
          "height": 71
        }
      },
      "source": [
        "result = word_vectors.most_similar_cosmul(positive=['woman', 'king'], negative=['man'])\n",
        "print(\"{}: {:.4f}\".format(*result[0]))\n",
        "\n",
        "print(result)"
      ],
      "execution_count": 25,
      "outputs": [
        {
          "output_type": "stream",
          "text": [
            "queen: 0.9199\n",
            "[('queen', 0.9199351072311401), ('princess', 0.8403170108795166), ('throne', 0.8287888765335083), ('monarch', 0.8201609253883362), ('elizabeth', 0.8025429248809814), ('daughter', 0.7933654189109802), ('mother', 0.7825508117675781), ('kalākaua', 0.7787636518478394), ('kingdom', 0.777129590511322), ('wife', 0.7694059610366821)]\n"
          ],
          "name": "stdout"
        }
      ]
    },
    {
      "cell_type": "code",
      "metadata": {
        "id": "W8eHyvfmmZt1",
        "colab_type": "code",
        "outputId": "646202ac-05bc-4dbf-df8b-05dda9ca0bda",
        "colab": {
          "base_uri": "https://localhost:8080/",
          "height": 156
        }
      },
      "source": [
        "result = word_vectors.most_similar_cosmul(positive=[ 'paris', 'germany'], negative=['france'])\n",
        "print(\"{}: {:.4f}\".format(*result[0]))\n",
        "\n",
        "print(result)\n",
        "\n",
        "#France is to Paris as Germany is to:\n",
        "sim = word_vectors.similar_by_vector(word_vectors['paris']-word_vectors['france']+word_vectors['germany'])\n",
        "print(\"{}: {:.4f}\".format(*sim[0]))\n",
        "\n",
        "print(sim)\n",
        "\n",
        "print(len(word_vectors['hof']))"
      ],
      "execution_count": 41,
      "outputs": [
        {
          "output_type": "stream",
          "text": [
            "berlin: 0.9907\n",
            "[('berlin', 0.9906642436981201), ('frankfurt', 0.9340233206748962), ('munich', 0.8888449668884277), ('cologne', 0.8813262581825256), ('bonn', 0.8785525560379028), ('vienna', 0.8671213388442993), ('leipzig', 0.8619391322135925), ('hamburg', 0.8586714267730713), ('dresden', 0.8390956521034241), ('stuttgart', 0.8372994065284729)]\n",
            "berlin: 0.8082\n",
            "[('berlin', 0.8082348108291626), ('frankfurt', 0.718215823173523), ('germany', 0.6976348161697388), ('munich', 0.6616809368133545), ('cologne', 0.638824462890625), ('bonn', 0.6297187209129333), ('vienna', 0.6096600294113159), ('hamburg', 0.6015803813934326), ('leipzig', 0.5951980352401733), ('german', 0.5929442644119263)]\n",
            "300\n"
          ],
          "name": "stdout"
        },
        {
          "output_type": "stream",
          "text": [
            "/usr/local/lib/python3.6/dist-packages/gensim/matutils.py:737: FutureWarning: Conversion of the second argument of issubdtype from `int` to `np.signedinteger` is deprecated. In future, it will be treated as `np.int64 == np.dtype(int).type`.\n",
            "  if np.issubdtype(vec.dtype, np.int):\n"
          ],
          "name": "stderr"
        }
      ]
    },
    {
      "cell_type": "code",
      "metadata": {
        "id": "ig7c7Ia_sXJY",
        "colab_type": "code",
        "outputId": "a8c080e1-c688-443f-a436-91a977561f0e",
        "colab": {
          "base_uri": "https://localhost:8080/",
          "height": 105
        }
      },
      "source": [
        "result = word_vectors.most_similar_cosmul(positive=[ 'human', 'dinosaur'], negative=['monkey'])\n",
        "print(\"{}: {:.4f}\".format(*result[0]))\n",
        "\n",
        "print(result)\n",
        "\n",
        "#monkey:human::dinosaur:[fossil, fossilized, Ice_Age_mammals, fossilization]\n",
        "#Humans are fossilized monkeys? Humans are what's left\n",
        "#over from mon![alt text](https://)keys? Humans are the species that beat monkeys\n",
        "#just as Ice Age mammals beat dinosaurs? Plausible.\n",
        "\n",
        "#building:architect::software:[programmer, SecurityCenter, WinPcap]\n",
        "\n",
        "result = word_vectors.most_similar_cosmul(positive=[ 'architect', 'software'], negative=['building'])\n",
        "print(\"{}: {:.4f}\".format(*result[0]))\n",
        "\n",
        "print(result)"
      ],
      "execution_count": 27,
      "outputs": [
        {
          "output_type": "stream",
          "text": [
            "fossils: 0.9267\n",
            "[('fossils', 0.9267341494560242), ('commission', 0.902690052986145), ('fossil', 0.8995264768600464), ('fossilized', 0.8591017723083496), ('graves', 0.8443430066108704), ('rights', 0.8341718316078186), ('documented', 0.8333224058151245), ('grave', 0.8316300511360168), ('experts', 0.8258289694786072), ('skeletons', 0.8244320154190063)]\n",
            "programmer: 1.0158\n",
            "[('programmer', 1.0157649517059326), ('content-control', 0.8603453040122986), ('designer', 0.8441733717918396), ('animator', 0.8329057097434998), ('browser', 0.8276143670082092), ('netscape', 0.8257592916488647), ('illustrator', 0.8253690004348755), ('autodesk', 0.8252367377281189), ('inventor', 0.8230858445167542), ('novell', 0.8200629353523254)]\n"
          ],
          "name": "stdout"
        }
      ]
    },
    {
      "cell_type": "code",
      "metadata": {
        "id": "HCGt_MYUlQI0",
        "colab_type": "code",
        "outputId": "feb3ade9-dffe-419f-a028-0fbd2962499b",
        "colab": {
          "base_uri": "https://localhost:8080/",
          "height": 173
        }
      },
      "source": [
        "print(word_vectors.doesnt_match(\"breakfast cereal dinner lunch\".split()))\n",
        "print(word_vectors.doesnt_match(\"audi bmw vw\".split()))\n",
        "print(word_vectors.doesnt_match(\"fiat skoda vw audi\".split()))\n",
        "print(word_vectors.doesnt_match(\"schalke meisterschaft bayern\".split()))"
      ],
      "execution_count": 43,
      "outputs": [
        {
          "output_type": "stream",
          "text": [
            "cereal\n",
            "vw\n",
            "fiat\n",
            "meisterschaft\n"
          ],
          "name": "stdout"
        },
        {
          "output_type": "stream",
          "text": [
            "/usr/local/lib/python3.6/dist-packages/gensim/models/keyedvectors.py:895: FutureWarning: arrays to stack must be passed as a \"sequence\" type such as list or tuple. Support for non-sequence iterables such as generators is deprecated as of NumPy 1.16 and will raise an error in the future.\n",
            "  vectors = vstack(self.word_vec(word, use_norm=True) for word in used_words).astype(REAL)\n",
            "/usr/local/lib/python3.6/dist-packages/gensim/matutils.py:737: FutureWarning: Conversion of the second argument of issubdtype from `int` to `np.signedinteger` is deprecated. In future, it will be treated as `np.int64 == np.dtype(int).type`.\n",
            "  if np.issubdtype(vec.dtype, np.int):\n"
          ],
          "name": "stderr"
        }
      ]
    },
    {
      "cell_type": "code",
      "metadata": {
        "id": "WRxYms-WmBWo",
        "colab_type": "code",
        "outputId": "e3837b22-9005-4062-e7f0-0c848f462a0a",
        "colab": {
          "base_uri": "https://localhost:8080/",
          "height": 105
        }
      },
      "source": [
        "result = word_vectors.similar_by_word(\"cat\")\n",
        "print(\"{}: {:.4f}\".format(*result[0]))\n",
        "print(result)"
      ],
      "execution_count": 29,
      "outputs": [
        {
          "output_type": "stream",
          "text": [
            "dog: 0.6817\n",
            "[('dog', 0.6816747188568115), ('cats', 0.6815836429595947), ('pet', 0.5870364904403687), ('dogs', 0.540766716003418), ('feline', 0.48979705572128296), ('monkey', 0.48794347047805786), ('horse', 0.4732130467891693), ('pets', 0.4634858965873718), ('rabbit', 0.4608757495880127), ('leopard', 0.4585462808609009)]\n"
          ],
          "name": "stdout"
        },
        {
          "output_type": "stream",
          "text": [
            "/usr/local/lib/python3.6/dist-packages/gensim/matutils.py:737: FutureWarning: Conversion of the second argument of issubdtype from `int` to `np.signedinteger` is deprecated. In future, it will be treated as `np.int64 == np.dtype(int).type`.\n",
            "  if np.issubdtype(vec.dtype, np.int):\n"
          ],
          "name": "stderr"
        }
      ]
    },
    {
      "cell_type": "code",
      "metadata": {
        "id": "pBcEuYRX_TYJ",
        "colab_type": "code",
        "colab": {}
      },
      "source": [
        "from gensim.test.utils import common_texts, get_tmpfile\n",
        "from gensim.models import Word2Vec\n",
        "#path = get_tmpfile(\"word2vec.model\")\n",
        "\n",
        "model2 = Word2Vec(common_texts, size=100, window=5, min_count=1, workers=4)\n",
        "#model.save(\"word2vec.model\")"
      ],
      "execution_count": 0,
      "outputs": []
    },
    {
      "cell_type": "code",
      "metadata": {
        "id": "Yfrx5JSgl_SZ",
        "colab_type": "code",
        "outputId": "b1aa9e78-6acf-4720-846b-242d1372965d",
        "colab": {
          "base_uri": "https://localhost:8080/",
          "height": 71
        }
      },
      "source": [
        "print(list(model.wv.vocab))\n",
        "print(list(model2.wv.vocab))\n"
      ],
      "execution_count": 42,
      "outputs": [
        {
          "output_type": "stream",
          "text": [
            "['[', 'Emma', 'by', 'Jane', ']', 'I', 'CHAPTER', 'Woodhouse', ',', 'handsome', 'clever', 'and', 'rich', 'with', 'a', 'comfortable', 'home', 'happy', 'disposition', 'seemed', 'to', 'unite', 'some', 'of', 'the', 'best', 'blessings', 'existence', ';', 'had', 'lived', 'nearly', 'twenty', '-', 'one', 'years', 'in', 'world', 'very', 'little', 'distress', 'or', 'vex', 'her', '.', 'She', 'was', 'youngest', 'two', 'daughters', 'most', 'affectionate', 'indulgent', 'father', 'consequence', 'sister', \"'\", 's', 'marriage', 'been', 'mistress', 'his', 'house', 'from', 'early', 'period', 'Her', 'mother', 'died', 'too', 'long', 'ago', 'for', 'have', 'more', 'than', 'an', 'remembrance', 'caresses', 'place', 'supplied', 'excellent', 'woman', 'as', 'governess', 'who', 'fallen', 'short', 'affection', 'Sixteen', 'Miss', 'Taylor', 'Mr', 'family', 'less', 'friend', 'fond', 'both', 'but', 'particularly', 'Between', 'it', 'intimacy', 'sisters', 'Even', 'before', 'ceased', 'hold', 'office', 'mildness', 'temper', 'hardly', 'allowed', 'impose', 'any', 'restraint', 'shadow', 'authority', 'being', 'now', 'passed', 'away', 'they', 'living', 'together', 'mutually', 'attached', 'doing', 'just', 'what', 'she', 'liked', 'highly', 'judgment', 'directed', 'chiefly', 'own', 'The', 'real', 'evils', 'indeed', 'situation', 'were', 'power', 'having', 'rather', 'much', 'way', 'think', 'well', 'herself', 'these', 'which', 'threatened', 'alloy', 'many', 'enjoyments', 'danger', 'however', 'at', 'present', 'so', 'unperceived', 'that', 'did', 'not', 'means', 'rank', 'misfortunes', 'Sorrow', 'came', '--', 'gentle', 'sorrow', 'all', 'shape', 'disagreeable', 'consciousness', '.--', 'married', 'It', 'loss', 'first', 'brought', 'grief', 'on', 'wedding', 'day', 'this', 'beloved', 'sat', 'mournful', 'thought', 'continuance', 'over', 'bride', 'people', 'gone', 'left', 'dine', 'no', 'prospect', 'third', 'cheer', 'evening', 'composed', 'himself', 'sleep', 'after', 'dinner', 'usual', 'then', 'only', 'sit', 'lost', 'event', 'every', 'promise', 'happiness', 'Weston', 'man', 'unexceptionable', 'character', 'easy', 'fortune', 'suitable', 'age', 'pleasant', 'manners', 'there', 'satisfaction', 'considering', 'self', 'denying', 'generous', 'friendship', 'always', 'wished', 'promoted', 'match', 'black', 'morning', 'work', 'want', 'would', 'be', 'felt', 'hour', 'recalled', 'past', 'kindness', 'sixteen', 'how', 'taught', 'played', 'five', 'old', 'devoted', 'powers', 'attach', 'amuse', 'health', 'nursed', 'through', 'various', 'childhood', 'A', 'large', 'debt', 'gratitude', 'owing', 'here', 'intercourse', 'last', 'seven', 'equal', 'footing', 'perfect', 'unreserve', 'soon', 'followed', 'Isabella', 'their', 'each', 'other', 'yet', 'dearer', 'recollection', 'companion', 'such', 'few', 'possessed', ':', 'intelligent', 'informed', 'useful', 'knowing', 'ways', 'interested', 'its', 'concerns', 'peculiarly', 'pleasure', 'scheme', 'hers', 'whom', 'could', 'speak', 'arose', 'never', 'find', 'fault', 'How', 'bear', 'change', '?--', 'true', 'going', 'half', 'mile', 'them', 'aware', 'great', 'must', 'difference', 'between', 'Mrs', 'advantages', 'natural', 'domestic', 'suffering', 'intellectual', 'solitude', 'dearly', 'loved', 'he', 'He', 'meet', 'conversation', 'rational', 'playful', 'evil', 'actual', 'disparity', 'ages', '(', ')', 'increased', 'constitution', 'habits', 'life', 'without', 'activity', 'mind', 'body', 'older', 'though', 'everywhere', 'friendliness', 'heart', 'amiable', 'talents', 'recommended', 'him', 'time', 'comparatively', 'removed', 'matrimony', 'settled', 'London', 'miles', 'off', 'beyond', 'daily', 'reach', 'October', 'November', 'struggled', 'Hartfield', 'Christmas', 'next', 'visit', 'husband', 'children', 'fill', 'give', 'society', 'again', 'Highbury', 'populous', 'village', 'almost', 'town', 'spite', 'separate', 'lawn', 'shrubberies', 'name', 'really', 'belong', 'afforded', 'equals', 'All', 'looked', 'up', 'acquaintance', 'universally', 'civil', 'among', 'accepted', 'even', 'melancholy', 'sigh', 'wish', 'impossible', 'things', 'till', 'awoke', 'made', 'necessary', 'cheerful', 'His', 'spirits', 'required', 'support', 'nervous', 'easily', 'depressed', 'used', 'hating', 'part', 'kind', 'origin', 'reconciled', 'daughter', 'marrying', 'nor', 'ever', 'compassion', 'entirely', 'when', 'obliged', 'selfishness', 'able', 'suppose', 'feel', 'differently', 'disposed', 'done', 'sad', 'thing', 'deal', 'happier', 'if', 'spent', 'rest', 'smiled', 'cheerfully', 'keep', 'thoughts', 'tea', 'say', 'exactly', 'said', '\"', 'Poor', '!--', 'What', 'pity', 'is', '!\"', 'cannot', 'agree', 'you', 'papa', 'know', 'good', 'humoured', 'thoroughly', 'deserves', 'wife', ';--', 'live', 'us', 'my', 'odd', 'humours', 'might', '?\"', 'But', 'where', 'advantage', '?', 'This', 'three', 'times', 'And', 'dear', '.\"', 'often', 'we', 'shall', 'see', 'coming', 'We', 'meeting', '!', 'begin', 'go', 'pay', 'My', 'am', 'get', 'far', 'Randalls', 'distance', 'walk', 'No', 'nobody', 'your', 'walking', 'carriage', 'sure', 'James', 'will', 'like', 'put', 'horses', 'are', 'poor', 'while', 'paying', 'our', 'They', 'into', 'stable', 'You', 'already', 'talked', 'night', 'may', 'because', 'doubt', 'whether', 'take', 'anywhere', 'else', 'That', 'got', 'Hannah', 'Nobody', 'mentioned', 'glad', 'lucky', 'slighted', 'upon', 'account', 'make', 'servant', 'pretty', 'spoken', 'girl', 'opinion', 'Whenever', 'asks', 'me', 'do', 'manner', 'needlework', 'observe', 'turns', 'lock', 'door', 'right', 'comfort', 'somebody', 'about', 'goes', 'hearing', 'tell', 'spared', 'exertions', 'maintain', 'flow', 'ideas', 'hoped', 'help', 'tolerably', 'attacked', 'regrets', 'table', 'placed', 'visitor', 'immediately', 'afterwards', 'walked', 'unnecessary', 'Knightley', 'sensible', 'eight', 'thirty', 'intimate', 'connected', 'elder', 'brother', 'frequent', 'welcome', 'directly', 'mutual', 'connexions', 'returned', 'late', 'days', 'absence', 'Brunswick', 'Square', 'circumstance', 'animated', 'inquiries', 'answered', 'When', 'gratefully', 'observed', 'come', 'out', 'call', 'afraid', 'shocking', 'Not', 'sir', 'beautiful', 'moonlight', 'mild', 'draw', 'back', 'fire', 'found', 'damp', 'dirty', 'catch', 'cold', 'Look', 'shoes', 'Well', 'quite', 'surprising', 'vast', 'rain', 'rained', 'dreadfully', 'hard', 'breakfast', 'wanted', 'By', 'bye', 'joy', 'Being', 'sort', 'feeling', 'hurry', 'congratulations', 'hope', 'went', 'behave', 'Who', 'cried', 'Ah', 'Tis', 'business', 'please', 'possibly', '`', \".'\", 'regard', 'comes', 'question', 'dependence', 'independence', 'At', 'rate', 'better', '_one_', 'those', 'fanciful', 'troublesome', 'creature', 'playfully', 'head', 'certainly', 'believe', ',\"', 'sometimes', 'dearest', 'mean', '_you_', 'horrible', 'idea', 'Oh', 'meant', 'myself', 'loves', 'joke', 'another', 'fact', 'faults', 'told', 'agreeable', 'knew', 'suspect', 'knows', 'flatter', 'reflection', 'has', 'persons', 'chances', 'willing', 'let', 'pass', '--\"', 'hear', 'behaved', 'charmingly', 'Every', 'punctual', 'looks', 'tear', 'face', 'seen', 'apart', 'Dear', 'bears', 'sorry', 'lose', 'miss', 'thinks', 'turned', 'divided', 'tears', 'smiles', 'should', 'acceptable', 'important', 'secure', 'provision', 'therefore', 'allow', 'pain', 'happily', 'forgotten', 'matter', 'considerable', 'four', 'proved', 'marry', 'shook', 'fondly', 'replied', 'matches', 'foretell', 'whatever', 'Pray', 'none', 'greatest', 'amusement', 'success', 'widower', 'perfectly', 'constantly', 'occupied', 'either', 'friends', 'wherever', 'need', 'spend', 'single', 'year', 'alone', 'Some', 'others', 'son', 'uncle', 'letting', 'solemn', 'nonsense', 'subject', 'believed', 'Ever', 'since', 'met', 'Broadway', 'Lane', 'began', 'darted', 'gallantry', 'borrowed', 'Farmer', 'planned', 'blessed', 'instance', 'leave', 'making', 'understand', ',\\'\"', 'supposes', 'endeavour', 'Your', 'properly', 'delicately', 'endeavouring', 'bring', 'worthy', 'employment', 'young', 'lady', 'imagine', 'planning', 'saying', 'yourself', 'idle', \",'\", 'why', 'talk', 'Where', 'merit', 'proud', 'guess', '_that_', 'can', 'known', 'triumph', 'cleverer', 'depend', 'merely', 'luck', 'There', 'talent', 'word', 'quarrel', 'claim', 'drawn', 'pictures', 'something', 'nothing', 'If', 'visits', 'given', 'smoothed', 'matters', 'enough', 'comprehend', 'open', 'hearted', 'unaffected', 'safely', 'manage', 'likely', 'harm', 'interference', 'rejoined', 'understanding', 'pray', 'silly', 'break', 'circle', 'grievously', 'Only', 'Elton', ',--', 'look', 'whole', 'fitted', 'comfortably', 'shame', 'longer', 'joining', 'hands', 'same', 'service', 'shew', 'attention', 'ask', 'dare', 'With', 'laughing', 'fish', 'chicken', 'chuse', 'Depend', 'six', 'care', 'II', 'native', 'born', 'respectable', 'generations', 'rising', 'gentility', 'property', 'received', 'education', 'succeeding', 'small', 'become', 'indisposed', 'homely', 'pursuits', 'brothers', 'engaged', 'satisfied', 'active', 'social', 'entering', 'militia', 'county', 'embodied', 'Captain', 'general', 'favourite', 'military', 'introduced', 'Churchill', 'Yorkshire', 'fell', 'love', 'surprized', 'except', 'full', 'pride', 'importance', 'connexion', 'offend', 'command', 'bore', 'proportion', 'estate', 'took', 'infinite', 'mortification', 'threw', 'due', 'decorum', 'unsuitable', 'produce', 'ought', 'whose', 'warm', 'sweet', 'return', 'goodness', 'spirit', 'resolution', 'pursue', 'refrain', 'unreasonable', 'anger', 'missing', 'former', 'income', 'still', 'comparison', 'Enscombe', 'cease', 'once', 'considered', 'especially', 'Churchills', 'amazing', 'worst', 'bargain', 'poorer', 'child', 'From', 'expense', 'relieved', 'boy', 'additional', 'softening', 'lingering', 'illness', 'reconciliation', 'kindred', 'offered', 'charge', 'Frank', 'decease', 'scruples', 'reluctance', 'supposed', 'overcome', 'considerations', 'wealth', 'seek', 'improve', 'complete', 'became', 'desirable', 'quitted', 'trade', 'established', 'favourable', 'opening', 'concern', 'leisure', 'occupation', 'pleasures', 'eighteen', 'realised', 'purchase', 'adjoining', 'longed', 'according', 'wishes', 'friendly', 'begun', 'influence', 'schemes', 'youth', 'shaken', 'determination', 'settling', 'sale', 'forward', 'steadily', 'objects', 'view', 'accomplished', 'bought', 'obtained', 'beginning', 'new', 'probability', 'greater', 'unhappy', 'secured', 'second', 'delightful', 'judging', 'truly', 'pleasantest', 'proof', 'choose', 'chosen', 'excite', 'choice', 'heir', 'adoption', 'assume', 'unlikely', 'assistance', 'apprehension', 'aunt', 'capricious', 'governed', 'nature', 'caprice', 'strong', 'affect', 'saw', 'report', 'fine', 'sufficiently', 'belonging', 'merits', 'prospects', 'common', 'lively', 'curiosity', 'prevailed', 'compliment', 'achieved', 'Now', 'generally', 'proposed', 'proper', 'voice', 'Perry', 'drank', 'Bates', 'strengthened', 'understood', 'written', 'occasion', 'For', 'included', 'mention', 'letter', 'heard', 'says', 'course', 'formed', 'pleasing', 'irresistible', 'sense', 'addition', 'source', 'expression', 'fortunate', 'regret', 'partial', 'separation', 'cooled', 'ill', 'missed', 'losing', 'ennui', 'feeble', 'girls', 'energy', 'difficulties', 'privations', 'convenient', 'solitary', 'female', 'circumstances', 'approaching', 'season', 'spending', 'evenings', 'week', 'altogether', 'hours', 'moments', 'enjoyment', 'apparent', 'taken', 'surprize', 'centre', 'attended', 'giving', 'stay', 'recovering', 'likelihood', 'ceasing', 'weeks', 'compliments', 'neighbours', 'sorrowful', 'cake', 'eat', 'stomach', 'different', 'unwholesome', 'regarded', 'unfit', 'earnestly', 'tried', 'dissuade', 'vain', 'prevent', 'eating', 'pains', 'consulting', 'apothecary', 'gentlemanlike', 'comforts', 'applied', 'acknowledge', 'against', 'bias', 'inclination', 'disagree', 'perhaps', 'unless', 'moderately', 'confirmation', 'newly', 'pair', 'eaten', 'benevolent', 'nerves', 'strange', 'rumour', 'slice', 'III', 'united', 'causes', 'residence', 'measure', 'families', 'horror', 'parties', 'terms', 'Fortunately', 'including', 'parish', 'Donwell', 'Abbey', 'seat', 'comprehended', 'unfrequently', 'persuasion', 'preferred', 'fancied', 'unequal', 'company', 'scarcely', 'card', 'standing', 'Westons', 'liking', 'privilege', 'vacant', 'blank', 'drawing', 'room', 'lovely', 'thrown', 'After', 'set', 'Goddard', 'ladies', 'invitation', 'fetched', 'carried', 'hardship', 'Had', 'grievance', 'widow', 'respect', 'harmless', 'under', 'untoward', 'enjoyed', 'uncommon', 'degree', 'popularity', 'neither', 'stood', 'public', 'favour', 'superiority', 'atonement', 'frighten', 'hate', 'outward', 'boasted', 'beauty', 'distinction', 'middle', 'failing', 'possible', 'named', 'universal', 'contented', 'worked', 'wonders', 'surrounded', 'simplicity', 'cheerfulness', 'grateful', 'recommendation', 'mine', 'felicity', 'talker', 'suited', 'trivial', 'communications', 'gossip', 'School', 'establishment', 'professed', 'sentences', 'refined', 'liberal', 'elegant', 'morality', 'principles', 'systems', 'enormous', 'screwed', 'vanity', 'honest', 'fashioned', 'school', 'reasonable', 'quantity', 'accomplishments', 'sold', 'price', 'sent', 'scramble', 'themselves', 'high', 'repute', 'reckoned', 'healthy', 'spot', 'ample', 'garden', 'gave', 'plenty', 'wholesome', 'food', 'run', 'summer', 'winter', 'dressed', 'wonder', 'train', 'couple', 'church', 'plain', 'entitled', 'occasional', 'holiday', 'formerly', 'owed', 'particular', 'neat', 'parlour', 'hung', 'round', 'fancy', 'whenever', 'win', 'fireside', 'These', 'frequently', 'collect', 'sake', 'concerned', 'remedy', 'delighted', 'pleased', 'contriving', 'quiet', 'women', 'fearfully', 'anticipated', 'As', 'looking', 'close', 'note', 'respectful', 'Smith', 'request', 'seventeen', 'sight', 'interest', 'gracious', 'dreaded', 'fair', 'mansion', 'Harriet', 'Somebody', 'several', 'lately', 'raised', 'condition', 'scholar', 'boarder', 'history', 'visible', 'acquired', 'country', 'happened', 'admired', 'plump', 'bloom', 'blue', 'eyes', 'light', 'hair', 'regular', 'features', 'sweetness', 'end', 'person', 'determined', 'continue', 'struck', 'remarkably', 'engaging', 'shy', 'unwilling', 'pushing', 'shewing', 'becoming', 'deference', 'seeming', 'pleasantly', 'admitted', 'impressed', 'appearance', 'superior', 'style', 'deserve', 'encouragement', 'Those', 'soft', 'graces', 'wasted', 'inferior', 'unworthy', 'parted', 'Martin', 'farm', 'residing', 'coarse', 'knowledge', 'elegance', '_She_', 'notice', 'bad', 'introduce', 'form', 'opinions', 'interesting', 'busy', 'admiring', 'talking', 'listening', 'forming', 'flew', 'unusual', 'supper', 'closed', 'watch', 'ready', 'moved', 'forwards', 'alacrity', 'impulse', 'indifferent', 'credit', 'attentively', 'honours', 'meal', 'recommend', 'urgency', 'guests', 'Upon', 'occasions', 'feelings', 'warfare', 'cloth', 'laid', 'fashion', 'conviction', 'hospitality', 'welcomed', 'visitors', 'grieve', 'Such', 'basin', 'thin', 'gruel', 'thorough', 'approbation', 'constrain', 'clearing', 'propose', 'venturing', 'eggs', 'An', 'egg', 'boiled', 'understands', 'boiling', 'hurt', 'bit', '_very_', 'apple', 'tarts', 'advise', 'glass', 'wine', 'tumbler', 'water', 'satisfactory', 'sending', 'intentions', 'introduction', 'panic', 'humble', 'gratified', 'treated', 'actually', 'IV', 'Quick', 'decided', 'inviting', 'encouraging', 'telling', 'foreseen', 'In', 'shrubbery', 'divisions', 'ground', 'sufficed', 'varied', 'exercise', 'confined', 'ventured', 'summon', 'valuable', 'privileges', 'approved', 'confirmed', 'designs', 'totally', 'free', 'conceit', 'desiring', 'guided', 'attachment', 'shewed', 'taste', 'strength', 'expected', 'convinced', 'Two', 'granted', 'sentiment', 'distinct', 'independent', 'object', 'basis', 'esteem', 'attempts', 'usefulness', 'parents', 'questions', '_she_', 'discovered', 'truth', 'penetration', 'chose', 'farther', 'teachers', 'affairs', 'naturally', 'Martins', 'Mill', 'Farm', 'months', 'describe', 'encouraged', 'amused', 'picture', 'beings', 'enjoying', 'youthful', 'exultation', 'upper', 'maid', 'cows', 'cow', 'called', '_her_', 'drink', ':--', 'dozen', 'thinking', 'immediate', 'cause', 'wrong', 'fancying', 'appeared', 'narrative', 'case', 'sink', 'forever', 'notion', 'number', 'meaning', 'led', 'evidently', 'dislike', 'share', 'walks', 'merry', 'games', 'dwelt', 'obliging', 'order', 'shepherd', 'purpose', 'sing', 'singing', 'flock', 'bid', 'wool', 'spoke', 'blush', ',)', 'send', 'goose', 'finest', 'Sunday', 'asked', 'Nash', 'Prince', 'sup', 'information', 'line', 'does', 'read', 'yes', 'reads', 'books', 'lay', 'window', 'seats', 'cards', 'aloud', 'entertaining', 'Forest', 'Children', 'One', 'ride', 'Kingston', 'fifty', 'farmer', 'horseback', 'foot', 'raise', 'precisely', 'lower', 'creditable', 'above', 'below', 'To', 'June', 'birthday', 'fortnight', 'settle', 'seem', 'probably', 'repent', 'Six', 'hence', 'money', 'men', 'afford', 'beforehand', 'Whatever', 'afloat', 'employed', 'stock', 'forth', 'diligence', 'indoors', 'talks', 'taking', 'scrape', 'acquainted', 'objected', 'follow', 'fit', 'misfortune', 'birth', 'careful', 'associates', 'gentleman', 'station', 'within', 'degrading', 'Yes', 'force', 'firmly', 'permanently', 'advisable', 'marries', 'mere', 'However', 'Elizabeth', 'educated', 'ignorant', 'vulgar', 'watched', 'speech', 'alarming', 'symptoms', 'admirer', 'trusted', 'serious', 'difficulty', 'side', 'oppose', 'arrangement', 'road', 'respectfully', 'unfeigned', 'opportunity', 'survey', 'yards', 'quick', 'eye', 'Robert', 'contrasted', 'gentlemen', 'gained', 'insensible', 'voluntarily', 'noticed', 'gentleness', 'admiration', 'remained', 'minutes', 'kept', 'waiting', 'running', 'smiling', 'flutter', 'compose', 'happening', 'chance', 'towards', 'forgot', 'morrow', 'So', 'happen', 'Do', 'undoubtedly', 'compared', 'entire', 'expect', 'air', 'imagined', 'confess', 'nearer', 'mortified', 'genteel', 'repeatedly', 'specimens', 'bred', 'seeing', 'perceiving', 'wondering', 'Were', 'awkward', 'abrupt', 'wholly', 'Certainly', 'compare', '_him_', 'hundred', 'plainly', 'carrying', 'speaking', 'silent', 'forty', 'Which', 'makes', 'grows', 'glaring', 'disgusting', 'awkwardness', 'becomes', 'detestable', 'later', 'solemnly', 'guessing', 'completely', 'gross', 'appearances', 'profit', 'Will', 'forgetting', 'inquire', 'book', 'market', 'illiterate', 'disturb', 'remember', '\"--', 'answer', 'grave', 'displeasure', 'itself', 'held', 'pattern', 'openness', 'quickness', 'likes', 'humour', 'copied', 'Neither', 'downright', 'commanding', 'suits', 'figure', 'copying', 'sufferable', 'On', 'contrary', 'model', 'seems', 'grown', 'design', 'softness', 'strikes', 'softer', 'Did', 'repeated', 'personal', 'praise', 'justice', 'blushed', 'fixed', 'driving', 'probable', 'feared', 'equalled', 'date', 'plan', 'entered', 'brain', 'during', 'expediency', 'low', 'fairly', 'doubtful', 'sufficient', 'vicarage', 'deficiency', 'meetings', 'foundation', 'weight', 'efficacy', 'fastidious', 'feature', 'dispense', 'riding', 'conquered', 'V', 'supplying', 'Perhaps', 'fight', 'battle', 'yesterday', 'agreeing', 'associate', 'judge', 'value', 'feels', 'sex', 'objection', 'hand', 'wants', 'inducement', 'twelve', 'lists', 'regularly', 'neatly', 'arranged', 'rule', 'list', 'drew', 'fourteen', 'preserved', 'expecting', 'steady', 'reading', 'submit', 'requiring', 'industry', 'patience', 'subjection', 'failed', 'affirm', 'persuade', 'refresh', 'memory', ',\"--', 'feelingly', 'moment', 'added', 'charm', 'senses', 'spoiled', 'ten', 'puzzled', 'assured', 'slow', 'diffident', 'cope', 'dependent', '_your_', 'preparing', 'receiving', 'material', 'point', 'submitting', 'Thank', 'Why', 'borne', 'despair', 'grow', 'cross', 'wantonness', 'plague', 'vexation', 'quarter', 'possibilities', 'pretend', 'genius', 'worse', 'ignorance', 'hourly', 'flattery', 'learn', 'presenting', 'inferiority', 'venture', 'gain', 'places', 'belongs', 'uncomfortable', 'mistaken', 'doctrines', 'tend', 'rationally', 'varieties', 'polish', 'anxious', 'lament', 'Very', 'attempt', 'deny', 'Pretty', 'Can', 'seldom', 'brilliant', 'countenance', 'complexion', 'oh', 'height', 'size', 'firm', 'upright', 'glance', 'hears', \";'\", 'gives', 'loveliness', 'add', 'personally', 'Considering', 'appears', 'lies', 'dread', 'equally', 'stout', 'confidence', 'kinder', 'truer', 'qualities', 'lead', 'lasting', 'blunder', 'angel', 'brings', 'John', 'blind', 'frightened', 'unjust', 'unkind', 'excuse', 'liberty', 'consider', 'somewhat', 'hinting', 'arise', 'discussion', 'supposing', 'inconvenience', 'apprehended', 'province', 'advice', 'remains', 'fate', 'alarmed', 'Be', 'sincere', 'excited', 'anxiety', 'gently', 'declares', 'cared', 'hereabouts', 'tempt', 'creating', 'slight', 'state', 'assure', 'Part', 'conceal', 'respecting', 'destiny', 'suspected', 'transition', 'weather', 'surmise', 'VI', 'direction', 'decidedly', 'hesitation', 'following', 'assurance', 'hints', 'confident', 'fairest', 'falling', 'scruple', 'praised', 'warmly', 'wanting', 'perception', 'striking', 'improvement', 'least', 'proofs', 'growing', 'graceful', 'attractions', 'infinitely', 'grace', 'contradict', 'gallant', 'decision', 'points', 'Exactly', 'principally', 'Great', 'sighing', 'animation', 'lover', 'seconded', 'sudden', 'likeness', 'leaving', 'stopt', 'naivete', 'sooner', 'exclaimed', 'exquisite', 'possession', 'passion', 'attempted', 'tolerable', 'disgust', 'delight', 'Let', 'entreat', 'charming', 'drawings', 'Is', 'landscapes', 'flowers', 'inimitable', 'pieces', 'Don', 't', 'raptures', 'Keep', 'try', 'delicate', 'difficult', 'peculiarity', 'lines', 'mouth', 'use', 'words', 'answering', '?\\'\"', 'persuaded', 'proposal', 'stand', 'earnest', 'pressing', 'produced', 'containing', 'portraits', 'finished', 'decide', 'beginnings', 'displayed', 'lengths', 'pencil', 'colours', 'turn', 'progress', 'music', 'labour', 'sang', 'steadiness', 'approached', 'excellence', 'deceived', 'skill', 'artist', 'musician', 'reputation', 'accomplishment', 'higher', 'deserved', 'spirited', 'companions', 'pleases', 'performances', 'capital', 'variety', 'faces', 'study', 'sitting', 'stealth', 'kindest', 'unlike', 'Then', 'Henry', 'sheet', 'eager', 'refuse', 'featured', 'mama', 'Here', 'sketch', 'fourth', 'baby', 'sleeping', 'sofa', 'cockade', 'down', 'conveniently', 'George', 'corner', 'length', 'pet', 'vowed', 'provoked', '--(', 'agreed', ')--', 'flattering', 'trouble', 'persuading', 'finish', 'unfavourable', 'husbands', 'wives', 'repeating', 'declaration', 'wait', 'portrait', 'destined', 'honourable', 'blushing', 'keeping', 'attitude', 'presented', 'mixture', 'behind', 'watching', 'touch', 'gaze', 'offence', 'elsewhere', 'occurred', 'employ', 'lessen', 'listened', 'peace', 'smallest', 'intermission', 'jump', 'charmed', 'displeased', 'discern', 'complaisance', 'throw', 'considerably', 'filling', 'memorial', 'associations', 'promising', 'entreated', 'permission', 'attending', 'party', 'civilities', 'courtesies', 'accompanied', 'rapid', 'continual', 'defended', 'suspecting', 'addressing', '.--\"', 'correct', 'eyebrows', 'resemblance', 'effect', 'shade', 'tall', 'Consider', 'presents', 'proportions', 'fore', 'prettily', 'Just', 'draws', 'doors', 'shawl', 'shoulders', 'tree', 'safe', 'placing', 'touched', 'Any', 'admirable', 'framed', 'depended', 'doer', 'December', 'stirring', 'alert', 'Might', 'commission', 'executing', 'errand', 'endure', 'desired', 'repetition', 'entreaties', 'assurances', 'frame', 'directions', 'pack', 'safety', 'mostly', 'fearful', 'precious', 'tender', 'suit', 'languish', 'principal', 'VII', 'fresh', 'services', 'agitated', 'hurried', 'announcing', 'extraordinary', 'longing', 'Half', 'minute', 'finding', 'parcel', 'besides', 'songs', 'lent', 'copy', 'contained', 'direct', 'wrote', 'fast', 'ashamed', 'asking', 'connect', 'd', 'pressed', 'expectation', 'errors', 'composition', 'disgraced', 'language', 'sentiments', 'conveyed', 'writer', 'expressed', 'liberality', 'propriety', 'delicacy', 'paused', 'anxiously', 'forced', 'slowly', 'helped', 'express', 'diffuse', 'strongly', 'clearly', 'takes', 'pen', 'certain', 'returning', ';--\"', 'speedily', 'intelligible', 'doubts', 'expressions', 'requires', 'prompted', 'write', 'disappointment', 'Are', 'beg', 'pardon', 'mistake', 'reserve', 'continued', 'contemplating', 'persevered', 'silence', 'apprehend', 'bewitching', 'powerful', 'accept', 'hesitate', 'duty', 'thus', 'hesitating', 'safer', 'graciously', 'prefer', 'Does', 'occur', 'definition', 'deceive', 'Instead', 'confused', 'thoughtfully', 'mechanically', 'twisted', 'waited', 'result', 'impatience', 'hopes', 'Perfectly', 'While', 'suspense', 'approving', 'grieved', 'wavering', 'visited', 'surmised', 'forcibly', 'aghast', 'dreadful', 'escape', 'honour', 'Indeed', 'severe', 'pang', 'killed', '_You_', 'banished', 'conceited', 'conscience', 'opposing', 'censure', 'natured', 'visiting', 'writing', 'consideration', 'thank', 'consolation', 'offending', 'cares', 'advised', 'protest', 'formation', 'sentence', 'replying', 'tendency', 'brace', 'decisive', 'ungrateful', 'sealed', 'bringing', 'invited', 'tone', 'Nor', 'linen', 'draper', 'refinement', 'teacher', 'envy', 'conquest', 'appear', 'dark', 'attentions', 'Hitherto', 'explained', 'cheering', 'rejected', 'softly', 'absent', 'original', 'allowing', 'Bond', 'street', 'Has', 'modest', 'mounts', 'horse', 'solace', 'opens', 'prepossession', 'suspicious', 'imaginations', 'grew', 'stronger', 'VIII', 'slept', 'gradually', 'getting', 'bed', 'judged', 'safest', 'previously', 'defer', 'induced', 'civility', 'ceremony', 'offering', 'answers', 'amusing', 'contrast', 'apologies', 'rude', 'sun', 'treat', 'privileged', 'stranger', 'substitute', 'entertain', 'walker', 'pace', 'tedious', 'fetch', 'instead', 'likewise', 'seemingly', 'inclined', 'chat', 'voluntary', 'depends', 'Come', 'improved', 'cured', 'bestow', 'Almost', 'intended', 'Something', 'delay', 'tiresome', 'contradiction', 'presently', 'smile', 'fix', 'reason', ';\"', 'dropt', 'hint', 'adviser', 'offer', 'desperately', 'consult', 'considers', 'imprudent', 'speaks', 'plans', 'advising', 'esteemed', 'counsellor', 'detained', 'wretch', 'absolutely', 'inferred', 'Was', 'refused', 'red', 'indignation', 'simpleton', 'foolish', 'incomprehensible', 'imagines', 'Nonsense', 'madness', 'clearer', 'admit', 'address', 'loudly', 'calmer', 'infatuation', 'blinds', 'claims', 'relations', 'simple', 'experience', 'wit', 'avail', 'tempered', 'beneath', 'deserts', 'trust', 'aright', 'cry', 'extreme', 'crossed', 'partiality', '.\\'\"', 'statement', 'estimated', 'richest', 'sphere', 'moves', 'degradation', 'legal', 'level', 'allowance', 'indubitable', 'Whoever', 'whoever', 'shift', 'move', '_was_', 'Till', 'ambition', 'proceeded', 'selfish', 'farthest', 'reply', 'assertion', 'contemptible', 'represent', 'possesses', 'recommendations', 'ninety', 'nine', 'philosophic', 'fall', 'minds', 'certainty', 'sought', 'chusing', 'consequently', 'nice', 'comprehending', 'readiness', 'highest', 'possess', 'Better', 'delights', 'satisfies', 'pick', 'wondered', 'receives', 'perceive', 'unfortunate', 'puff', 'Vanity', 'working', 'weak', 'produces', 'mischief', 'Nothing', 'expectations', 'offers', 'Men', 'connecting', 'obscurity', 'prudent', 'disgrace', 'involved', 'mystery', 'revealed', 'encourage', 'greatly', 'teach', 'desperate', 'master', 'angry', 'application', 'abide', 'refusal', 'tolerate', 'altered', 'sincerity', 'unconcerned', 'habitual', 'opposite', 'unpleasant', 'views', 'secret', 'projects', 'laughed', 'act', 'thousand', 'pounds', 'apiece', 'doings', 'Good', 'abruptly', 'vexed', 'promoting', 'affair', 'provoking', 'exceedingly', 'adversary', 'materially', 'cast', 'staying', 'uneasy', 'possibility', 'pleading', 'failure', 'prominent', 'uneasiness', 'justify', 'pretensions', 'observer', 'hastily', 'attentive', 'otherwise', 'war', 'motives', 'effects', 'prudence', 'originally', 'suggest', 'attend', 'sick', 'Park', 'whist', 'club', 'shabby', 'player', 'journey', 'bearer', 'conscious', 'rode', 'significantly', 'IX', 'forgiven', 'proceedings', 'justified', 'Picture', 'sighed', 'visibly', 'remembered', 'furnished', 'utmost', 'latter', 'improving', 'chapters', 'intention', 'easier', 'pleasanter', 'imagination', 'range', 'labouring', 'enlarge', 'comprehension', 'sober', 'facts', 'literary', 'pursuit', 'mental', 'collecting', 'riddles', 'hot', 'paper', 'ornamented', 'trophies', 'literature', 'collections', 'grand', 'scale', 'assisted', 'invention', 'recollect', 'worth', 'putting', 'ended', 'frozen', 'riddle', 'contribute', 'intently', 'recollections', 'breathe', 'lips', 'charade', 'doth', 'affliction', 'denote', 'destin', 'soften', 'heal', 'pages', 'security', 'freshness', 'fellow', 'inspire', 'inspiration', 'piece', 'addressed', 'collection', 'expose', 'deep', 'pause', 'Take', 'loth', 'examine', 'displays', 'pomp', 'kings', 'Lords', 'earth', 'luxury', 'ease', 'Another', 'Behold', 'monarch', 'seas', 'ah', 'reverse', 'Man', 'freedom', 'flown', 'Lord', 'sea', 'bends', 'slave', 'reigns', 'Thy', 'supply', 'May', 'approval', 'beam', 'pondered', 'caught', 'passing', 'puzzling', 'confusion', 'dulness', '--`', 'addresses', 'Soft', 'Humph', 'benefit', 'convince', 'Things', 'crisis', 'observations', 'eagerness', 'kingdom', 'Or', 'shark', 'syllable', 'sharks', 'Give', 'listen', 'cream', 'follows', 'Read', 'resist', 'concluding', 'pointed', 'receive', 'clear', 'Its', 'congratulate', 'confirm', 'alliance', 'embraces', 'arrive', 'acknowledgment', 'verses', 'Could', 'Receive', 'play', 'motto', 'chapter', 'prose', 'month', 'strangest', 'Eltons', 'courts', 'pre', 'respective', 'homes', 'sends', 'channel', 'smooth', 'edition', 'Shakespeare', 'passage', 'Michaelmas', 'handsomest', 'invitations', 'Church', 'preached', 'ran', 'front', 'peeped', 'scolded', 'staid', 'arm', 'Cole', 'provided', 'conduct', 'fools', 'phrase', 'rise', 'satisfy', 'nicely', 'studied', 'twelvemonth', 'declining', 'exception', 'intent', 'comparisons', 'cheeks', 'glow', 'Leave', 'committed', 'beaming', 'Trust', 'private', 'divide', 'ceases', 'poet', 'submitted', 'parts', 'publicity', 'pays', 'tenderest', 'betray', 'overpowered', 'tribute', 'secrecy', 'pushed', 'proceed', 'souls', 'ridiculous', 'inquiry', 'dears', 'Have', 'fairy', 'distinctly', 'explanations', 'conclusion', 'Aye', 'Woman', 'nodded', 'flame', 'deplore', 'wink', 'aid', 'Though', 'near', 'approach', 'fatal', 'page', 'grandmama', 'nursery', 'Easter', 'lawyer', 'inconvenient', 'sadly', 'necessity', 'thankful', 'promises', 'musing', 'accomplish', 'submissive', 'affected', 'branch', 'eldest', 'chair', 'string', \"?'\", 'knife', 'knives', 'rough', 'boys', 'hardy', 'sharp', 'ceiling', 'frightful', 'whichever', 'preparation', 'o', 'clock', 'hero', 'discerned', 'push', 'die', 'ostensible', 'dining', 'promised', 'thanked', 'rubber', 're', 'urged', 'declined', 'bow', 'amiss', 'Of', 'glanced', 'examined', 'writes', '_I_', 'effusion', 'honoured', '),', 'proudest', 'parade', 'speeches', 'apt', 'incline', 'laugh', 'indulge', 'sublime', 'X', 'charitable', 'Their', 'detached', 'cottage', 'Vicarage', 'lane', 'leading', 'angles', 'broad', 'irregular', 'main', 'abode', 'dwellings', 'rose', 'proprietor', 'slackened', 'observing', 'remark', 'yellow', 'curtains', 'admires', 'intimately', 'hedges', 'gates', 'pools', 'probabilities', 'class', 'contrive', 'pretence', 'housekeeper', 'message', 'induce', 'tempted', 'recollecting', '_not_', 'inducements', 'fool', 'Fortune', 'formidable', 'image', 'relative', 'unmarried', 'Never', 'poverty', 'narrow', 'sport', 'candour', 'contract', 'sour', 'barely', 'apply', 'contracted', 'shilling', 'sixpence', 'resources', 'occupations', 'variation', 'carpet', 'affections', 'avoided', 'sensation', 'fear', 'parent', 'warmer', 'nephews', 'niece', 'Heaven', 'forbid', 'Knightleys', 'Fairfax', 'knit', 'grandmother', 'tires', 'death', 'topics', 'compassionate', 'distresses', 'relief', 'counsel', 'purse', 'temptations', 'romantic', 'virtue', 'troubles', 'sympathy', 'intelligence', 'sickness', 'remaining', 'impression', 'scene', 'sights', 'trifling', 'creatures', 'vanish', 'hedge', 'tottering', 'slippery', 'path', 'stopping', 'wretchedness', 'recall', 'bend', 'trial', 'exertion', 'wretched', 'empty', 'distressing', 'ourselves', 'joined', 'sufferings', 'parley', 'accompany', 'increase', 'footpath', 'imitation', 'stopped', 'alteration', 'boot', 'stooping', 'begged', 'overtaken', 'setting', 'orders', 'pitcher', 'broth', 'acting', 'ahead', 'obligation', 'involuntarily', 'theirs', 'around', 'join', 'detail', 'experienced', 'cheese', 'north', 'butter', 'root', 'dessert', 'interests', 'serve', 'quietly', 'arrange', 'broke', 'lace', 'throwing', 'ditch', 'stop', 'acknowledged', 'rights', 'equipped', 'proposition', 'exceed', 'alertness', 'communicated', 'fully', 'incessant', 'practicable', 'lovers', 'windows', 'aspect', 'glory', 'successfully', 'purposely', 'allusions', 'cautious', 'advances', 'inch', 'hazard', 'believes', 'Still', 'ingenious', 'device', 'XI', 'quicken', 'measures', 'anticipation', 'reality', 'henceforth', 'prime', 'advance', 'rapidly', 'somehow', 'Surry', 'exciting', 'holidays', 'autumn', 'bathing', 'nervously', 'fatigues', 'coachman', 'alarms', 'needless', 'competent', 'maids', 'reaching', 'bustle', 'arrival', 'variously', 'dispersed', 'noise', 'endured', 'respected', 'maternal', 'solicitude', 'ones', 'instantly', 'attendance', 'drinking', 'playing', 'disturbance', 'restless', 'wrapt', 'tenderly', 'ties', 'inherited', 'also', 'fears', 'Wingfield', 'alike', 'benevolence', 'habit', 'profession', 'reserved', 'prevented', 'capable', 'unreasonably', 'reproach', 'perfection', 'worshipping', 'defects', 'clearness', 'ungracious', 'law', 'escaped', 'injuries', 'calmly', 'blindness', 'regardless', 'forbearance', 'peculiarities', 'remonstrance', 'retort', 'bestowed', 'charity', 'cordiality', 'seated', 'shake', 'grievous', 'Papa', 'hesitated', 'Either', 'excepting', 'false', 'extent', 'exact', 'letters', 'doubted', 'disengaged', 'forget', 'strike', 'convenience', 'aside', 'Me', 'advocate', 'misery', 'existed', 'flying', 'kite', 'windy', 'September', 'scarlet', 'fever', 'Whether', 'passes', 'Three', 'fly', 'exceeding', 'Weymouth', 'Madam', 'signed', 'F', 'C', 'coolly', 'finds', 'depending', 'affords', 'bordered', 'sufficiency', 'whence', 'XII', 'disagreement', 'procuring', 'Making', '_he_', 'quarrelled', 'assist', 'danced', 'arms', 'amity', 'estimate', 'whim', 'dealings', 'lives', 'lapse', 'Tell', 'example', 'renewing', 'Little', 'argument', 'bitterly', 'disappointed', 'ye', 'succeeded', 'English', 'burying', 'calmness', 'indifference', 'requisite', 'subjects', 'rarely', 'mixing', 'occasionally', 'communicative', 'magistrate', 'curious', 'field', 'local', 'fail', 'longest', 'attachments', 'drain', 'fence', 'destination', 'acre', 'wheat', 'spring', 'corn', 'equality', 'cooler', 'rendered', 'interrupting', 'labours', 'terribly', 'tired', 'article', 'ordered', 'discourse', 'South', 'End', 'weakness', 'throat', 'unsafe', 'envious', 'miserable', 'forgets', 'tells', 'practice', 'calling', 'attributed', 'applying', 'August', 'Bateses', 'colds', 'heavy', 'sickly', '_we_', 'Our', 'confound', 'neighbourhood', 'airy', 'vicinity', 'aches', 'pale', 'turning', 'fatigued', 'intending', 'Scotland', 'prejudice', 'praising', 'accidentally', 'excessively', 'Colonel', 'Campbell', 'topic', 'discussed', 'similar', 'harmony', 'agitation', 'houses', 'unfortunately', 'failures', 'recent', 'cook', 'hired', 'Often', 'dangerous', 'shaking', 'fixing', 'ear', 'consequences', 'suffice', 'restore', 'relish', 'interval', 'moreover', 'mud', 'holds', 'pure', 'lodgings', 'consulted', 'stake', 'travel', 'reached', 'breaking', 'coast', 'convey', 'True', 'moving', 'cut', 'meadows', 'conceive', 'proving', 'harsh', 'reflections', 'unconsciously', 'attributing', 'soothing', 'renewal', 'XIII', 'swiftly', 'mornings', 'engagement', 'avoiding', 'denial', 'preference', 'division', 'amounted', 'occupy', 'carriages', 'numbers', 'doom', 'feverish', 'sore', 'excluded', 'unavoidable', 'representing', 'advanced', 'invalid', 'carry', 'glowing', 'despatch', 'roast', 'mutton', 'rice', 'pudding', 'hastening', 'describing', 'complaint', 'inflamed', 'heat', 'pulse', '&', 'c', 'liable', 'throats', 'alarm', 'putrid', 'excess', 'remain', 'feed', 'snow', 'interfere', 'hoarse', 'demand', 'previous', 'vision', 'muttering', 'rejoicing', 'civilly', 'accepting', 'prompt', 'exulting', 'Most', 'employments', 'duties', 'Soon', 'naming', 'parting', 'assuring', 'news', 'prepared', 'balance', 'works', 'overlook', 'moderate', 'negligent', 'astonishment', 'imagining', 'behaviour', 'accordingly', 'ascertain', 'blunders', 'mistakes', 'increasing', 'coldness', 'shrinking', 'punctually', 'motion', 'flakes', 'sky', 'white', 'happiest', 'abroad', 'sacrifice', 'drive', 'expressing', 'discontent', 'encounter', 'absurdity', 'folly', 'deem', 'thinner', 'clothing', 'defiance', 'shelter', 'dull', 'Going', 'dismal', 'servants', 'shivering', 'colder', 'rooms', 'assent', 'emulate', 'usually', 'administered', 'travelling', 'heroism', 'glasses', 'wrapped', 'arrived', 'step', 'spruce', 'dressing', 'Much', 'lengthened', 'dress', 'flattered', 'cordial', 'complaints', 'lasted', 'dismay', 'contrivances', 'modern', 'fenced', 'guarded', 'breath', 'afternoon', 'Ha', 'snows', 'Quite', 'extremely', 'se', 'astonished', 'fires', 'Charming', 'hospitable', 'select', 'accommodate', 'enter', 'slavery', 'paid', 'sweep', 'gate', 'XIV', 'joyous', 'disperse', 'related', 'arrangements', 'communication', 'enjoy', 'engrossed', 'project', 'elbow', 'continually', 'avoid', 'internal', 'suggestion', 'transfer', 'insufferable', 'Yet', 'zeal', 'effort', 'preserve', 'positively', 'amongst', 'overpowering', 'syllables', 'reviving', 'coupled', 'sensations', 'timed', 'appearing', 'polite', 'substance', 'released', 'saddle', 'assented', 'sacrifices', 'January', 'secrets', 'stir', 'invite', 'issue', 'nodding', 'calculate', 'whims', ').', 'stone', 'devil', 'wishing', 'sanguine', 'stands', 'rules', 'spare', 'blessing', 'instinctive', 'confinement', 'gladly', 'apprehensive', 'delays', 'jealousy', 'jealous', 'caution', 'individual', 'nephew', 'owes', 'exercises', 'XV', 'convivial', 'awake', 'terror', 'perverse', 'infection', 'earnestness', 'chamber', 'learnt', 'concealing', 'inconstancy', 'abominable', 'behaving', 'Would', 'disorder', 'scrupulous', 'careless', 'nurse', 'catching', 'Judge', 'complain', 'assuming', 'offended', 'removing', 'reproof', 'succeed', 'examining', 'opened', 'covered', 'drifting', 'wind', 'prove', 'engagements', 'storm', 'consternation', 'pursuing', 'blown', 'bleak', 'midnight', 'confessing', 'lest', 'hurrying', 'accommodation', 'contrivance', 'lodged', 'exclamation', 'representation', 'revived', 'blocked', 'adventurous', 'drifted', 'along', 'Walk', 'shod', 'approve', 'nowhere', 'clouds', 'tidings', 'appeased', 'urging', 'recommending', 'brief', 'Shall', 'ring', 'bell', 'rung', 'deposited', 'cool', 'recover', 'carefully', 'discovery', 'darker', 'escorted', 'shut', 'tete', 'suspicions', 'quarters', 'restrain', 'gravity', 'seized', 'demanded', 'violent', 'declaring', 'hoping', 'fearing', 'ardent', 'resolved', 'seriously', 'Without', 'apology', 'professing', 'vainly', 'resolve', 'drunkenness', 'Accordingly', '_me_', 'deliver', 'accent', 'amazement', 'Command', 'drunk', 'elevate', 'confuse', 'protested', 'suspicion', 'slightly', 'acknowledging', 'resumed', 'urgent', 'presumption', 'fewer', 'struggles', 'politeness', 'witnessed', 'Believe', 'professions', 'dead', 'alive', 'misled', 'sole', 'marking', 'adoration', '!--(', 'uppermost', 'joyously', 'interpret', 'error', 'attraction', 'Am', 'madam', 'Sir', 'ends', 'inequality', 'supplication', 'swelling', 'resentment', 'emotions', 'embarrassment', 'indispensable', 'coldly', 'proudly', 'indescribable', 'irritation', 'trembling', 'dangers', 'solicitous', 'perturbation', 'needed', 'separating', 'XVI', 'curled', 'overthrow', 'development', 'unwelcome', 'blow', 'humiliation', 'doubled', 'dubious', 'thick', 'headed', 'instant', 'indebted', 'start', 'shewn', 'mortifying', 'respects', 'sunk', 'proposals', 'insulted', 'arrogance', 'pretended', 'abundance', 'devise', 'enrich', 'younger', 'ancient', 'landed', 'inconsiderable', 'belonged', 'sources', 'secondary', 'raving', 'honesty', 'courtesy', 'motive', 'warrant', 'ordinary', 'observation', 'trick', 'introducing', 'William', 'pert', 'explanation', 'future', 'continuing', 'temporary', 'gloom', 'analogy', 'operation', 'softened', 'brighter', 'disappoint', 'acute', 'principals', 'further', 'asunder', 'Day', 'atmosphere', 'frost', 'freeze', 'prisoner', 'excuses', 'confine', 'wise', 'seclusion', 'cleared', 'hanging', 'XVII', 'lamentations', 'innocently', 'feminine', 'ceremonious', 'Bath', 'compliance', 'regretted', 'impossibility', 'retain', 'commands', 'agreeably', 'announced', 'pointedly', 'solemnity', 'lonely', 'promptitude', 'recovered', 'undergo', 'penance', 'destroy', 'feeding', 'prophecies', 'confession', 'renewed', 'lowly', 'modesty', 'attaching', 'abundantly', 'artless', 'dignity', 'resemble', 'welfare', 'minded', 'discreet', 'promote', 'method', 'striving', 'Time', 'extinction', 'composure', 'routine', 'betraying', 'maintained', 'non', 'resolutely', 'inevitable', 'strive', 'evident', 'persisting', 'removal', 'moderation', 'wound', 'cure', 'XVIII', 'distant', 'occurs', 'proportionate', 'depression', 'flies', 'begins', 'restored', 'foresaw', 'suffer', 'suffered', 'temptation', 'announce', 'ending', 'perceived', 'arguments', 'unnatural', 'luxurious', 'contrived', 'tempers', 'conceived', 'limb', 'amount', 'rid', 'haunts', 'watering', 'proves', 'unfair', 'interior', 'vigour', 'messages', 'rightly', 'simply', 'mark', 'opposition', 'situations', 'provide', 'Standing', 'loud', 'hearts', 'principle', 'bending', 'unmanageable', 'transported', 'obedience', 'observance', 'burst', 'nought', 'roused', 'opposed', 'yielding', 'notions', 'expert', 'flourishing', 'hit', 'preserving', 'preventing', 'singular', 'doubly', 'signified', 'French', 'plausible', 'treasure', 'virtues', 'Cannot', 'throughout', 'chattering', 'coxcomb', 'enable', 'require', 'breathing', 'king', 'practised', 'display', 'flatteries', 'puppy', 'prejudiced', 'sins', 'presumed', 'imperfection', 'scanty', 'counteract', 'waste', 'floor', 'sized', 'apartment', 'cordially', 'knitting', 'warmest', 'thanks', 'Coles', 'Master', 'Ceremonies', 'ball', 'commendation', 'handsomely', 'wander', 'jumped', 'usher', 'dancing', 'inquiring', 'unexpected', 'eagerly', 'hunting', 'hid', 'apologise', 'fills', 'crosses', \"'--\", 'don', 'ma', 'amazingly', 'God', 'spectacles', 'handwriting', 'beautifully', 'deaf', 'Ma', 'twice', 'pondering', 'meanwhile', 'raising', 'remarkable', 'Friday', 'Saturday', 'Tuesday', 'Wednesday', 'Campbells', 'Ireland', 'Dixon', 'impatient', 'kingdoms', 'countries', 'declare', 'press', 'Dublin', 'blame', 'animating', 'excused', 'accompanying', 'backward', 'whirling', 'sails', 'dashed', 'presence', '!)', 'prefers', 'devoting', 'wisely', 'hang', 'considerate', 'unwell', 'Monday', 'flurry', 'drawback', 'poorly', 'unlucky', 'Bless', \"!'\", 'guard', 'story', 'glancing', 'detain', 'orphan', 'regiment', 'fame', 'save', 'dying', 'action', 'sinking', 'consumption', 'limited', 'officer', 'deserving', 'camp', 'saved', 'England', 'guest', 'fondness', 'appointments', 'hereafter', 'Living', 'discipline', 'culture', 'lighter', 'masters', 'abilities', 'nineteen', 'qualified', 'instruction', 'sharing', 'judicious', 'suggestions', 'remind', 'unseen', 'unabated', 'bread', 'earn', 'fortitude', 'retire', 'retained', 'wiser', 'resisted', 'weakened', 'varying', 'human', 'discharged', 'truths', 'double', 'recovery', 'Certain', 'welcoming', 'novelty', 'accusation', 'examination', 'acquit', 'eternal', 'fuss', 'reasons', 'imputed', 'magnified', 'injured', 'medium', 'fat', 'likeliest', 'grey', 'lashes', 'denied', 'skin', 'colour', 'fuller', 'reigning', 'admire', 'complacency', 'rendering', 'started', 'pitiable', 'seduced', 'actions', 'mischievous', 'suggested', 'sucking', 'poison', 'purest', 'resolving', 'effectually', 'career', 'laborious', 'Before', 'prejudices', 'reappeared', 'description', 'ate', 'caps', 'offences', 'necessarily', 'affectation', 'greatness', 'performance', 'cloak', 'suspiciously', 'bent', 'distinguished', 'artifice', 'changing', 'procure', 'forgive', 'provocation', 'openly', 'papers', 'swept', 'entertained', 'undone', 'instrument', 'indulgence', 'deficient', 'handed', 'arch', 'arises', 'discretion', 'perseverance', 'Once', 'appease', 'leg', 'pork', 'fried', 'ours', 'grease', 'hind', 'salted', 'salt', 'hither', 'Full', 'quickest', 'bountiful', 'sound', 'implied', 'bonnet', 'Patty', 'pan', 'washing', 'kitchen', 'Hawkins', 'desires', 'regards', 'oppress', 'lot', 'goodly', 'heritage', 'sly', 'precise', 'neighbour', 'joyfully', 'absorbing', 'starting', 'appeal', 'standard', 'bath', 'worn', 'whispered', 'discoveries', 'lets', 'humouredly', 'talkative', 'runs', 'strictly', 'shower', 'lamented', 'strangers', 'detaining', 'rush', 'heated', 'thither', 'evidence', 'corresponding', 'pour', 'gown', 'Ford', 'woollen', 'shop', 'dealt', 'fainted', 'umbrella', 'whispering', '?)', 'tremble', 'courage', 'floated', 'kindly', 'sincerely', 'described', 'wounded', 'genuine', 'disturbed', 'Ambition', 'discerning', 'exerted', 'trifle', 'rejoice', 'learned', 'shock', 'seeking', 'hitherto', 'condescension', 'Human', 'dies', 'Christian', 'series', 'deeply', 'gay', 'caring', 'thousands', '10', '000', 'l', 'rapidity', 'distinguishing', 'glorious', 'steps', 'accidental', 'Green', 'Brown', 'richly', 'scattered', 'sweetly', 'congratulated', 'fearless', 'cautiously', 'preparations', 'During', 'spread', 'moral', 'lesson', 'profitable', 'lessened', 'Many', '_', 'vaunted', 'disdain', 'uncertain', '.,', 'blood', 'Bristol', 'merchant', 'profits', 'hazarded', 'guessed', 'attorney', 'stupid', 'grandeur', 'alas', 'glimpse', 'somewhere', 'shoulder', 'warmth', 'conjecture', 'perpetually', 'furniture', 'invariable', 'irritated', 'ceaseless', 'hat', 'allowable', 'entertainment', 'variations', 'Sometimes', 'check', 'unhappiness', 'dared', 'driven', 'occasioned', 'neglect', 'ingratitude', 'determine', 'formal', 'drove', 'applications', 'Small', 'stars', 'trunk', 'lifted', 'butcher', 'cart', 'coaches', 'gravel', 'trees', 'revive', 'portion', 'summons', 'unattended', 'collected', 'commonplace', 'measured', 'marks', 'thankfully', 'justly', 'resent', 'Impossible', 'separated', 'process', 'refreshment', 'leaned', 'murmurs', 'commonest', 'Presently', 'accosted', 'Oxford', 'dry', 'exhausted', 'route', ';\"--', 'sparkling', 'unconscious', 'innocent', 'Think', 'injunction', 'Four', 'amendment', 'mounted', 'wore', 'sluggish', 'geography', 'tranquillity', 'faithful', 'pupil', 'eleven', 'downstairs', 'hall', '\"\\'', 'midst', 'liveliness', 'alter', 'earlier', 'quicker', 'creep', 'faster', 'needs', 'presume', 'admirably', 'falsehood', 'handled', 'exaggeration', ',--\"', 'Pleasant', 'rides', 'balls', 'musical', 'fathers', 'reception', 'wisest', 'conferred', 'thanking', 'using', 'extravagant', 'acquiescence', 'detected', 'Happily', 'foreseeing', 'treachery', 'nights', 'Crown', 'hay', 'errands', 'yours', 'Call', 'mixed', 'concurrence', 'fashionable', 'ordinarily', 'gifted', 'tongue', 'hearty', 'sees', 'hop', 'permitted', 'nod', 'engage', 'constant', 'bearing', 'construction', 'amends', 'securing', 'confessed', 'oftener', 'quest', 'positive', 'Inn', 'post', 'built', 'environs', 'furnish', 'particulars', 'argued', 'prevail', 'inclinations', 'holding', 'cheap', 'facing', 'recollected', 'successful', 'preparatory', 'betrayed', 'Ten', 'utter', 'Ill', 'Ladies', 'deplorable', 'defence', 'hue', 'peculiar', 'fortunately', 'disputing', 'attends', 'citizen', 'buy', 'sell', 'gloves', 'adored', 'popular', 'guinea', 'sleek', 'tied', 'parcels', 'York', 'counter', 'stretch', 'pronounce', 'commit', 'claiming', 'leaves', 'conclude', 'hesitatingly', 'plays', 'vouchsafed', 'sensibility', 'sounds', 'oneself', 'stupidity', 'improper', 'quickly', 'checking', 'scenes', 'outwardly', 'critical', 'wickedness', 'prone', 'quality', 'conquering', 'perpetual', 'pitied', 'shared', 'blockhead', 'accommodations', 'inevitably', 'butler', 'pantry', 'willingly', 'chaise', 'accord', 'rationality', 'extravagance', 'restlessness', 'charges', 'blot', 'marked', 'joint', 'harshly', 'allowances', 'bowed', 'bows', 'newspaper', 'Hum', 'relieve', 'provoke', 'Although', 'bearers', 'opportune', 'occurrence', 'yielded', 'larger', 'expenses', 'insult', 'assembled', 'consisting', 'dance', 'bare', 'acted', 'owned', 'solicited', 'folding', 'screen', 'draught', 'readily', 'briefly', 'neglecting', '_his_', 'numerous', 'resigned', 'Late', 'dews', 'desirous', 'incumbent', 'lessening', 'deliberately', 'treatment', 'decline', 'breaks', 'mortify', 'reminding', 'touches', 'liquor', 'risk', 'hurting', 'hungry', 'concealed', 'undaunted', 'impudent', 'handle', 'defend', 'vanities', 'inference', 'propensity', 'amply', 'noticing', 'helping', 'practise', 'plentiful', 'owner', 'taller', 'strongest', 'dexterity', 'male', 'Cox', 'females', 'politics', 'surrender', 'pleasantness', 'remote', 'relating', 'pianoforte', 'square', 'dialogue', 'ensued', 'bewildered', 'rejoiced', 'delightfully', 'instruments', 'indulging', 'entrapped', 'Nay', 'untouched', 'mode', 'elderly', 'guide', 'extend', 'reflect', 'trying', 'February', 'March', 'cases', 'adopt', 'noble', 'honestly', 'accident', 'overboard', 'vessel', 'consequent', 'durable', 'interrupted', 'courses', 'orderly', 'dish', 'injure', 'reasonings', 'giver', 'paternal', 'amid', 'remarks', 'jokes', 'blooming', 'heartily', 'pangs', 'shedding', 'purchased', 'guilt', 'dwelling', 'unsuspicious', 'en', 'restrained', 'hated', 'abundant', 'despise', 'questioned', 'reasonably', 'retirement', 'boast', 'across', 'rousing', 'curls', 'Irish', 'distinguish', ':--\"', 'soul', 'thoughtful', 'assisting', 'humane', 'humanity', 'disinterested', 'See', 'consent', 'amazed', 'supplanted', 'imprudence', 'mad', 'sheep', 'library', 'shameful', 'mimic', 'louder', 'drown', 'mysteriously', 'lamenting', 'reproached', 'sign', 'gaining', 'yield', 'perform', 'song', 'correctly', 'duly', 'accused', 'asserted', 'resign', 'vocal', 'sung', 'voices', 'momentary', 'objections', 'injury', 'conveying', 'cutting', 'indicate', 'disinclination', 'dwell', 'oath', 'Towards', 'fatigue', 'falls', 'indignantly', 'touching', 'Go', 'mercy', 'concert', 'performers', 'space', 'dances', 'waltz', 'top', 'dancer', 'mustered', 'suddenness', 'matched', 'partner', 'languid', 'dignified', 'repaid', 'splendour', 'Perfect', 'transgressed', 'submission', 'idleness', 'vigorously', 'comforted', 'lamp', 'sunshine', 'valued', 'execution', 'Italian', 'Besides', 'Coxes', 'producing', 'dined', 'Anne', 'swayed', 'stray', 'obstinate', 'mule', 'tray', 'tidy', 'homewards', 'basket', 'quarrelling', 'bone', 'baker', 'eyeing', 'gingerbread', 'enlarged', 'knocked', 'Immediately', 'reward', 'muslin', 'figured', 'ribbon', 'Should', 'Voices', '.--`', 'job', 'fastening', 'rivet', 'hindered', 'chimney', 'sweeping', 'baked', 'apples', 'Wallis', 'uncivil', 'custom', 'eats', 'gets', 'fruit', 'dumplings', 'oblige', 'ribbons', 'wrist', 'fasten', 'closet', 'baking', 'sack', 'orchard', 'famous', 'shocked', 'Larkins', 'distressed', 'bushel', 'bake', 'boil', 'Hodges', 'sacks', 'signify', 'remainder', 'unluckily', 'upstairs', 'narration', 'pursued', 'staircase', 'narrower', 'deprived', 'slumbering', 'Busy', 'calculated', 'livelihood', 'emotion', 'bars', 'feebly', 'pronounced', 'notes', 'prize', 'whisper', 'random', 'indefinite', 'contingencies', 'conveniences', 'aye', 'conjectures', 'workmen', 'tongues', 'labourers', 'restoring', 'healed', 'worlds', 'tune', 'coloured', 'incomplete', 'apparently', 'key', 'descried', 'casement', 'scepticism', 'store', 'watches', 'successively', 'wicked', 'pacing', 'dimensions', 'discovering', 'largest', 'undertook', 'reckoning', 'Five', 'Gilbert', 'cousins', 'speculation', 'score', 'wild', 'thoughtless', 'resorted', 'deemed', 'endeavoured', 'magnificent', 'crowd', 'gravely', 'measuring', 'art', 'forgave', 'purposes', 'terrors', 'waits', 'projected', 'exchange', 'repeat', 'explain', 'representations', 'inn', 'inhabited', 'bodies', 'Open', 'surely', 'curtain', 'sash', 'carefulness', 'measles', 'wrap', 'council', 'forlorn', 'clean', 'exchanged', 'Women', 'perplexity', 'ballroom', 'selves', 'draughts', 'miserably', 'crowded', 'sandwiches', 'fraud', 'briskly', 'stairs', 'chief', 'Suppose', 'Fetch', 'Both', 'Undoubtedly', 'Long', 'brisk', 'minor', 'lights', 'trifles', 'fro', 'suggesting', 'term', 'proceeding', 'uncertainty', 'prosperous', 'affording', 'noisy', 'Fine', 'aimed', 'indignant', 'Alas', 'joyful', 'urge', 'unwillingness', 'finale', 'exclaim', 'reflected', 'total', 'redeem', 'dejection', 'horrid', 'seize', 'destroyed', 'Happy', 'doubtfully', 'surpass', 'consciously', '_must_', 'reflecting', 'embarrassed', 'completed', 'incapable', 'correspond', 'correspondent', 'Short', 'constancy', 'weariness', 'oddest', 'mourners', 'triumphant', 'contradicted', 'opportunities', 'woeful', 'odious', 'headache', 'impute', 'languor', 'imaginary', 'quit', 'struggle', 'foresee', 'allusion', 'inexcusable', 'supposition', 'build', 'perusal', 'exterior', 'attractive', 'precision', 'keenly', 'restraints', 'wreath', 'lowest', 'folded', 'unchanged', 'subsequent', 'clothed', 'advantageous', 'speculations', 'confirming', 'behalf', 'latest', 'disappearance', 'attained', 'ringing', 'ingenuity', 'convincing', 'painful', 'exert', 'violence', 'Want', 'tenderness', 'beat', 'sighted', 'invaluable', 'names', 'changes', 'devotion', 'retreated', 'permit', 'hasty', 'witty', 'clothes', 'affectedly', 'composedly', 'shine', 'familiar', 'Maple', 'Grove', 'Suckling', 'grounds', 'favourably', 'entrance', 'appealed', 'exclaiming', 'reminded', 'transplanted', 'strikingly', 'bench', 'enchanted', 'People', 'extensive', 'attack', 'dyed', 'beauties', 'silenced', 'exploring', 'explore', 'barouche', 'landau', '_our_', 'King', 'attract', 'proverb', 'Selina', 'stuck', 'park', 'paling', 'mix', 'unknown', 'waters', 'wonderful', 'instances', 'secluded', 'host', 'resided', 'dashing', 'outrage', 'changed', 'precedes', 'passionately', 'devoid', 'E', 'accustomed', 'Blessed', 'smaller', 'spacious', 'apartments', 'pardoned', 'establish', 'allies', 'Bird', 'fright', 'Having', 'Worse', 'discover', 'airs', 'finery', 'bosom', 'diverted', 'Always', 'departure', 'hurts', 'remiss', 'neglected', 'More', 'breeding', 'interview', 'commend', 'contribution', 'sneering', 'colouring', 'enmity', 'broader', 'vent', 'contemptuous', 'plea', 'befriend', 'knight', 'flower', 'fragrance', 'desert', 'verified', 'calm', 'timid', 'timidity', 'partake', 'housekeeping', 'eligible', 'shortly', 'wear', 'punishment', 'merited', 'protection', 'Heavens', 'dares', 'limits', 'guidance', 'meditated', 'affable', 'condescending', 'astonishing', 'Midsummer', 'According', 'exist', 'refusing', 'inflicted', 'decree', 'issued', 'puzzle', 'condemn', 'faint', 'gratify', 'thou', 'treats', 'comparative', 'irresolute', 'buttons', 'leather', 'pressure', 'reverie', 'calls', 'appellation', 'vulgarity', 'accepts', 'faith', 'deed', 'insulting', 'permanent', 'accuse', 'alluded', 'conversed', 'triumphantly', 'Dinner', 'flowed', 'dissipated', 'dinners', 'rout', 'cakes', 'ice', 'tables', 'candles', 'unbroken', 'exposed', 'pitiful', 'bottom', 'eighth', 'accounts', 'begging', 'Since', 'stricken', 'professional', 'ninth', 'reluctant', 'unexpectedly', 'summoned', 'devote', 'pearls', 'wet', 'saves', 'drops', 'count', 'situated', 'Letters', 'curse', 'Business', 'outlived', 'concentrated', 'quivering', 'lip', 'claimed', 'Young', 'plants', 'stockings', 'patiently', 'cough', 'lord', 'Excuse', 'regularity', 'negligence', 'million', 'clerks', 'capacity', 'served', 'teaches', 'teaching', 'base', 'desk', 'specimen', 'Must', 'fetching', '_had_', 'encountered', 'expedition', 'repressed', 'April', 'candidates', 'cousin', 'Bragge', 'infinity', 'schoolroom', 'dispose', 'Trouble', 'strict', 'July', 'inexperience', 'unemployed', 'offices', 'Offices', 'flesh', 'intellect', 'fling', 'widely', 'harp', 'honourably', 'gaily', 'beau', 'quaint', 'trimmed', 'ornaments', 'show', 'silver', 'judges', 'mute', 'finishing', 'efforts', 'finger', 'prolong', 'shrugged', 'subdued', 'audible', 'Put', 'weighing', 'observant', 'overheard', 'interruption', 'precedent', 'fellows', 'southward', 'complained', 'grant', 'incredible', 'nicety', 'travels', 'sheets', 'precaution', 'land', 'interposed', 'beheld', 'Clifton', 'stationary', 'retired', 'immense', 'plantation', 'mend', 'robe', 'dispel', 'gloomy', 'disappointments', 'mentioning', 'genial', 'cheerless', 'prodigy', 'gratifying', 'injustice', 'indolent', 'helpless', 'insolence', 'mighty', 'West', 'Hall', 'direful', 'happens', 'nearest', 'resident', 'worry', 'comprised', 'spoil', 'Witness', 'goings', 'heretofore', 'unnoticed', 'dissipation', 'Aunt', 'fare', 'subsided', 'entangled', 'absolute', 'anticipating', 'tranquil', 'influenced', 'stories', 'fluttered', 'belief', 'group', 'trusting', 'wilful', 'declared', 'weaker', 'medicine', 'remove', 'Richmond', 'medical', 'eminent', 'appreciate', 'indisputable', 'nay', 'obstacle', 'lightened', 'witness', 'arriving', 'contents', 'desire', 'closely', 'inspection', 'General', 'modes', 'privy', 'graciousness', 'chained', 'gestures', 'movements', 'lighted', 'Gone', 'olive', 'feet', 'drop', 'mat', 'transformation', 'Dr', 'Richard', 'Otway', 'Caroline', 'Arthur', 'roasted', 'coffee', 'patient', 'praises', 'drowned', 'suspension', 'tones', 'disapprove', 'frown', 'rub', 'standers', 'players', 'pretending', 'bulky', 'forms', 'row', 'events', 'productive', 'dancers', 'sauntering', 'maintaining', 'omit', 'significant', 'glances', 'arranging', 'glee', 'cruel', 'bounded', 'hardened', 'Supper', 'spoon', 'nailed', 'Excellent', 'biscuits', 'throws', 'inquired', 'partners', 'Stop', 'Beautiful', 'queen', 'dishes', 'Soup', 'smells', 'unpardonable', 'rudeness', 'wounding', 'enemies', 'scold', 'leads', 'lazy', 'asleep', 'Whom', 'Brother', 'impertinence', 'ruin', 'suddenly', 'enabled', 'harbour', 'quickened', 'demands', 'iron', 'leaning', 'About', 'shaded', 'patch', 'gipsies', 'scream', 'steep', 'bank', 'mount', 'powerless', 'terrified', 'courageous', 'assailed', 'clamorous', 'impertinent', 'tempting', 'gang', 'demanding', 'insolent', 'delayed', 'scissors', 'clinging', 'adventure', 'foresight', 'chancing', 'rescue', 'mania', 'partially', 'clung', 'impelled', 'passive', 'Beyond', 'concealment', 'Within', 'trembled', 'indisposition', 'invent', 'operations', 'slightest', 'recital', 'seriousness', ').--', 'gifts', 'unfolded', 'ware', 'box', 'lined', 'softest', 'cotton', 'court', 'plaister', 'jumping', 'Remember', 'saving', 'pocket', 'senseless', 'tricks', 'secretly', 'bless', 'pulling', 'beer', 'burn', 'remembrances', 'gipsy', 'debate', 'dealing', 'speed', 'results', 'inexpressible', 'kissed', 'Sucklings', 'defeat', 'void', \"';\", 'remembering', 'Cowper', 'twilight', 'Myself', 'dreamt', 'dream', 'dreamer', 'dreaming', 'premature', 'heap', 'prepare', 'dreams', 'pop', 'preceded', 'suppressed', 'circular', 'meals', 'quietness', 'game', 'pointing', 'buried', 'exultingly', 'proclaimed', 'cheek', 'lain', 'vehicle', 'deeper', 'distrust', 'blinded', 'demure', 'excessive', 'darting', 'covert', 'averted', 'closing', 'dusk', 'sting', 'imparted', 'fruitless', 'twentieth', 'expressive', 'vouchsafe', 'arisen', 'staggered', 'prolonged', 'gaiety', 'coolness', 'fed', 'speedy', 'stores', 'interchange', 'restricted', 'eventually', 'Box', 'Hill', 'surprise', 'severity', 'goodwill', 'pigeon', 'pies', 'lamb', 'lame', 'Kings', 'strawberries', 'ripening', 'strawberry', 'beds', 'Name', 'Lady', 'authorised', 'baskets', 'pink', 'gardens', 'gather', 'meat', 'anything', 'donkey', 'dust', 'dirt', 'dusty', 'borrow', 'Under', 'blunt', 'lurking', 'horrors', 'dispensed', 'bright', 'mid', 'listener', 'viewed', 'building', 'characteristic', 'sheltered', 'stretching', 'washed', 'stream', 'timber', 'rows', 'avenues', 'rooted', 'covering', 'indulged', 'apparatus', 'gathering', 'sorts', 'Delightful', 'Morning', 'scarce', 'wood', 'gardeners', 'delicious', 'cherries', 'currants', 'refreshing', 'circles', 'spheres', 'ranks', 'negative', 'insisted', 'avenue', 'river', 'wall', 'pillars', 'slope', 'abruptness', 'curve', 'verdure', 'prosperity', 'pastures', 'spreading', 'flocks', 'blossom', 'column', 'smoke', 'ascending', 'etc', 'mare', 'repast', 'ponds', 'clover', 'stirred', 'engravings', 'drawers', 'shells', 'plot', 'lime', 'wearied', 'Mine', 'quitting', 'endurance', 'St', 'Mark', 'Place', 'Venice', 'blameless', 'seizure', 'intolerable', 'defined', 'hotter', 'discomposed', 'sketches', 'poem', 'climate', 'prescribed', 'penetrating', 'concluded', 'final', 'exclude', 'acceptance', 'punctuality', 'Seven', 'travelled', 'union', 'hill', 'enlivened', 'estimation', 'laying', 'winning', 'commanded', 'overcame', 'broken', 'bounds', 'management', 'unanswerable', 'lowering', 'impudence', 'swell', 'rouse', 'swelled', 'presiding', 'carelessly', 'murmured', 'unheard', 'verse', 'shan', 'Pardon', 'mock', 'reckon', 'Low', 'M', 'gratification', 'explains', 'vivacity', 'Pass', 'characters', 'oppression', '.)', 'Find', 'undertake', 'excepted', 'overtake', 'car', 'pitch', 'merriment', 'depart', 'unfeeling', 'generosity', 'irksome', 'blended', 'badly', 'infant', 'advancing', 'motionless', 'combined', 'reproaching', 'brutal', 'abhorred', 'sweetest', 'scornful', 'contrition', 'penitence', 'ridicule', 'ushered', 'escaping', 'twinkling', 'lie', 'knock', 'Smallridge', 'indefatigable', 'Except', 'sums', 'earned', 'clerk', 'ridden', 'rheumatic', 'gout', 'joints', 'ostler', 'messenger', 'Tom', 'astonish', 'pensive', 'meditations', 'carries', 'heightened', 'instantaneous', 'movement', 'undecided', 'disturbing', 'background', 'hasten', 'departed', 'disliked', 'acquitted', 'mourning', 'earliest', 'awe', 'rested', 'benefited', 'freed', 'refrained', 'maintenance', 'communicating', 'funeral', 'Windsor', 'testify', 'verbal', 'appetite', 'undertaken', 'derived', 'tremulous', 'diet', 'nourishing', 'despatched', 'wandering', 'peremptorily', 'reprove', 'unaccountable', 'hush', 'Break', 'sacred', 'relate', 'undesirable', 'agony', 'inspired', 'abhor', 'resuming', 'conversations', 'believing', 'utterance', 'darling', 'persevering', 'placidity', 'expressly', 'impropriety', 'None', 'integrity', 'excusable', 'system', 'vault', 'survive', 'hypocrisy', 'deceit', 'league', 'duped', 'comparing', 'intreat', 'condolence', 'tormenting', 'deepest', 'dupe', 'author', 'guilty', 'risking', 'insufficient', 'Common', 'rival', 'repulsed', 'rack', 'elevation', 'communicate', 'token', 'recently', 'unable', 'owning', 'perplexed', 'privately', 'Him', 'misunderstood', 'assert', 'modestly', 'withdrawn', 'silently', 'arrow', 'irrational', 'enquired', 'forfeit', 'counsels', 'threatening', 'create', 'inward', 'delivered', 'feebleness', 'agreement', 'unsuspected', 'relation', 'multiplied', 'enquiring', 'bitter', 'worship', 'footsteps', 'spontaneous', 'amidst', 'rushed', 'practising', 'posture', 'weakly', 'imposed', 'imposing', 'involuntary', 'delusion', 'stale', 'inconveniences', 'inconsistent', 'incongruous', 'sequel', 'stoop', 'worldly', 'inexpressibly', 'impartiality', 'Marriage', 'incompatible', 'henceforward', 'wretchedly', 'decisively', 'confidential', 'waking', 'elect', 'essential', 'reports', 'rapturous', 'affecting', 'converse', 'pent', 'energetic', 'uttered', 'consented', 'misconduct', 'contributed', 'irritable', 'closer', 'Birth', 'foolishly', 'levity', 'carelessness', 'surrounding', 'enemy', 'stabbed', 'stormy', 'shrubs', 'cost', 'deserted', 'forebodings', 'brightened', 'ruined', 'tie', 'losses', 'seconds', 'loneliness', 'reign', 'smell', 'serenity', 'unquestionably', 'constrained', 'pained', 'doomed', 'scoundrel', 'rewarded', 'hundreds', 'sets', 'calculation', 'purity', 'mortals', 'meets', 'gains', 'weary', 'envied', 'startled', 'confide', 'reconcile', 'indecision', 'contemplation', 'Stay', 'refer', 'Say', 'awakened', 'blamed', 'Bear', 'velocity', 'attendant', 'render', 'flight', 'astray', 'despaired', 'crushed', 'disguised', 'soothe', 'enlightened', 'witnessing', 'differing', 'brilliancy', 'stayed', 'gladness', 'keen', 'faultless', 'villain', 'daring', 'respite', 'western', 'plotting', 'breast', 'lungs', 'articles', 'contentment', 'sleepless', 'tax', 'wept', 'sin', 'streets', 'shops', 'stolen', 'literally', 'contain', 'waded', 'enclosed', 'preface', 'east', 'Yours', 'W', '.]', 'MY', 'DEAR', 'rises', 'discuss', 'brick', 'casements', 'creation', 'bursts', 'obtaining', 'correspondence', 'inheritance', 'lands', 'excites', 'dropped', 'indicated', 'penetrated', 'sinned', 'brotherly', '--,', 'insane', 'shrunk', 'shamefully', 'dissatisfaction', 'consistent', 'useless', 'officious', 'filled', 'hatred', 'extended', 'locked', 'stating', 'adding', 'subordinate', 'conveyance', 'requested', 'stared', 'threaten', 'wan', 'release', 'dictate', 'undoubted', 'subscribe', 'Son', 'foretold', 'Bad', 'impartial', 'distrusted', 'disapprobation', 'Too', 'Natural', 'Mystery', 'pervert', 'boyish', 'contend', 'repentance', 'dissolved', 'suffers', '\"`', 'tens', 'acquire', 'attacking', 'Like', 'evinced', 'sacrificing', 'expectant', 'saucy', 'contemplated', 'outweigh', 'periods', 'involve', 'worshipped', 'reproaches', 'usage', 'stroke', 'tooth', 'haunted', 'enduring', 'appointed', 'crown', 'checked', 'expedient', 'accounted', 'penetrate', 'fold', 'purple', 'gold', 'nods', 'S', 'admits', 'Hush', '----', 'minister', 'managed', 'palpable', 'physician', 'cloud', 'resulting', 'commonly', 'whispers', 'magistrates', 'overseers', 'bar', 'consultation', 'denoted', 'smallness', 'greeted', 'fields', 'woods', 'protesting', 'indignity', 'eccentric', 'Harry', 'receipt', 'disgusted', 'owe', 'artificial', 'sons', 'sports', 'fancies', 'La', 'de', 'infancy', 'bitterness', 'spoilt', 'endeavours', 'corrected', 'Nature', 'lecture', 'dint', 'thirteen', 'fits', 'K', 'N', 'follies', 'attribute', 'enters', 'differ', 'oppressed', 'unprepared', 'bound', 'affectionately', 'marriages', 'secondly', 'singularly', 'renounced', 'disposing', 'impediment', 'shifted', 'knee', 'sagacity', 'habitation', 'Rather', 'abused', 'composing', 'flushed', 'intends', 'chambers', 'coach', 'overflowing', 'respectability', 'shows', 'cattle', 'ox', 'emphasis', 'brightest', 'utility', 'disappearing', 'lessons', 'humility', 'circumspection', 'doleful', 'High', 'disguise', 'hateful', 'gayest', 'figures', 'stays', 'forgiving', 'forbade', 'Early', 'transgression', 'bond', 'northward', 'dog', 'mirth', 'dispositions', 'bids', 'gesture', 'Observe', 'inclining', 'jewels', 'ornament', 'commended', 'disordered', 'partly', 'regarding', 'completion', 'intervals', 'presumptuous', 'fullest', 'unintelligible', 'decent', 'stain', 'nobility', 'liberally', 'created', 'gradual', 'clergyman', 'altar', 'intermediate', 'seaside', 'sounded', 'hopeless', 'resignation', 'poultry', 'robbed', 'Other', 'protected', 'detailed', 'satin', 'stare', 'deficiencies', 'predictions', 'band', 'Chapter', '1', 'Walter', 'Elliot', 'Kellynch', 'Somersetshire', 'faculties', 'remnant', 'arising', 'contempt', 'endless', 'creations', 'century', 'leaf', 'volume', 'OF', '15', 'Esq', '9', '5', 'Mary', '20', 'paragraph', 'printer', '16', 'Charles', 'Musgrove', 'Uppercross', 'accurately', 'Cheshire', 'serving', 'successive', 'loyalty', 'baronet', 'Heir', 'grandson', 'Few', 'valet', 'judgement', 'awful', 'bequeath', 'mainly', 'relied', 'Russell', 'discontented', 'god', 'vanished', 'faded', 'handsomer', 'wreck', 'everybody', 'haggard', 'crow', 'temples', 'directing', 'winters', 'revolving', 'springs', 'blossoms', 'annual', 'apprehensions', 'supported', 'uniting', 'publicly', 'House', 'Commons', 'conducted', 'wearing', 'offspring', 'contemptuously', 'bills', 'Shepherd', 'agent', 'possessor', 'economy', 'ardour', 'finally', 'branches', 'furnishing', 'yearly', 'condescend', 'neighbouring', 'reduce', 'involving', '2', 'anybody', 'implicit', 'reference', 'resolute', 'adopted', 'zealous', 'aristocratic', 'cultivated', 'landlord', 'calculations', 'vigorous', 'everything', 'equity', 'regulations', 'prevailing', 'debts', 'rated', 'rigid', 'household', 'whither', 'outline', 'lawns', 'groves', 'skilful', 'descend', 'Lodge', 'heads', 'profound', 'breathed', 'advertise', 'spurned', 'forbad', 'burden', 'sensibly', 'lesser', 'Clay', '3', 'juncture', 'naval', 'officers', 'ashore', 'tenants', 'admiral', 'hey', 'navy', 'methods', 'Therefore', 'elude', 'wealthy', 'commanders', 'sarcastically', 'surprised', 'sailor', 'tenant', 'Everything', 'annexed', 'soldier', 'usages', 'offensive', 'First', 'obscure', 'cuts', 'horribly', 'disdained', 'curate', 'Admiral', 'mahogany', 'rugged', 'wrinkles', 'hairs', 'dab', 'powder', 'heaven', 'Old', 'sixty', 'Forty', 'yourselves', 'sailors', 'betimes', 'Soldiers', 'toil', 'infected', 'poisonous', 'choosing', 'torment', 'bespeak', 'Croft', 'Taunton', 'hastened', 'connection', 'conference', 'rear', 'East', 'Indies', 'stationed', 'orange', 'cuffs', 'livery', 'beaten', 'rent', 'gun', 'eloquent', 'preserver', 'shrewd', 'conversant', 'Monkford', 'conception', 'Governor', 'trespass', 'torn', 'compromise', 'Wentworth', 'curacy', 'Came', 'ay', 'Crofts', 'ranked', 'dues', 'anyone', 'inhabit', 'nation', 'precedence', 'suspend', 'grove', '4', 'Frederick', 'commander', 'sum', 'lavish', 'attaining', 'affluence', 'snatched', 'killing', 'freely', 'realized', 'ship', 'operated', 'combat', 'withstand', 'clouded', 'rupture', 'borders', 'disadvantage', 'newspapers', 'Providence', 'romance', 'stroll', 'harden', 'oblivion', 'sprung', 'anew', 'foreign', 'Each', 'polished', 'preliminary', 'sheweth', 'sympathetic', 'Thames', 'reciprocal', 'preceding', 'glare', 'grieving', 'forego', 'entreaty', 'Cottage', 'reasoning', 'intervening', 'affront', 'freckles', 'projecting', 'clumsy', 'assiduous', 'perceptible', 'warning', 'absurd', 'sakes', 'defect', 'afflicted', 'desolate', 'stage', 'squire', 'walls', 'substantial', 'compact', 'tight', 'parsonage', 'vine', 'pear', 'trained', 'elevated', 'traveller', 'premises', 'lying', 'summers', 'Thursday', 'shooting', 'Musgroves', 'duplicate', 'trunks', 'enquiries', 'sits', 'Henrietta', 'nosegay', 'shining', 'piano', 'forte', 'brown', 'velvet', 'staring', 'Louisa', 'Exeter', 'favourites', '6', 'include', 'Elliots', 'pervading', 'occupying', 'Queen', 'dogs', 'fitting', 'ere', 'member', 'clothe', 'inaccessible', 'contended', 'uses', 'theory', 'spoils', 'mood', 'trash', 'managing', 'treason', 'Jemima', 'interfering', 'swears', 'Again', 'mamma', 'preferring', 'fingers', 'limbs', 'chanced', 'uprightness', 'teeth', 'symptom', 'Edward', 'forgetfulness', 'attacks', 'coat', 'pockets', 'folks', 'apologize', 'captain', 'pathetic', 'shore', 'unprofitable', 'Dick', 'board', 'frigate', 'Laconia', 'ships', 'inure', 'stamped', 'schoolmaster', '7', 'roof', 'cellars', 'collar', 'hysterics', 'control', 'banish', 'vague', 'replaced', 'Robinson', 'rubbed', 'spine', 'bold', 'Husbands', 'hysterical', 'scolding', 'kicking', 'tapping', 'oddly', 'constructed', 'shyness', 'shoot', 'Eight', 'wisdom', 'revenge', 'manly', 'Sophia', 'Anybody', 'fifteen', '8', 'descriptions', 'conceiving', 'couples', 'tastes', 'countenances', 'learning', 'fork', 'List', 'Asp', 'Phoo', 'phoo', 'stuff', 'sloop', 'Lucky', 'appointment', 'foul', 'Plymouth', 'Sound', 'gale', 'Nation', 'exclamations', 'beckoning', 'Gibraltar', 'mindful', 'commissioned', 'cruise', 'Western', 'Islands', 'Harville', 'Mediterranean', 'curl', 'transient', 'insignificant', 'barrier', 'slender', 'Portsmouth', 'merged', 'idly', 'port', 'Ay', 'Atlantic', 'dissent', 'Deal', 'North', 'Seas', 'unobserved', 'Hayters', 'rivals', 'trace', 'ruins', 'charms', 'perfections', 'possessions', 'grass', 'Hayter', 'unguarded', 'defective', 'Cousin', 'prettiest', 'Mansion', 'existing', 'connections', 'Bishop', 'Winthrop', 'acres', 'lightness', 'sympathize', 'estranged', 'Shirley', 'discharging', 'infirm', 'politely', 'kneel', 'crossing', 'seating', 'straight', 'knelt', 'sturdy', 'neck', 'speechless', 'stepping', 'jealousies', 'regretting', 'guile', 'studying', 'Everybody', 'paths', 'tawny', 'withered', 'poetical', 'extant', 'inexhaustible', 'bursting', 'hail', 'hills', 'upset', 'tossed', 'overturned', 'enthusiasm', 'fraught', 'images', 'ascent', 'sweets', 'summit', 'stretched', 'barns', 'buildings', 'yard', 'arguing', 'resting', 'succession', 'scornfully', 'brow', 'stile', 'gleaning', 'nuts', 'degrees', 'sunny', 'overtook', 'woe', 'firmness', 'sway', 'nut', 'bough', 'glossy', 'storms', 'brethren', 'trodden', 'hazel', 'cherish', 'bush', 'retreating', 'conjectured', 'withdrawing', 'strip', 'meadow', 'reap', 'dropping', 'nettles', 'hunt', 'exit', 'instinctively', 'condemning', 'Sophy', 'canvass', 'reins', 'judiciously', 'dung', '11', 'thence', 'painfully', 'apace', 'Lyme', 'armed', 'heedless', 'noon', 'curricle', 'descending', 'ordering', 'inns', 'Cobb', 'bay', 'machines', 'improvements', 'cliffs', 'sweeps', 'backed', 'fragments', 'rock', 'sands', 'tide', 'woody', 'Up', 'green', 'rocks', 'forest', 'orchards', 'luxuriant', 'growth', 'generation', 'cliff', 'exhibited', 'resembling', 'famed', 'Isle', 'linger', 'pier', 'Harvilles', 'Benwick', 'lieutenant', 'promotion', 'Fanny', 'heavily', 'retiring', 'sedentary', 'augmented', 'adapted', 'formality', 'sprang', 'lodging', 'plight', 'rare', 'species', 'repose', 'reader', 'shelves', 'volumes', 'varnished', 'glued', 'toys', 'needles', 'pins', 'fishing', 'net', 'thoroughfare', 'Captains', 'recurring', 'abstraction', 'poetry', 'struggling', 'richness', 'poets', 'showed', 'sparingly', 'emboldened', 'fortify', 'precepts', 'examples', 'religious', 'sighs', 'noted', 'preach', '12', 'flowing', 'south', 'breeze', 'flat', 'dispensation', 'performed', 'courteous', 'disposal', 'upwards', 'beach', 'ascended', 'blowing', 'brightness', 'groom', 'issuing', 'waiter', 'Dare', 'smart', 'ecstasy', 'publish', 'panel', 'attempting', 'luckily', 'Scott', 'Byron', 'readers', 'Cape', 'rowed', 'renew', 'cling', 'hardness', 'pavement', 'jar', 'reasoned', 'Lower', 'lifeless', 'bruise', 'pallid', 'screamed', 'obeyed', 'staggering', 'bitterest', 'surgeon', 'corpse', 'sobs', 'instinct', 'animate', 'boatmen', 'treading', 'await', 'fervent', 'prayer', 'swinging', 'vehement', 'stead', 'reluctantly', 'spots', 'shrink', 'supporting', '13', 'multiply', 'Sarah', 'obtain', 'comforters', 'impart', 'adieu', 'dripping', 'misty', 'record', 'evade', 'resume', 'compelled', 'Camden', 'fainter', 'inured', 'owners', \"'.\", 'Strangers', 'heave', 'catastrophe', 'ascertained', 'plaster', 'Get', 'slip', 'lend', 'snug', 'blows', '14', 'lighten', 'bathed', 'behold', 'shot', 'boldly', 'poring', 'extraordinarily', 'guarding', 'tyranny', 'silk', 'brawn', 'riotous', 'roaring', 'clamour', 'knees', 'hurricane', 'noises', 'dash', 'rumble', 'carts', 'bawling', 'persisted', 'dim', 'smoking', 'proclaim', 'Rivers', 'Street', 'lofty', 'imprisonment', 'boasting', ';)', 'originated', 'misapprehension', 'Marlborough', 'Buildings', 'variance', 'richer', 'title', 'solution', 'investigation', 'glimpses', 'shaped', 'counted', 'eighty', 'frosty', 'test', 'multitude', 'ugly', 'sandy', 'haired', 'nose', 'winds', 'cap', 'suspended', ');', 'relationship', 'certify', 'possessing', 'diffused', 'watchman', 'tale', 'stealing', 'fresher', 'diminished', 'overlooked', 'drinks', 'conversing', 'solid', 'superficial', 'candid', 'mature', 'simplest', 'Dalrymple', 'Honourable', 'Carteret', 'contact', 'reduced', 'ears', 'sinner', 'unimportant', 'Family', 'Laura', 'toils', 'shakes', '17', 'Hamilton', 'legs', 'cripple', 'baths', 'Westgate', 'kindled', 'invariably', 'transformed', 'bedroom', 'elasticity', 'choicest', 'gift', 'merciful', 'designed', 'landlady', 'nursing', 'thread', 'pin', 'cushions', 'merchandise', 'Rooke', 'fund', 'newest', 'mankind', 'edify', 'expensive', 'intend', 'dissimilar', 'surname', 'ladyship', 'widowhood', 'maker', 'subdue', 'bewitched', 'adverse', 'practices', 'cleansed', 'impressions', 'incurable', 'frank', 'slipped', 'sweeter', '18', 'thicker', '1st', 'pavements', 'inattention', 'joins', 'envelope', 'enquiry', 'akin', 'severed', 'unfairly', 'dawning', 'toward', 'derive', 'sentimental', 'investigate', 'Gay', 'shares', 'Knowing', 'knot', 'Milsom', 'print', 'frankness', 'treating', 'boat', 'queer', 'shapeless', 'mightily', 'mountains', 'heels', 'Drew', 'kisses', 'chairs', 'courting', 'murmur', 'hide', 'bespoke', '19', 'stepped', 'boots', 'thickest', 'Union', 'outer', 'obviously', 'blinding', 'bewildering', 'significance', 'feign', 'recognition', 'unalterable', 'rains', 'wont', 'imperfect', 'groups', 'mistaking', 'fascination', 'withdraw', 'climes', 'theatre', 'amusements', 'solely', 'Room', 'flag', 'sides', 'reddening', 'pierced', 'buzz', 'needful', 'disappeared', 'marshal', 'glowed', 'visions', 'benches', 'foremost', 'scientific', 'bill', 'translate', 'inverted', 'nameless', 'bowing', 'cluster', 'orchestra', 'sacrificed', 'consumed', 'farewell', 'quieted', 'incalculable', '21', 'wrought', 'sporting', 'purification', 'perfume', 'mouths', 'sparrows', 'chooses', 'overspread', 'instantaneously', 'willingness', 'official', 'Next', 'plead', 'shipwrecked', 'Surely', 'doubting', 'hates', 'surface', 'Hear', 'wary', 'blooded', 'cruelty', 'hollow', 'abuse', 'Temple', 'farthing', 'mar', 'Money', 'grandfather', 'contradictory', 'inlaid', 'shelf', 'unlocked', 'document', 'Wells', 'cash', 'swear', 'hammer', 'nevertheless', 'equivalent', 'laws', 'testimonies', 'testimony', 'hypocrite', 'rubbish', 'prior', 'west', 'improbable', 'states', 'avarice', 'omitted', 'artful', 'details', 'cunning', 'revolting', 'thoughtfulness', 'despised', 'heaped', 'anguish', 'stern', 'crime', 'hinted', 'payment', 'disabled', 'bodily', 'straitened', 'giddy', 'shudder', 'disclosed', '22', 'Pity', 'springing', 'spell', 'harder', 'lifting', 'placid', 'license', 'kindle', 'destruction', 'deception', 'poems', 'hideous', 'Make', 'White', 'Hart', 'ostentatiously', 'consisted', 'beside', 'Dorsetshire', 'special', 'ambitious', 'starts', 'fought', 'brave', 'rat', 'mirrors', 'china', 'risen', 'profess', 'won', 'wonted', 'altering', 'keys', 'overlooking', 'hotel', 'ensured', 'heavens', 'concerning', 'haste', 'n', 'forgetful', 'representative', 'heirs', 'scandalous', 'reserving', 'faced', 'ponder', 'wherewith', 'chill', 'hushed', 'heartless', 'sank', 'toilsome', 'gnawing', 'defy', 'overbearing', 'Yard', '23', 'explanatory', 'strictest', 'plunged', 'tasting', 'materials', 'unwise', 'thrill', 'pausing', 'enforced', 'assumed', 'unfolding', 'miniature', 'painting', 'German', 'doted', 'prey', 'weaken', 'heaviest', 'robust', 'toiling', 'faltering', 'signal', 'histories', 'Songs', 'proverbs', 'wings', 'glories', 'treasures', 'covet', 'loving', 'revolution', 'Anything', 'defied', 'devoured', 'pierce', 'undeviating', 'desperation', 'doctor', 'll', 'prophesied', 'Because', 'Market', 'barrel', 'rapture', 'immortality', 'exquisitely', 'paced', 'bustling', 'today', 'vanquished', 'poured', 'Thus', 'loveliest', 'obstinacy', 'exalt', 'regain', 'remorse', 'homage', 'tearing', 'overwhelmed', 'rallied', 'meditation', 'steadfast', 'shorter', 'forbearing', 'err', 'deliberation', 'posted', 'rewards', 'brook', '24', 'ultimate', 'daylight', 'eyed', 'balanced', 'sounding', 'discernment', 'discomfited', 'resort', 'transgressions', 'dividing', 'kinds', 'petty', 'acquisition', 'supplies', 'national', 'Sense', 'Dashwood', 'Sussex', 'Norland', 'Gentleman', 'articulation', 'survived', 'prudently', 'discharge', 'caricature', 'fortunes', 'warmed', 'attendants', 'dispute', 'unpleasing', 'HER', 'honor', 'whomsoever', 'breach', 'Elinor', 'effectual', 'govern', 'Marianne', 'sorrows', 'joys', 'cherished', 'admitting', 'Margaret', 'seasons', 'rob', 'Dashwoods', 'THAT', 'prodigious', 'THEY', 'annuity', 'Twice', 'abhorrence', 'NOT', 'raises', 'bind', 'YOU', 'fulfil', 'acts', 'ONE', 'plate', 'THEM', 'earthly', 'mothers', 'Ferrars', 'doctrine', 'attracted', 'indication', 'political', 'unobtrusive', 'SHE', 'Mamma', 'Music', 'tame', 'severely', 'impenetrable', 'WOULD', 'dissatisfied', 'keeps', 'uncommonly', 'Cold', 'HIM', 'IN', 'endeavor', 'Devonshire', 'Barton', 'Middleton', 'fulfilled', 'drift', 'shed', 'wandered', 'viewing', 'decay', 'although', 'fertile', 'wooded', 'pasture', 'winding', 'wicket', 'shutters', 'painted', 'repair', 'dried', 'cheered', 'downs', 'valley', 'additions', 'parlors', 'garret', 'sociable', 'recurred', 'extremity', 'enquire', 'resembled', 'debating', 'Middletons', 'compass', 'sportsman', 'hunted', 'inhabitants', 'procured', 'showing', 'Jennings', 'laughter', 'raillery', 'Brandon', 'bachelor', 'boisterous', 'pulled', 'tore', 'position', 'celebrated', 'applauded', 'ecstatic', 'colonel', 'jointure', 'ability', 'HE', 'infirmity', 'protect', 'miracle', 'commercial', 'flannel', 'waistcoats', 'waistcoat', 'afflict', 'Confess', 'grate', 'bedchamber', 'unaccountably', 'Allenham', 'abounded', 'valleys', 'gales', 'intrusion', 'Willoughby', 'tomorrow', 'theme', 'adorned', 'dresses', 'jacket', 'sprained', 'ankle', 'Know', 'bolder', 'rider', 'nicest', 'shades', 'Court', 'inherit', 'tumbling', 'smitten', 'ankles', 'styled', 'cant', 'violently', 'conformity', 'authors', 'convert', 'passages', 'familiarity', 'Pope', 'picturesque', 'erred', 'deceitful', 'roads', 'rash', 'riches', 'assigned', 'remembers', 'HIS', 'coats', 'Add', 'mass', 'stubborn', 'aim', 'cheated', 'everlasting', 'Jenning', 'define', 'criminal', 'perverseness', 'disastrous', 'gallop', 'pronouncing', 'Down', 'Last', 'tumbled', 'stated', 'withhold', 'sail', 'provisions', 'excursion', 'Whitwell', 'Among', 'invented', 'guineas', 'pry', 'Williams', 'lanes', 'leant', 'evince', 'WAS', 'bowling', 'befallen', 'Delaford', 'wager', 'NOW', 'pull', 'Combe', 'lowered', 'handkerchief', 'exercised', 'ME', 'suspects', 'dismiss', 'DOES', 'certainties', 'departing', 'ARE', 'uniformly', 'WE', 'swollen', 'nourishment', 'forbidding', 'potent', 'crying', 'gazing', 'sadness', 'alternately', 'inflict', 'forcing', 'Hamlet', '...', 'stole', 'climbing', 'Amongst', 'thickly', 'showers', 'extending', 'orator', 'eloquence', 'Strange', 'YOUR', 'external', 'TWO', 'hunters', 'Magna', 'novel', 'unanimous', 'content', 'Forgive', 'disputes', 'loose', 'bulk', 'maxim', 'deliberate', 'judgments', 'Reserved', '***', 'minutely', 'surfaces', 'uncouth', 'moss', 'brush', 'affects', 'landscape', 'scenery', 'tries', 'detest', 'crooked', 'blasted', 'tattered', 'cottages', 'thistles', 'heath', 'tower', 'troop', 'villages', 'conspicuous', 'surpassed', 'casts', 'theft', 'satisfying', 'forgiveness', 'founded', 'instructions', 'MUST', 'consistency', 'fettered', 'army', 'trades', 'fascinating', 'augment', 'busily', 'faulty', 'shutting', 'forbidden', 'knocking', 'turf', 'Palmers', 'Charlotte', 'Palmer', 'surveying', 'meantime', 'expects', 'monstrous', 'pitched', 'droll', 'billiard', 'vile', 'whip', 'Cleveland', 'sneer', 'election', 'Parliament', 'P', 'palm', 'languages', 'gathered', 'Somehow', 'philosophy', 'enthusiastic', 'Steeles', 'Lucy', 'playthings', 'unceasing', 'foibles', 'credulous', 'swallow', 'bags', 'searched', 'monkey', 'bestowing', 'scratching', 'screams', 'agonies', 'lap', 'stuffed', 'sugar', 'plums', 'sobbed', 'kicked', 'ineffectual', 'bruised', 'temple', 'scratch', 'Steele', 'task', 'outside', 'beaux', 'm', 'vastly', 'nasty', 'Rose', 'Simpson', 'consists', 'proclaiming', 'newer', 'countless', 'assertions', 'DID', 'amiably', 'bashful', 'ROBERT', 'divine', 'incredulity', 'faithfully', 'Pratt', 'Longstaple', 'puts', 'paces', 'wiping', 'sometime', 'confounded', 'answerable', 'deceiving', 'feigned', 'illusion', 'frivolous', 'alienated', 'unkindness', 'condemnation', 'joking', 'mistrust', 'fairer', 'filigree', 'tuned', 'rolling', 'terrible', 'profited', 'truest', 'deprive', 'angrily', 'beset', 'inform', 'dismissed', 'fulfill', 'festival', '25', 'traded', 'alleged', 'DO', 've', 'Betty', 'referred', 'disregard', 'separately', 'abandoned', '26', 'salmon', 'cod', 'fowls', 'footman', 'penny', 'rap', 'decently', 'caused', 'bee', 'Wherever', 'abstracted', 'porter', 'permitting', 'mysterious', 'backwards', '27', 'tis', 'tonight', 'privacy', 'eluded', 'city', 'Pleased', 'compound', 'Berkeley', 'Conduit', 'awakening', 'impatiently', 'shield', 'imaginable', '28', 'alighted', 'landing', 'splendidly', 'lit', 'mingle', 'wildest', 'Wait', 'incessantly', 'Scarcely', 'undressed', 'unprincipled', '29', 'kneeling', 'sooth', 'pitying', 'worsted', 'choked', 'obey', 'obedient', 'JOHN', 'deliverance', 'chariot', 'aching', 'COULD', 'torrent', 'kill', 'torture', 'wildly', 'CAN', 'D', \"',\", 'justification', 'condemned', 'covenant', 'blackest', 'firmer', 'barbarous', 'malignant', 'nobly', 'innocence', 'posts', 'shuddering', '30', 'Grey', 'admirers', 'tiptoe', 'olives', 'Fifty', 'reform', 'guardians', 'moan', 'THIS', 'Law', 'hilarity', 'Mind', 'mulberry', 'dove', 'canal', 'arbour', 'drives', 'pillow', 'repaired', 'tasted', 'swallowed', 'healing', 'unfathomable', 'identify', '31', 'impetuous', 'uniform', 'delicacies', 'outstretched', 'rushing', 'streamed', 'passionate', 'withdrew', 'referring', 'HAD', 'lightly', 'salutation', 'VERY', 'tending', 'SHALL', 'Eliza', 'blindly', 'inexperienced', 'search', 'beholding', 'Life', 'WILL', 'fourteenth', 'clue', 'ranging', 'doubtless', 'tormented', 'strengthen', 'afflictions', 'endeavors', 'punish', 'delivery', '32', 'brooding', 'Against', 'cheat', 'reaped', 'Folly', 'painter', 'worried', 'assemblies', 'Bartlett', 'awhile', 'shillings', 'Doctor', 'laughs', 'Nancy', 'hostile', 'plagued', 'US', '33', 'Gray', 'toothpick', 'ivory', 'beasts', 'seal', 'narrowly', 'ALL', 'Morton', 'enclosure', 'HAS', 'stocks', 'banker', 'Far', 'walnut', 'thorns', 'patches', 'buying', 'rings', 'Whereas', 'conscientious', 'destroys', 'easiest', '34', 'Harley', 'irrepressible', 'sallow', 'contraction', 'rescued', 'laboured', 'heights', 'tallest', 'paint', 'stiffly', 'audacity', 'hiding', 'enraged', '35', 'meanness', 'exceeded', 'witnesses', 'muttered', 'relatives', 'performing', 'thirds', '36', 'Thomas', 'THEIR', 'infants', 'befell', 'gowns', 'per', 'familiarly', 'emptiness', 'reside', 'Dawlish', 'pacified', 'shown', 'malice', 'entry', 'needle', '37', 'fretted', \"--'\", 'Donavan', 'steward', 'fury', 'fainting', 'packed', 'THEN', 'uproar', 'bigger', 'hearer', 'comforter', 'cries', 'spasm', 'complicated', 'ANY', 'THERE', 'represented', 'clapped', 'Gracious', 'rascal', 'wrung', 'threats', 'Born', 'forbear', 'conditions', 'vehemence', '38', 'disobedient', 'Kensington', 'Gardens', 'rage', 'feather', 'IS', 'la', 'interrupt', 'Laughing', 'Martha', 'bones', 'ordained', 'spotted', 'em', 'trials', 'persecutions', 'reminds', '39', 'effected', '...\"', 'argue', 'cats', 'hinder', 'L', '40', 'ho', 'charged', 'unthought', 'Truth', 'befall', 'Really', 'Sure', 'sha', '41', 'saint', 'tithes', 'Choice', 'intents', 'inquisitive', 'prayers', 'immovable', 'frantic', 'starved', '42', 'extinguished', 'persecution', 'forenoon', 'sloping', 'dotted', 'fir', 'mountain', 'ash', 'eminence', 'Grecian', 'wide', 'tract', 'ridge', 'horizon', 'circuit', 'lounging', 'gardener', 'dairy', 'nests', 'fox', 'brood', 'wildness', 'oldest', '43', 'medicines', 'Harris', 'withstood', 'malady', 'lamentation', 'slumber', 'unusually', 'resistance', 'exactness', 'delirium', 'bury', 'Hope', 'Others', 'signs', 'surpassing', 'expand', 'succour', 'roared', 'blast', 'travellers', 'shutter', 'flaring', 'lamps', 'inner', '44', 'Sit', 'dispatch', 'AM', 'pint', 'beef', 'intoxication', 'LONG', 'insist', 'reprobate', 'expatiate', 'passions', 'wanton', 'taxed', 'formally', 'magnanimity', 'reproachfully', 'reliance', 'grudge', 'dagger', 'thunderbolt', 'daggers', 'retreat', 'couched', 'relics', 'kiss', 'imminent', 'scorning', '45', 'worthless', 'refreshed', 'embraced', 'bliss', 'reproved', 'temperate', 'unawares', 'worthiest', 'solidly', '46', 'smoothly', 'reclining', 'watchful', 'dawned', 'determinate', 'bidding', 'traced', 'opera', 'edge', 'Cross', 'foundations', 'virtuous', 'untried', 'mound', 'crept', 'murmurings', 'wronged', 'imitate', 'unbounded', 'adhering', 'humbled', 'religion', 'grounded', 'panting', '47', 'unmoved', 'unquiet', 'sensitive', 'ruling', 'innumerable', 'studies', 'New', 'Sally', 'westward', 'bide', 'recognised', 'appetites', '48', 'provident', 'conspired', 'manager', 'stammered', 'spoiling', 'sheath', 'echoed', 'unspeakable', '49', 'unconquerable', 'labor', 'afterward', 'SIR', 'scorn', 'burnt', 'Please', 'appropriate', 'flourish', 'relent', 'WHAT', 'residue', 'comer', 'nerve', 'strains', 'penitent', 'patron', '50', 'annihilation', 'nobleman', 'shuffling', 'crowned', 'lingered', 'acquaintances', 'haughty', 'policy', 'fled', 'breed', 'THE', 'END', 'Bible', 'Testament', 'Book', 'Moses', 'Called', 'darkness', 'Spirit', 'Night', 'firmament', 'unto', 'Earth', 'herb', 'seed', 'hath', 'fowl', 'whales', 'moveth', 'winged', 'fruitful', 'fifth', 'creeping', 'beast', 'creepeth', 'dominion', 'wherein', 'sixth', 'seventh', 'sanctified', 'LORD', 'plant', 'mist', 'watered', 'nostrils', 'planted', 'eastward', 'Eden', 'compasseth', 'Havilah', 'onyx', 'Gihon', 'Ethiopia', 'goeth', 'Assyria', 'Euphrates', 'mayest', 'shalt', 'eatest', 'thereof', 'Adam', 'whatsoever', 'ribs', 'rib', 'cleave', 'naked', 'serpent', 'Yea', 'Ye', 'gods', 'sewed', 'fig', 'aprons', 'thy', 'thee', 'wast', 'Hast', 'whereof', 'shouldest', 'gavest', 'hast', 'beguiled', 'cursed', 'belly', 'heel', 'Unto', 'hearkened', 'Thou', 'sweat', 'Eve', 'skins', 'flaming', 'sword', 'Cain', 'gotten', 'Abel', 'keeper', 'tiller', 'firstlings', 'wroth', 'doest', 'lieth', 'slew', 'crieth', 'fugitive', 'vagabond', 'findeth', 'slay', 'whosoever', 'slayeth', 'vengeance', 'sevenfold', 'Enoch', 'builded', 'begat', 'Lamech', 'Adah', 'tents', 'organ', 'brass', 'Naamah', 'hearken', 'slain', 'avenged', 'seventy', 'Seth', 'Enos', 'begotten', 'Cainan', 'Mahalaleel', 'Jared', 'Methuselah', 'Noah', 'Shem', 'Ham', 'Japheth', 'giants', 'renown', 'repented', 'repenteth', 'corrupt', 'corrupted', 'ark', 'cubits', 'breadth', 'cubit', 'flood', 'righteous', 'hundredth', 'seventeenth', 'fountains', 'selfsame', 'bird', 'lift', 'upward', 'abated', 'until', 'tenth', 'tops', 'raven', 'Also', 'lo', 'pluckt', 'spake', 'Bring', 'offerings', 'savour', 'smite', 'remaineth', 'harvest', 'fishes', 'liveth', 'Whoso', 'therein', 'Canaan', 'husbandman', 'vineyard', 'drunken', 'uncovered', 'tent', 'nakedness', 'garment', 'Cursed', 'Gomer', 'Magog', 'Javan', 'Tubal', 'Meshech', 'Tarshish', 'isles', 'Gentiles', 'nations', 'Cush', 'Raamah', 'Sheba', 'Dedan', 'hunter', 'wherefore', 'Babel', 'Shinar', 'Out', 'Asshur', 'Nineveh', 'Sidon', 'Heth', 'Jebusite', 'Amorite', 'Hivite', 'Canaanites', 'border', 'comest', 'Gerar', 'Gaza', 'goest', 'Sodom', 'Gomorrah', 'Admah', 'Zeboim', 'Eber', 'Elam', 'Arphaxad', 'Lud', 'Aram', 'Uz', 'Salah', 'Peleg', 'Joktan', 'Ophir', 'Jobab', 'journeyed', 'slime', 'morter', 'scatter', 'Reu', 'Serug', 'Nahor', 'Terah', 'Abram', 'Haran', 'Lot', 'nativity', 'Ur', 'Chaldees', 'Sarai', 'Milcah', 'barren', 'curseth', 'Canaanite', 'Bethel', 'famine', 'Egypt', 'sojourn', 'Egyptians', 'princes', 'Pharaoh', 'oxen', 'asses', 'menservants', 'maidservants', 'camels', 'plagues', 'didst', 'saidst', 'journeys', 'herds', 'strife', 'herdmen', 'Perizzite', 'dwelled', 'thyself', 'wilt', 'Jordan', 'Zoar', 'cities', 'sinners', 'Lift', 'thine', 'seest', 'numbered', 'Arise', 'Mamre', 'Hebron', 'Arioch', 'Chedorlaomer', 'Bela', 'vale', 'thirteenth', 'rebelled', 'smote', 'Seir', 'wilderness', 'Kadesh', 'Amalekites', 'Amorites', 'goods', 'victuals', 'Hebrew', 'Eshcol', 'confederate', 'captive', 'Dan', 'Damascus', 'slaughter', 'dale', 'Salem', 'priest', 'Save', 'Fear', 'childless', 'Eliezer', 'bowels', 'righteousness', 'whereby', 'heifer', 'goat', 'ram', 'birds', 'carcases', 'surety', 'iniquity', 'furnace', 'burning', 'Kenites', 'Hittites', 'Perizzites', 'Girgashites', 'Jebusites', 'handmaid', 'Egyptian', 'Hagar', 'pleaseth', 'fountain', 'Shur', 'camest', 'flee', 'Return', 'Ishmael', 'seeth', 'Wherefore', 'fourscore', 'Almighty', 'Abraham', 'circumcised', 'circumcise', 'foreskin', 'betwixt', 'uncircumcised', 'yea', 'O', 'Isaac', 'beget', 'plains', 'wash', 'morsel', 'hearth', 'herd', 'calf', 'hasted', 'milk', 'waxed', 'Seeing', 'Wilt', 'Peradventure', 'ashes', 'lack', 'communing', 'angels', 'lords', 'tarry', 'feast', 'unleavened', 'compassed', 'wickedly', 'Stand', 'waxen', 'mocked', 'Haste', 'brimstone', 'overthrew', 'pillar', 'gat', 'cave', 'firstborn', 'yesternight', 'Moab', 'Moabites', 'Ammon', 'sojourned', 'Abimelech', 'Said', 'innocency', 'withheld', 'prophet', 'deeds', 'sawest', 'prayed', 'suck', 'weaned', 'mocking', 'Cast', 'bondwoman', 'lad', 'bottle', 'Beersheba', 'aileth', 'archer', 'Paran', 'falsely', 'wot', 'ewe', 'lambs', 'digged', 'sware', 'Philistines', 'lovest', 'saddled', 'ass', 'clave', 'afar', 'Abide', 'yonder', 'Lay', 'fearest', 'thicket', 'horns', 'sworn', 'saith', 'sand', 'Bethuel', 'Rebekah', 'concubine', 'Maachah', 'Kirjatharba', 'mourn', 'weep', 'sojourner', 'buryingplace', 'prince', 'sepulchres', 'sepulchre', 'communed', 'Ephron', 'Machpelah', 'Hittite', 'audience', 'shekels', 'weighed', 'current', 'ruled', 'thigh', 'Beware', 'Mesopotamia', 'damsel', 'Drink', 'thereby', 'virgin', 'emptied', 'golden', 'earring', 'shekel', 'bracelets', 'Whose', 'lodge', 'straw', 'provender', 'destitute', 'Laban', 'standest', 'Speak', 'prosper', 'cometh', 'proceedeth', '51', '52', '53', 'raiment', '54', 'tarried', 'Send', '55', '56', 'prospered', '57', '58', '59', '60', 'millions', '61', 'damsels', '62', '63', 'meditate', 'eventide', '64', 'camel', '65', 'walketh', 'vail', '66', '67', 'Midian', 'Shuah', 'Ephah', 'Hanoch', 'concubines', 'threescore', 'ghost', 'Kedar', 'Massa', 'Tema', 'towns', 'castles', 'Syrian', 'Padanaram', 'intreated', 'womb', 'twins', 'hairy', 'Esau', 'Jacob', 'venison', 'pottage', 'Feed', 'Edom', 'birthright', 'Swear', 'commandments', 'statutes', 'Lest', 'toucheth', 'sowed', 'hundredfold', 'wells', 'mightier', 'strove', 'Bashemath', 'Elon', 'weapons', 'quiver', 'savoury', 'kids', 'goats', 'loveth', 'peradventure', 'deceiver', 'Art', 'dew', 'fatness', 'blesseth', 'subtilty', 'sustained', 'yoke', 'Until', 'stones', 'pillows', 'dreamed', 'ladder', 'whereon', 'liest', 'awaked', 'oil', 'Luz', 'vow', 'rolled', 'Rachel', 'Lo', 'roll', 'wages', 'Leah', 'favoured', 'Zilpah', 'Bilhah', 'Reuben', 'Simeon', 'Levi', 'Judah', 'wrestled', 'Naphtali', 'Gad', 'Asher', 'mandrakes', 'wouldest', 'hire', 'maiden', 'Issachar', 'endued', 'Zebulun', 'Dinah', 'Joseph', 'knowest', 'hadst', 'speckled', 'ringstraked', 'rods', 'rams', 'leaped', 'leap', 'doeth', 'Gilead', 'heed', 'captives', 'steal', 'displease', 'drought', 'rebuked', 'Gather', 'Mizpah', 'Mahanaim', 'messengers', 'bands', 'mercies', 'staff', 'Deliver', 'Thirty', 'kine', 'bulls', 'asketh', 'Jabbok', 'breaketh', 'Israel', 'dost', 'Penuel', 'halted', 'handmaids', 'meanest', 'knoweth', 'folk', 'needeth', 'Succoth', 'booths', 'Shechem', 'Hamor', 'erected', 'defiled', 'commune', 'Ask', 'deceitfully', 'deferred', 'peaceable', 'herein', 'males', 'troubled', 'stink', 'harlot', 'garments', 'earrings', 'oak', 'Deborah', 'loins', 'thereon', 'Ephrath', 'travailed', 'Benjamin', 'Bethlehem', 'Aholibamah', 'Anah', 'Zibeon', 'Eliphaz', 'Reuel', 'Jeush', 'Korah', 'Edomites', 'Teman', 'Kenaz', 'Amalek', 'Nahath', 'Zerah', 'Shammah', 'dukes', 'duke', 'Duke', 'Lotan', 'Shobal', 'Dishon', 'Ezer', 'Dishan', 'Ebal', 'mules', 'reigned', 'Beor', 'Bozrah', 'Hadad', 'Saul', 'Baalhanan', 'Achbor', 'Timnah', 'Elah', 'habitations', 'peaceably', 'binding', 'sheaves', 'sheaf', 'obeisance', 'Shalt', 'moon', 'seekest', 'pit', 'stript', 'balm', 'myrrh', 'Midianites', 'merchantmen', 'kid', 'dipped', 'sackcloth', 'mourned', 'Er', 'Onan', 'Shelah', 'Tamar', 'spilled', 'Timnath', 'pledge', 'signet', 'shamed', 'whoredom', 'travail', 'Pharez', 'overseer', 'Lie', 'wrath', 'prison', 'prisoners', 'bakers', 'ward', 'interpretation', 'interpreter', 'budded', 'clusters', 'ripe', 'grapes', 'cup', 'Hebrews', 'dungeon', 'hanged', 'interpreted', 'forgat', 'brink', 'stalk', 'magicians', 'shaved', 'canst', 'lean', 'consume', 'appoint', 'plenteous', 'perish', 'Forasmuch', 'throne', 'arrayed', 'chain', 'Bow', 'ruler', 'handfuls', 'Manasseh', 'Ephraim', 'dearth', 'storehouses', 'governor', 'roughly', 'Whence', 'spies', 'Hereby', 'verily', 'besought', 'espied', 'households', 'traffick', 'bundle', 'bereaved', 'Slay', 'gray', 'straitly', 'tenor', 'fruits', 'vessels', 'honey', 'spices', 'almonds', 'oversight', 'bade', 'bondmen', 'Peace', 'Set', 'abomination', 'marvelled', 'mess', 'Fill', 'drinketh', 'bondman', 'Cause', 'posterity', 'Goshen', 'nourish', 'speaketh', 'Moreover', 'wagons', 'commandment', 'laden', 'Hezron', 'Carmi', 'Jamin', 'Jachin', 'Shaul', 'Gershon', 'Kohath', 'Merari', 'Tola', 'Job', 'Beriah', 'Heber', 'Becher', 'Gera', 'Naaman', 'shepherds', 'rulers', 'pilgrimage', 'nourished', 'faileth', 'priests', 'sow', 'nigh', 'Angel', 'redeemed', 'lads', 'excellency', 'excel', 'wentest', 'couch', 'assembly', 'fierce', 'lion', 'stooped', 'sceptre', 'lawgiver', 'Shiloh', 'foal', 'colt', 'haven', 'Zidon', 'burdens', 'tribes', 'adder', 'salvation', 'royal', 'dainties', 'giveth', 'archers', 'sorely', ':)', 'breasts', 'wolf', 'devour', 'physicians', 'embalmed', 'elders', 'chariots', 'horsemen', 'threshingfloor', 'requite', 'Machir', 'coffin', 'Second', 'falleth', 'taskmasters', 'rigour', 'bondage', 'midwives', 'daubed', 'flags', 'maidens', 'babe', 'spied', 'smiting', 'Gershom', 'groaning', 'Jethro', 'Horeb', 'burned', 'Draw', 'holy', 'Hivites', 'beseech', 'sojourneth', 'rod', 'tail', 'furthermore', 'leprous', 'plucked', 'takest', 'maketh', 'dumb', 'Aaron', 'Levite', 'bloody', 'circumcision', 'pestilence', 'bricks', 'diminish', 'stubble', 'tasks', 'bringeth', 'Libni', 'Amram', 'Izhar', 'Uzziel', 'Mushi', 'Zichri', 'Mishael', 'Amminadab', 'Nadab', 'Abihu', 'Eleazar', 'Ithamar', 'Assir', 'Elkanah', 'Phinehas', 'Levites', 'armies', 'Shew', 'sorcerers', 'enchantments', 'serpents', 'refuseth', 'streams', 'rivers', 'frogs', 'Stretch', 'Glory', 'heaps', 'lice', 'Rise', 'Else', 'swarms', 'sever', 'swarm', 'Israelites', 'sprinkle', 'sprinkled', 'thunder', 'mingled', 'brake', 'thunderings', 'flax', 'barley', 'thunders', 'locusts', 'cover', 'groweth', 'snare', 'locust', 'coasts', 'darkened', 'herbs', 'Red', 'hoof', 'thrust', 'sitteth', 'maidservant', 'mill', 'congregation', 'blemish', 'Eat', 'raw', 'sodden', 'girded', 'passover', 'execute', 'ordinance', 'leaven', 'eateth', 'leavened', 'convocation', 'bunch', 'hyssop', 'dip', 'bason', 'destroyer', 'dough', 'victual', 'hosts', 'foreigner', 'Sanctify', 'openeth', 'Abib', 'matrix', 'firstling', 'encamped', 'encamp', 'captains', 'marched', 'graves', 'criest', 'wheels', 'drave', 'triumphed', 'gloriously', 'depths', 'overthrown', 'floods', 'lust', 'holiness', 'melt', 'Miriam', 'prophetess', 'timbrel', 'timbrels', 'Sing', 'Marah', 'statute', 'diligently', 'diseases', 'Elim', 'Sin', 'Sinai', 'fifteenth', 'pots', 'hunger', 'heareth', 'hoar', 'manna', 'wist', 'omer', 'mete', 'Notwithstanding', 'worms', 'melted', 'sabbath', 'seethe', 'worm', 'wafers', 'commandeth', 'pot', 'ephah', 'Rephidim', 'chide', 'thirst', 'Meribah', 'Joshua', 'Choose', 'Hur', 'Write', 'utterly', 'alien', 'sittest', 'Hearken', 'ordinances', 'covetousness', 'fifties', 'eagles', 'sanctify', 'stoned', 'trumpet', 'lightnings', 'nether', 'descended', 'Away', 'graven', 'guiltless', 'taketh', 'manservant', 'hallowed', 'Honour', 'adultery', 'hewn', 'tool', 'polluted', 'betrothed', 'smiteth', 'presumptuously', 'selleth', 'fist', 'keepeth', 'punished', 'Eye', 'gore', 'horn', 'testified', 'ransom', 'dig', 'thief', 'restitution', 'stacks', 'therewith', 'entice', 'virgins', 'witch', 'Whosoever', 'sacrificeth', 'fatherless', 'wax', 'widows', 'usury', 'Likewise', 'dam', 'unrighteous', 'wrest', 'hateth', 'perverteth', 'firstfruits', 'sown', 'items', 'adversaries', 'backs', 'basons', 'paved', 'sapphire', 'nobles', 'Tarry', 'devouring', 'badgers', 'shittim', 'anointing', 'incense', 'ephod', 'breastplate', 'sanctuary', 'tabernacle', 'overlay', 'corners', 'staves', 'cherubims', 'cherub', 'thereto', 'Over', 'spoons', 'covers', 'bowls', 'withal', 'shewbread', 'alway', 'candlestick', 'shaft', 'knops', 'knop', 'candlesticks', 'tongs', 'twined', 'loops', 'coupling', 'uttermost', 'taches', 'forefront', 'outmost', 'boards', 'tenons', 'sockets', 'overlaid', 'hooks', 'foursquare', 'pans', 'shovels', 'fleshhooks', 'network', 'brasen', 'hangings', 'fillets', 'consecrate', 'broidered', 'mitre', 'girdle', 'edges', 'ouches', 'chains', 'wreathen', 'span', 'topaz', 'carbuncle', 'emerald', 'diamond', 'beryl', 'jasper', 'underneath', 'forepart', 'loosed', 'Urim', 'Thummim', 'hole', 'woven', 'hem', 'pomegranates', 'bells', 'pomegranate', 'TO', 'forehead', 'hallow', 'girdles', 'bonnets', 'anoint', 'breeches', 'thighs', 'bullock', 'anointed', 'flour', 'gird', 'covereth', 'inwards', 'caul', 'liver', 'kidneys', 'tip', 'thumb', 'toe', 'rump', 'consecration', 'loaf', 'wave', 'waved', 'heaved', 'consecrated', 'cleanse', 'hin', 'passeth', 'gerahs', 'laver', 'cinnamon', 'ointment', 'putteth', 'frankincense', 'Bezaleel', 'Uri', 'tribe', 'workmanship', 'carving', 'Aholiab', 'thereupon', 'cloths', 'Verily', 'sabbaths', 'defileth', 'molten', 'proclamation', 'broughtest', 'thereunto', 'stiffnecked', 'Turn', 'swarest', 'shouted', 'shout', 'mastery', 'strawed', 'Depart', 'stripped', 'cloudy', 'Nun', 'sayest', 'Hew', 'brakest', 'hewed', 'longsuffering', 'marvels', 'altars', 'whoring', 'Thrice', 'thrice', 'shone', 'cords', 'tablets', 'spin', 'spun', 'spice', 'Them', 'workman', 'weaver', 'chapiters', 'snuffers', 'socket', 'plates', 'inclosed', 'fastened', 'rend', 'priesthood', 'reared', 'onward', 'Third', 'namely', 'turtledoves', 'pigeons', 'wring', 'pluck', 'crop', 'feathers', 'handful', 'oblation', 'baken', 'oven', 'lacking', 'flanks', 'backbone', 'swearing', 'unclean', 'carcase', 'hidden', 'uncleanness', 'trespassed', 'fellowship', 'sweareth', 'offereth', 'Whatsoever', 'earthen', 'thanksgiving', 'pertain', 'dieth', 'oblations', 'purified', 'thumbs', 'toes', 'censer', 'glorified', 'bewail', 'unholy', 'cheweth', 'cud', 'Nevertheless', 'chew', 'divideth', 'hare', 'swine', 'fins', 'scales', 'eagle', 'vulture', 'owl', 'hawk', 'cormorant', 'swan', 'pelican', 'stork', 'heron', 'bat', 'bald', 'beetle', 'grasshopper', 'beareth', 'paws', 'whoso', 'mouse', 'snail', 'mole', 'whereupon', 'ranges', 'defile', 'purifying', 'turtles', 'scab', 'leprosy', 'cleansing', 'spreadeth', 'wheresoever', 'looketh', 'appeareth', 'reddish', 'burneth', 'beard', 'scall', 'shaven', 'shave', 'leper', 'warp', 'woof', 'greenish', 'fretting', 'fret', 'cedar', 'deals', 'log', 'pertaineth', 'seemeth', 'scraped', 'bathe', 'spit', 'soever', 'rideth', 'lots', 'coals', 'iniquities', 'killeth', 'devils', 'kin', 'uncover', 'Molech', 'profane', 'abominations', 'customs', 'idols', 'profaned', 'glean', 'grape', 'defraud', 'stumblingblock', 'unrighteousness', 'talebearer', 'rebuke', 'avenge', 'diverse', 'scourged', 'enchantment', 'cuttings', 'prostitute', 'whore', 'reverence', 'wizards', 'hoary', 'dwelleth', 'balances', 'weights', 'turneth', 'committeth', 'floweth', 'baldness', 'virginity', 'divorced', 'superfluous', 'sanctuaries', 'unwittingly', 'vows', 'freewill', 'beeves', 'maimed', 'corruption', 'thenceforth', 'Concerning', 'feasts', 'servile', 'parched', 'loaves', 'trumpets', 'celebrate', 'tabernacles', 'Beside', 'boughs', 'willows', 'Israelitish', 'blasphemed', 'Shelomith', 'blasphemeth', 'prune', 'jubile', 'fiftieth', 'sojourners', 'redemption', 'walled', 'suburbs', 'compel', 'heathen', 'threshing', 'vintage', 'chase', 'pursueth', 'chastise', 'desolation', 'odours', 'fleeing', 'pine', 'ancestors', 'homer', 'tithe', 'Fourth', 'Numbers', 'polls', 'Elizur', 'Shedeur', 'Shelumiel', 'Zurishaddai', 'Nahshon', 'Nethaneel', 'Zuar', 'Eliab', 'Helon', 'Elishama', 'Ammihud', 'Gamaliel', 'Pedahzur', 'Abidan', 'Gideoni', 'Ahiezer', 'Ammishaddai', 'Pagiel', 'Ocran', 'Eliasaph', 'Ahira', 'Enan', 'renowned', 'setteth', 'ensign', 'standards', 'camps', 'ministered', 'Number', 'Shimei', 'Mahli', 'Gershonites', 'Hebronites', 'Kohathites', 'Abihail', 'custody', 'serveth', 'ministry', 'censers', 'Cut', 'entereth', 'recompense', 'kinsman', 'recompensed', 'causeth', 'cursing', 'rot', 'Amen', 'curses', 'Nazarite', 'vinegar', 'moist', 'razor', 'separateth', 'locks', 'wagon', 'charger', 'bowl', '68', '69', '70', '71', '72', 'eleventh', '73', '74', '75', '76', '77', '78', 'twelfth', '79', '80', '81', '82', '83', '84', 'dedication', '85', '86', '87', 'bullocks', '88', '89', 'belongeth', 'rites', 'ceremonies', 'journeying', 'assemble', 'oppresseth', 'rereward', 'forasmuch', 'quenched', 'cucumbers', 'melons', 'mortar', 'Carry', 'loathsome', 'footmen', 'prophesy', 'prophets', 'chewed', 'Kibrothhattaavah', 'Hazeroth', 'Ethiopian', 'Hath', 'meek', 'similitude', 'Zaccur', 'Shaphat', 'Caleb', 'Jephunneh', 'Ammiel', 'Michael', 'spy', 'Zin', 'Rehob', 'Hamath', 'Talmai', 'Anak', 'Zoan', 'figs', 'searching', 'stature', 'grasshoppers', 'rebel', 'standeth', 'miracles', 'whoredoms', 'slander', 'sayings', 'transgress', 'Hormah', 'sinneth', 'ignorantly', 'reproacheth', 'sticks', 'fringes', 'fringe', 'Dathan', 'Abiram', 'vineyards', 'visitation', 'perished', 'buds', 'rebels', 'fulness', 'winepress', 'pollute', 'gathereth', 'purify', 'vines', 'Hor', 'Arad', 'discouraged', 'fiery', 'pole', 'bitten', 'sunrising', 'Arnon', 'wars', 'brooks', 'Ar', 'Spring', 'Pisgah', 'Jeshimon', 'Sihon', 'Jahaz', 'Heshbon', 'Woe', 'Chemosh', 'captivity', 'Dibon', 'reacheth', 'Medeba', 'Bashan', 'Og', 'Edrei', 'Jericho', 'Balak', 'Zippor', 'lick', 'Balaam', 'divination', 'stoodest', 'Baal', 'Build', 'parable', 'unicorn', 'Peor', 'abiding', 'trance', 'aloes', 'buckets', 'Agag', 'exalted', 'arrows', 'Star', 'valiantly', 'Strong', 'puttest', 'nest', 'Kenite', 'Chittim', 'Shittim', 'Baalpeor', 'weeping', 'javelin', 'Zimri', 'Zur', 'wiles', 'Reubenites', 'Zarhites', 'Zephon', 'Hepher', 'Zelophehad', 'Tirzah', 'Abarim', 'bonds', 'disallowed', 'Arm', 'warred', 'Rekem', 'tin', 'abideth', 'levy', 'booty', 'pertained', 'lacketh', 'Jazer', 'Ataroth', 'Elealeh', 'Nebo', 'Kadeshbarnea', 'sinful', 'folds', 'Aroer', 'Jair', 'executed', 'Libnah', 'Tahath', 'Riblah', 'Ain', 'Bukki', 'refuge', 'slayer', 'avenger', 'murderer', 'weapon', 'revenger', 'whereunto', 'Fifth', 'Deuteronomy', 'Lebanon', 'righteously', 'Whither', 'Anakims', 'chased', 'bees', 'lacked', 'Elath', 'beforetime', 'meddle', 'Ammonites', 'region', 'Argob', 'destroying', 'Hermon', 'Sidonians', 'bedstead', 'Gadites', 'Thine', 'passest', 'GOD', 'Furthermore', 'consuming', 'tribulation', 'forsake', 'assayed', 'mightest', 'instruct', 'heardest', 'Bezer', 'Ramoth', 'Sion', 'walkest', 'beware', 'slack', 'repay', 'affrighted', 'snared', 'knewest', 'chasteneth', 'scorpions', 'flint', 'destroyeth', 'Understand', 'rebellious', 'Beeroth', 'regardeth', 'Love', 'chastisement', 'overflow', 'careth', 'soles', 'tread', 'Gilgal', 'hew', 'lusteth', 'hart', 'livest', 'dwellest', 'Belial', 'whit', 'fierceness', 'deer', 'cleaveth', 'cleft', 'claws', 'cloven', 'desireth', 'creditor', 'wanteth', 'givest', 'needy', 'sendest', 'sickle', 'Judges', 'controversy', 'maw', 'fleece', 'portions', 'useth', 'diviners', 'Prophet', 'axe', 'whereas', 'inasmuch', 'mortally', 'fleeth', 'diligent', 'dedicated', 'dedicate', 'besiege', 'siege', 'bulwarks', 'beheaded', 'nails', 'chastened', 'drunkard', 'accursed', 'buildest', 'divers', 'seeds', 'plow', 'vesture', 'tokens', 'riseth', 'skirt', 'Ammonite', 'Edomite', 'paddle', 'settest', 'divorcement', 'sendeth', 'millstone', 'stripes', 'treadeth', 'shoe', 'draweth', 'bag', 'removeth', 'forsaken', 'blasting', 'mildew', 'fray', 'emerods', 'grope', 'noonday', 'evermore', 'byword', 'swift', 'straitness', 'drawer', 'gall', 'wormwood', 'meaneth', 'persecuted', 'denounce', 'dismayed', 'rebellion', 'stiff', 'ascribe', 'Rock', 'howling', 'instructed', 'stirreth', 'forsook', 'froward', 'hell', 'suckling', 'strangely', 'dragons', 'recompence', 'slide', 'calamity', 'whet', 'glittering', 'Rejoice', 'Hoshea', 'shined', 'saints', 'teareth', 'Destroy', 'liars', 'whithersoever', 'Prepare', 'valour', 'Rahab', 'stalks', 'cord', 'pursuers', 'Truly', 'magnify', 'brim', 'banks', 'foreskins', 'Loose', 'ascend', 'blew', 'Shout', 'treasury', 'buildeth', 'Achan', 'Zabdi', 'Ai', 'Bethaven', 'wedge', 'Achor', 'ambush', 'liers', 'spear', 'slaying', 'Gibeon', 'ambassadors', 'bottles', 'mouldy', 'Ashtaroth', 'Kirjathjearim', 'hewers', 'Jerusalem', 'Jarmuth', 'Japhia', 'Lachish', 'Debir', 'Eglon', 'Bethhoron', 'Azekah', 'Makkedah', 'hailstones', 'Sun', 'Moon', 'Roll', 'necks', 'Gezer', 'Jabin', 'Hazor', 'Dor', 'Mizpeh', 'Gath', 'Ashdod', 'Geshurites', 'Adullam', 'Tappuah', 'Aphek', 'Taanach', 'Megiddo', 'Kedesh', 'Carmel', 'Ekron', 'expelled', 'Rabbah', 'pertaining', 'distribute', 'distributed', 'Adar', 'Hinnom', 'Baalah', 'Bethshemesh', 'Othniel', 'Ziph', 'Shema', 'Ziklag', 'Rimmon', 'Eshtaol', 'Zanoah', 'Keilah', 'Mareshah', 'Maon', 'Jezreel', 'Gibeah', 'Gedor', 'Salt', 'Engedi', 'Ephraimites', 'Abiezer', 'outgoings', 'Bethshean', 'Ophrah', 'Ramah', 'Tabor', 'Tyre', 'Hosah', 'Iron', 'Zorah', 'Gibbethon', 'Galilee', 'Eshtemoa', 'Geba', 'Anathoth', 'Aijalon', 'Kishon', 'Abdon', 'snares', 'traps', 'oliveyards', 'descry', 'Baalim', 'spoilers', 'obeying', 'deliverer', 'Ehud', 'Benjamite', 'blade', 'porch', 'Follow', 'lusty', 'Sisera', 'Barak', 'notwithstanding', 'Howbeit', 'Jael', 'mantle', 'thirsty', 'nail', 'Praise', 'avenging', 'highways', 'governors', 'Awake', 'breaches', 'Curse', 'lordly', 'lattice', 'sped', 'dens', 'caves', 'sustenance', 'Joash', 'Gideon', 'whilst', 'Jerubbaal', 'companies', 'pitchers', 'Oreb', 'Zeeb', 'sharply', 'Zebah', 'Zalmunna', 'briers', 'Jether', 'Rule', 'Jotham', 'Millo', 'bramble', 'cedars', 'treacherously', 'Gaal', 'Ebed', 'trode', 'Zebul', 'privily', 'skull', 'armourbearer', 'Dodo', 'Gileadite', 'Syria', 'Zidonians', 'Jephthah', 'fugitives', 'Pirathonite', 'Manoah', 'bearest', 'spakest', 'Samson', 'eater', 'expound', 'plowed', 'Ashkelon', 'expounded', 'foxes', 'tails', 'hip', 'Etam', 'Knowest', 'jaw', 'athirst', 'Delilah', 'tow', 'ropes', 'web', 'fetters', 'grind', 'Dagon', 'Suffer', 'Micah', 'founder', 'teraphim', 'Bethlehemjudah', 'apparel', 'makest', 'dealeth', 'Laish', 'slothful', 'saluted', 'carved', 'Hold', 'howbeit', 'Jonathan', 'Comfort', 'Benjamites', 'wayfaring', 'receiveth', 'threshold', 'lewdness', 'sling', 'array', 'fasted', 'gleaned', 'Jabeshgilead', 'highway', 'Ruth', 'Elimelech', 'Naomi', 'stedfastly', 'Moabitess', 'Boaz', 'reapers', 'hap', 'kinsmen', 'Wash', 'Ho', 'Buy', 'redeeming', 'Ephratah', 'Obed', 'Jesse', 'David', 'Ram', 'Salmon', 'Samuel', 'Otherwise', 'Jeroham', 'Elihu', 'Eli', 'Hophni', 'praying', 'Count', 'petition', 'rejoiceth', 'Talk', 'stumbled', 'lifteth', 'raiseth', 'beggar', 'dunghill', 'seething', 'kettle', 'caldron', 'kick', 'chiefest', 'crouch', 'purged', 'rang', 'Gods', 'wayside', 'tumult', 'palms', 'stump', 'deadly', 'mice', 'wonderfully', 'calves', 'reaping', 'Abinadab', 'Cease', 'thundered', 'Joel', 'lucre', 'perverted', 'cooks', 'goodliest', 'battles', 'rehearsed', 'Kish', 'seer', 'straightway', 'bidden', 'speakest', 'Bid', 'vial', 'salute', 'garrison', 'psaltery', 'pipe', 'prophesying', 'tribulations', 'Nahash', 'Jabesh', 'defrauded', 'bribe', 'reigneth', 'Michmash', 'strait', 'thickets', 'pits', 'leadeth', 'swords', 'spears', 'file', 'forks', 'axes', 'armour', 'Ahitub', 'situate', 'holes', 'climbed', 'watchmen', 'beating', 'honeycomb', 'haply', 'saveth', 'Zobah', 'Michal', 'Ahinoam', 'Ahimaaz', 'Abner', 'Ner', 'valiant', 'fatlings', 'bleating', 'witchcraft', 'Strength', 'ruddy', 'troubleth', 'comely', 'champion', 'Goliath', 'helmet', 'mail', 'target', 'Philistine', 'fighting', 'trench', 'paw', 'scrip', 'chasing', 'Enquire', 'tabrets', 'musick', 'ascribed', 'twain', 'expired', 'seeketh', 'bolster', 'Naioth', 'Run', 'artillery', 'Nob', 'Ahimelech', 'Doeg', 'Achish', 'sucklings', 'Abiathar', 'Doth', 'haunt', 'hideth', 'invaded', 'hearest', 'ancients', 'shearing', 'Nabal', 'Abigail', 'greet', 'Gird', 'raisins', 'pisseth', 'withholden', 'pleaded', 'Abishai', 'Zeruiah', 'Joab', 'cruse', 'Answerest', 'faithfulness', 'Jezreelitess', 'assuredly', 'Gilboa', 'Seek', 'disquieted', 'answereth', 'Carmelite', 'Cherethites', 'Canst', 'bracelet', 'swifter', 'lions', 'Ishbosheth', 'pool', 'Asahel', 'roe', 'Amnon', 'Absalom', 'Geshur', 'Adonijah', 'Haggith', 'Shephatiah', 'Aiah', 'espoused', 'Bahurim', 'Baanah', 'Rechab', 'Mephibosheth', 'adversity', 'leddest', 'Zion', 'getteth', 'fort', 'Hiram', 'carpenters', 'masons', 'Nathan', 'Solomon', 'Rephaim', 'bestir', 'Ahio', 'harps', 'psalteries', 'cornets', 'cymbals', 'Obededom', 'Gittite', 'shouting', 'leaping', 'telleth', 'stablish', 'chasten', 'casting', 'Hadadezer', 'Syrians', 'garrisons', 'shields', 'Joram', 'Jehoshaphat', 'Ahilud', 'recorder', 'Zadok', 'Seraiah', 'scribe', 'Benaiah', 'Jehoiada', 'Pelethites', 'Ziba', 'Hanun', 'beards', 'Hadarezer', 'besieged', 'Bathsheba', 'Uriah', 'devoureth', 'blaspheme', 'saws', 'Jonadab', 'bolt', 'robes', 'bolted', 'chargeable', 'Smite', 'Help', 'quench', 'coal', 'spilt', 'Hide', 'Ahithophel', 'conspiracy', 'Ittai', 'exile', 'Kidron', 'barefoot', 'conspirators', 'foolishness', 'Hushai', 'Archite', 'bunches', 'humbly', 'counselled', 'oracle', 'whelps', 'Amasa', 'Barzillai', 'Brought', 'beans', 'darts', 'lifetime', 'Cushi', 'thinketh', 'mourneth', 'victory', 'hatest', 'ferry', 'aged', 'fiercer', 'Bichri', 'Assemble', 'Ira', 'Gibeonites', 'devised', 'giant', 'Hushathite', 'fortress', 'saviour', 'waves', 'ungodly', 'skies', 'Through', 'lightning', 'channels', 'cleanness', 'buckler', 'hinds', 'teacheth', 'steel', 'stamp', 'mire', 'fade', 'ruleth', 'Ahohite', 'Hararite', 'jeopardy', 'Helez', 'Netophathite', 'Azmaveth', 'Eliphelet', 'Bani', 'Araunah', 'Abishag', 'Shunammite', 'Didst', 'piped', 'pipes', 'bringest', 'feareth', 'lengthen', 'harlots', 'Azariah', 'scribes', 'Ramothgilead', 'Iddo', 'fatted', 'stalls', 'Ethan', 'Heman', 'floats', 'costly', 'builders', 'rests', 'beams', 'inside', 'planks', 'partition', 'wing', 'floors', 'chapiter', 'nets', 'wreaths', 'lily', 'compassing', 'lilies', 'bases', 'ledges', 'wheel', 'spokes', 'lavers', 'clay', 'hinges', 'prayeth', 'caterpiller', 'calleth', 'bethink', 'hiss', 'ministers', 'singers', 'bounty', 'merchants', 'Arabia', 'pound', 'apes', 'sycomore', 'yarn', 'goddess', 'Jeroboam', 'Nebat', 'industrious', 'Ahijah', 'Shilonite', 'clad', 'Shishak', 'Rehoboam', 'chastised', 'whips', 'warriors', 'Shemaiah', 'Whereupon', 'Josiah', 'lied', 'Samaria', 'Abijah', 'reed', 'chronicles', 'Abijam', 'eighteenth', 'Asa', 'idol', 'Baasha', 'Benhadad', 'diseased', 'Jehu', 'Hanani', 'Omri', 'palace', 'Ahab', 'Jezebel', 'Elijah', 'Tishbite', 'ravens', 'sustain', 'loft', 'Obadiah', 'halt', 'Cry', 'sleepeth', 'gushed', 'midday', 'barrels', 'licked', 'ariseth', 'juniper', 'earthquake', 'Hazael', 'Nimshi', 'Elisha', 'escapeth', 'harness', 'Ben', 'provinces', 'Naboth', 'Jezreelite', 'Dost', 'Seest', 'humbleth', 'Micaiah', 'Zedekiah', 'Chenaanah', 'adjure', 'Wherewith', 'Amon', 'Fight', 'driver', 'Ahaziah', 'deputy', 'Jehoram', 'disease', 'girt', 'whirlwind', 'naught', 'felled', 'oft', 'stool', 'Gehazi', 'embrace', 'Drive', 'Pour', 'stick', 'swim', 'warned', 'cab', 'lepers', 'porters', 'Restore', 'revolted', 'Athaliah', 'wounds', 'horseman', 'furiously', 'eunuchs', 'worshippers', 'Search', 'Jehoahaz', 'keepers', 'trumpeters', 'Treason', 'followeth', 'Jehoash', 'chest', 'bored', 'lid', 'Amaziah', 'murderers', 'Selah', 'thistle', 'Jonah', 'helper', 'Shallum', 'thirtieth', 'Uzziah', 'Menahem', 'ripped', 'Pul', 'Pekah', 'Remaliah', 'Rezin', 'Ahaz', 'Twenty', 'Jews', 'Kir', 'Urijah', 'Hezekiah', 'Gozan', 'Medes', 'seers', 'Babylon', 'Sepharvaim', 'Samaritans', 'Sennacherib', 'Rabshakeh', 'Eliakim', 'Hilkiah', 'Shebna', 'Joah', 'Asaph', 'trustest', 'riders', 'cistern', 'Answer', 'Isaiah', 'Amoz', 'blasphemy', 'warring', 'Holy', 'ruinous', 'hook', 'bridle', 'downward', 'Assyrians', 'corpses', 'afore', 'lump', 'dial', 'wipe', 'upside', 'Uzza', 'Adaiah', 'Shaphan', 'Meshullam', 'doers', 'Ahikam', 'Michaiah', 'wardrobe', 'college', 'planets', 'chamberlain', 'holden', 'workers', 'Jeremiah', 'Jehoiakim', 'Pedaiah', 'Nebuchadnezzar', 'Jehoiachin', 'Elnathan', 'craftsmen', 'Mattaniah', 'forts', 'nineteenth', 'Nebuzaradan', 'husbandmen', 'Zephaniah', 'Gedaliah', 'Nethaniah', 'Johanan', 'Jerahmeel', 'Tekoa', 'Shammai', 'Ishi', 'Sheshan', 'Zabad', 'Moza', 'Daniel', 'Jeconiah', 'Zerubbabel', 'Hananiah', 'Berechiah', 'Pelatiah', 'Rephaiah', 'Shechaniah', 'Hattush', 'Elioenai', 'Azrikam', 'Eliashib', 'Akkub', 'Jahath', 'Ezra', 'genealogy', 'Asaiah', 'Jedaiah', 'Gog', 'Jeiel', 'Zechariah', 'Abdiel', 'Sharon', 'genealogies', 'Eliel', 'Abishua', 'Uzzi', 'Zerahiah', 'Meraioth', 'Amariah', 'Uriel', 'Amasai', 'singer', 'Malchiah', 'Malluch', 'Hashabiah', 'soldiers', 'Jediael', 'Jerimoth', 'Laadan', 'Huram', 'Ono', 'Jeremoth', 'Zebadiah', 'Hanan', 'Azel', 'Nethinims', 'Pashur', 'Malchijah', 'Immer', 'Jeduthun', 'Talmon', 'ordain', 'wards', 'treasuries', 'ministering', 'Mattithiah', 'Jehiel', 'castle', 'mightiest', 'snowy', 'helpers', 'Jahaziel', 'Azareel', 'roes', 'Jozabad', 'leader', 'Maaseiah', 'Shebaniah', 'cornet', 'psalm', 'psalms', 'wondrous', 'marvellous', 'Saying', 'Touch', 'Declare', 'kindreds', 'roar', 'endureth', 'weigh', 'Satan', 'foes', 'Ornan', 'Grant', 'Rehabiah', 'moons', 'Harim', 'sixteenth', 'Delaiah', 'Jeshaiah', 'Jehohanan', 'Shelemiah', 'tillage', 'footstool', 'searcheth', 'understandeth', 'cups', 'glistering', 'marble', 'drams', 'majesty', 'Wisdom', 'crimson', 'Joppa', 'garnished', 'thickness', 'scaffold', 'kneeled', 'shewest', 'supplications', 'roots', 'perfected', 'terraces', 'prophecy', 'servitude', 'fortified', 'Ethiopians', 'towers', 'huge', 'Herein', 'forces', 'stablished', 'Arabians', 'warn', 'invade', 'realm', 'revolt', 'fornication', 'counsellors', 'bucklers', 'engines', 'marvellously', 'burial', 'Ophel', 'forests', 'filthiness', 'hissing', 'Jeshua', 'purposed', 'Whereon', 'rail', 'leaders', 'purge', 'amend', 'busied', 'palaces', 'Persia', 'Cyrus', 'Nehemiah', 'Mordecai', 'Bigvai', 'Rehum', 'Parosh', 'Pahathmoab', 'Bebai', 'Ater', 'Hashum', 'Kadmiel', 'Cherub', 'Tobiah', 'register', 'Tirshatha', 'Jozadak', 'Shealtiel', 'frustrate', 'Darius', 'Ahasuerus', 'Artaxerxes', 'toll', 'revenue', 'dishonour', 'records', 'sedition', 'insurrection', 'damage', 'Haggai', 'rolls', 'forthwith', 'lawful', 'beautify', 'runneth', 'Ariel', 'Joiarib', 'Sherebiah', 'copper', 'Watch', 'Meremoth', 'Binnui', 'lieutenants', 'astonied', 'heaviness', 'desolations', 'trespasses', 'Shushan', 'Sanballat', 'dragon', 'Arabian', 'armoury', 'Baruch', 'blotted', 'decayed', 'Wherein', 'reported', 'Afterward', 'pulpit', 'Hodijah', 'myrtle', 'fasting', 'worshippeth', 'madest', 'persecutors', 'deeps', 'manifold', 'recorded', 'Persian', 'aforetime', 'presses', 'outlandish', 'Esther', 'India', 'Media', 'Vashti', 'chamberlains', 'Persians', 'published', 'empire', 'decreed', 'Jew', 'Haman', 'Hammedatha', 'Agagite', 'wailing', 'holdest', 'banquet', 'gallows', 'merrily', 'delighteth', 'durst', 'Hang', 'assault', 'feasting', 'Purim', 'enjoined', 'Chaldeans', 'holdeth', 'Temanite', 'Bildad', 'Shuhite', 'blackness', 'terrify', 'untimely', 'oppressor', 'assay', 'faintest', 'perisheth', 'mortal', 'moth', 'robber', 'sparks', 'unsearchable', 'devices', 'crafty', 'enterprise', 'craftiness', 'headlong', 'chastening', 'bindeth', 'scourge', 'throughly', 'heavier', 'forsaketh', 'troops', 'Teach', 'forcible', 'hireling', 'clods', 'shuttle', 'whale', 'wert', 'Whilst', 'greenness', 'withereth', 'shaketh', 'Orion', 'Pleiades', 'tempest', 'filleth', 'hasteth', 'plunge', 'sinews', 'increaseth', 'stedfast', 'robbers', 'shutteth', 'overturn', 'overthroweth', 'poureth', 'stagger', 'mocketh', 'hidest', 'lookest', 'rotten', 'continueth', 'sprout', 'scent', 'bud', 'uttereth', 'filthy', 'travaileth', 'believeth', 'wandereth', 'stretcheth', 'strengtheneth', 'hypocrites', 'leanness', 'gaped', 'eyelids', 'extinct', 'mockers', 'members', 'spark', 'candle', 'gin', 'trap', 'Terrors', 'persecute', 'printed', 'redeemer', 'vomit', 'viper', 'straits', 'reveal', 'bull', 'casteth', 'chaff', 'layeth', 'rewardeth', 'judgeth', 'marrow', 'wrongfully', 'tomb', 'Thick', 'island', 'groan', 'waiteth', 'liar', 'shineth', 'plentifully', 'Dead', 'Hell', 'oppressors', 'departeth', 'fain', 'clap', 'vein', 'inhabitant', 'cutteth', 'depth', 'crystal', 'coral', 'rubies', 'Destruction', 'diadem', 'jaws', 'comforteth', 'derision', 'whereto', 'bushes', 'owls', 'furrows', 'Days', 'titles', 'perishing', 'abhorreth', 'dainty', 'worketh', 'oftentimes', 'trieth', 'profiteth', 'Maker', 'despiseth', 'preserveth', 'delivereth', 'Desire', 'exalteth', 'vapour', 'scattereth', 'correction', 'Fair', 'influences', 'furrow', 'barn', 'leaveth', 'crush', 'ha', 'Deck', 'abase', 'navel', 'shady', 'trusteth', 'leviathan', 'thorn', 'barbed', 'irons', 'dart', 'esteemeth', 'Psalms', 'wither', 'potter', 'Salvation', 'godly', 'Offer', 'Lead', 'rending', 'pate', 'babes', 'remembereth', 'executeth', 'covetous', 'murder', 'den', 'beholdest', 'Flee', 'ceaseth', 'bountifully', 'uprightly', 'contemned', 'honoureth', 'lovingkindness', 'greedy', 'pavilion', 'Highest', 'eyesight', 'enlighten', 'bridegroom', 'race', 'banners', 'strings', 'ravening', 'glorify', 'flames', 'extol', 'Pull', 'Into', 'moisture', 'considereth', 'contrite', 'Evil', 'False', 'hypocritical', 'Aha', 'flattereth', 'deviseth', 'evildoers', 'Delight', 'Rest', 'transgressors', 'soundness', 'aloof', 'frail', 'Remove', 'Sacrifice', 'languishing', 'Deep', 'billows', 'sleepest', 'meekness', 'raged', 'sunder', 'brutish', 'tempestuous', 'partaker', 'adulterers', 'judgest', 'uphold', 'converted', 'Attend', 'Evening', 'tellest', 'wanderings', 'melteth', 'banner', 'robbery', 'ridges', 'suffereth', 'march', 'scalp', 'Princes', 'drunkards', 'hoofs', 'pricked', 'ensigns', 'hammers', 'synagogues', 'Forget', 'feathered', 'thunderbolts', 'Blow', 'holpen', 'sparrow', 'Mercy', 'Free', 'rememberest', 'distracted', 'likened', 'raging', 'Justice', 'shortened', '90', '91', 'noisome', 'trample', '92', 'IT', 'GOOD', 'AND', '93', 'becometh', '94', 'teachest', 'Unless', '95', '96', '97', 'Clouds', 'Light', '98', '99', 'inventions', '100', 'Enter', '101', '102', '103', '104', 'watereth', 'sap', '105', '106', 'insomuch', '107', 'Fools', 'reel', '108', '109', '110', '111', 'reverend', '112', 'Wealth', '113', '114', '115', 'noses', '116', '118', '119', 'undefiled', 'forged', 'Accept', 'dross', '120', '121', '122', '123', '124', '125', '126', '127', '128', '129', '130', '131', 'panted', '132', '133', 'Order', '134', '135', '136', '137', '138', '139', '140', '141', '142', '143', '144', '145', '146', '147', '148', '149', '150', 'thrones', 'housetops', 'unity', 'skirts', 'vapours', 'uprising', 'attain', 'curiously', 'sharpened', 'speaker', 'stony', 'muse', 'Rid', 'returneth', 'outcasts', 'Fire', 'fulfilling', 'Mountains', 'Beasts', 'edged', 'organs', 'lurk', 'openings', 'stumble', 'securely', 'ravished', 'sluggard', 'naughty', 'soweth', 'discord', 'Bind', 'Lust', 'wiped', 'youths', 'Passing', 'attire', 'decked', 'perfumed', 'goodman', 'abounding', 'scorner', 'passengers', 'prating', 'strifes', 'Wise', 'tendeth', 'revealeth', 'unpunished', 'jewel', 'rottenness', 'contention', 'ambassador', 'feedeth', 'laboureth', 'strokes', 'innermost', 'contentions', 'Death', 'Wine', 'buyer', 'Bread', 'housetop', 'transgressor', 'contentious', 'Proud', 'greedily', 'furious', 'Labour', 'meats', 'rags', 'redness', 'mast', 'finer', 'fitly', 'maul', 'deceiveth', 'weighty', 'Wrath', 'outrageous', 'Faithful', 'abound', 'fists', 'adulterous', 'churning', 'wringing', 'planteth', 'happeneth', 'embracing', 'sew', 'manifest', 'bereave', 'admonished', 'marvel', 'crackling', 'preacher', 'counting', 'boldness', 'Live', 'bite', 'endangered', 'Creator', 'grinding', 'almond', 'Song', 'ointments', 'doves', 'rafters', 'skipping', 'clefts', 'shadows', 'Saw', 'shorn', 'spouse', 'smelling', 'handles', 'veil', 'bushy', 'queens', 'flourished', 'galleries', 'causing', 'sucked', 'juice', 'Learn', 'thieves', 'purely', 'oaks', 'fadeth', 'replenished', 'soothsayers', 'haughtiness', 'abolish', 'bats', 'ragged', 'mincing', 'tinkling', 'filth', 'inflame', 'rope', 'Above', 'stumbling', 'disciples', 'peep', 'mutter', 'dimness', 'warrior', 'fuel', 'government', 'Wonderful', 'Counsellor', 'Father', 'snatch', 'decrees', 'Assyrian', 'lop', 'stem', 'leopard', 'Pathros', 'islands', 'tumultuous', 'Howl', 'constellations', 'Lucifer', 'howl', 'mounting', 'Horonaim', 'spoiler', 'hasting', 'berries', 'shadowing', 'peeled', 'dwellers', 'reeds', 'fishers', 'angle', 'weave', 'Noph', 'isle', 'whirlwinds', 'treacherous', 'dealer', 'fearfulness', 'stirs', 'toss', 'antiquity', 'crowning', 'melody', 'seller', 'languisheth', 'defenced', 'lees', 'deceased', 'disclose', 'piercing', 'Fury', 'fading', 'precept', 'Prophesy', 'shovel', 'fan', 'sift', 'sieve', 'lighting', 'Tophet', 'pile', 'defending', 'teats', 'oars', 'scroll', 'soaked', 'hatch', 'mate', 'rushes', 'ravenous', 'crane', 'bucket', 'liken', 'carpenter', 'anvil', 'incensed', 'Saviour', 'cane', 'surnamed', 'makers', 'millstones', 'sorceries', 'astrologers', 'Redeemer', 'Listen', 'abolished', 'Shake', 'visage', 'marred', 'comeliness', 'intercession', 'sower', 'brier', 'eunuch', 'bark', 'Behind', 'perfumes', 'eternity', 'undo', 'wasting', 'uttering', 'planting', 'wastes', 'Priests', 'upheld', 'melting', 'monuments', 'pastors', 'yelled', 'soap', 'dromedary', 'couldest', 'backsliding', 'climb', 'cage', 'wallow', 'Obey', 'snorting', 'gush', 'deck', 'wares', 'commotion', 'principalities', 'adulteries', 'snuffed', 'Sword', 'bemoan', 'repenting', 'northern', 'deaths', 'wag', 'roofs', 'halting', 'Nebuchadrezzar', 'Weep', 'Tyrus', 'yokes', 'dreamers', 'prophesieth', 'Gemariah', 'dwellingplaces', 'satiate', 'Neriah', 'Mighty', 'ink', 'cabins', 'Ebedmelech', 'Kareah', 'Tahpanhes', 'stamping', 'rumbling', 'scabbard', 'wanderers', 'clipped', 'Chaldea', 'bellow', 'lance', 'yell', 'wake', 'princess', 'miseries', 'rampart', 'Render', 'monsters', 'purer', 'aliens', 'orphans', 'peril', 'Ezekiel', 'Chebar', 'amber', 'sparkled', 'burnished', 'flash', 'foreheads', 'adamant', 'block', 'battering', 'crimes', 'pouring', 'untempered', 'Repent', 'supple', 'lewd', 'imperious', 'cropped', 'twigs', 'willow', 'soil', 'debtor', 'parables', 'furbished', 'oaths', 'Whiles', 'whiles', 'tales', 'dishonest', 'wolves', 'gap', 'Aholah', 'Aholibah', 'inordinate', 'stately', 'crowns', 'scum', 'tire', 'despite', 'frontiers', 'revenged', 'masts', 'mariners', 'pilots', 'fairs', 'chests', 'oar', 'pricking', 'basest', 'shroud', 'chestnut', 'wail', 'multitudes', 'blasphemies', 'talkers', 'estates', 'handling', 'arches', 'porches', 'squared', 'gallery', 'fashions', 'limit', 'squares', 'science', 'Belteshazzar', 'Shadrach', 'Meshach', 'Abednego', 'flute', 'hats', 'singed', 'Belshazzar', 'dissolve', 'kingly', 'presidents', 'lamentable', 'Ancient', 'dominions', 'notable', 'Gabriel', 'craft', 'Messiah', 'scripture', 'exploits', 'Hosea', 'reject', 'testifieth', 'howled', 'spiritual', 'hemlock', 'foam', 'Fall', 'cankerworm', 'quake', 'Beat', 'wakened', 'Amos', 'tumults', 'Moloch', 'star', 'stall', 'chant', 'chapel', 'darken', 'grain', 'foreigners', 'sleeper', 'weeds', 'preaching', 'gourd', 'averse', 'chop', 'entrances', 'scant', 'sharper', 'torches', 'recount', 'strangled', 'rattling', 'drag', 'blocks', 'crashing', 'gnaw', 'Josedech', 'brand', 'waked', 'Grace', 'Hen', 'Greece', 'Beauty', 'brotherhood', 'burdensome', 'torch', 'Olives', 'mournfully', 'Gospel', 'Saint', 'Matthew', 'Jesus', 'Christ', 'Judas', 'Ghost', 'JESUS', 'Judaea', 'Herod', 'Juda', 'Nazareth', 'Baptist', 'Esaias', 'leathern', 'baptized', 'Pharisees', 'Sadducees', 'baptism', 'baptize', 'hungred', 'tempter', 'Capernaum', 'Simon', 'Peter', 'Andrew', 'Zebedee', 'mending', 'gospel', 'torments', 'palsy', 'jot', 'publicans', 'alms', 'debtors', 'heavenly', 'rust', 'Sufficient', 'mote', 'centurion', 'beseeching', 'gnashing', 'infirmities', 'tombs', 'Daughter', 'apostles', 'Philip', 'Bartholomew', 'publican', 'Alphaeus', 'Iscariot', 'Gomorrha', 'disciple', 'Beelzebub', 'Elias', 'markets', 'Bethsaida', 'synagogue', 'Jonas', 'scorched', 'mysteries', 'anon', 'deceitfulness', 'choke', 'unfruitful', 'tares', 'householder', 'mustard', 'pearl', 'Joses', 'unbelief', 'tetrarch', 'Herodias', 'tradition', 'murders', 'crumbs', 'Caesarea', 'Philippi', 'transfigured', 'overshadowed', 'faithless', 'thinkest', 'pence', 'owest', 'fellowservant', 'callest', 'Friend', 'crucify', 'Hosanna', 'Bethany', 'scriptures', 'Caesar', 'superscription', 'resurrection', 'Rabbi', 'abased', 'damnation', 'guides', 'mint', 'strain', 'Pharisee', 'partakers', 'Zacharias', 'hen', 'chickens', 'earthquakes', 'Noe', 'crucified', 'Caiaphas', 'testament', 'remission', 'hymn', 'cock', 'Sleep', 'Hail', 'legions', 'Hereafter', 'crew', 'Pilate', 'Barabbas', 'platted', 'Cyrene', 'Golgotha', 'KING', 'reviled', 'Magdalene', 'dawn', 'blaze', 'throng', 'lusts', 'manifested', 'Whereunto', 'thronged', 'ado', 'executioner', 'rowing', 'lasciviousness', 'Greek', 'questioning', 'foaming', 'disputed', 'lordship', 'loosing', 'seduce', 'vehemently', 'buffet', 'warming', 'Alexander', 'damned', 'Elisabeth', 'believest', 'beckoned', 'ministration', 'manger', 'devout', 'doctors', 'exhortation', 'lake', 'fishermen', 'toiled', 'rubbing', 'traitor', 'lawyers', 'frankly', 'launched', 'sailed', 'Maid', 'plough', 'labourer', 'rue', 'Soul', 'Galilaeans', 'dresser', 'seasoned', 'husks', 'Lazarus', 'gulf', 'citizens', 'trading', 'napkin', 'austere', 'descent', 'prisons', 'confidently', 'affirmed', 'gorgeous', 'Latin', 'paradise', 'furlongs', 'Word', 'Lamb', 'Cephas', 'Nathanael', 'Nicodemus', 'impotent', 'quickeneth', 'boats', 'shipping', 'murmuring', 'convicted', 'accusers', 'spat', 'Sent', 'worshipper', 'groaned', 'Romans', 'Greeks', 'signifying', 'Comforter', 'Greater', 'Henceforth', 'perdition', 'lanterns', 'seam', 'fisher', 'dragging', 'infallible', 'Pontus', 'Asia', 'Pamphylia', 'Rome', 'foreknowledge', 'patriarch', 'exhort', 'unlearned', 'Barnabas', 'Cyprus', 'Ananias', 'believers', 'sect', 'Stephen', 'Antioch', 'Cilicia', 'blasphemous', 'Sirs', 'oracles', 'regions', 'persecutest', 'Straight', 'Tarsus', 'churches', 'tanner', 'Cornelius', 'Christians', 'Lucius', 'Paul', 'Iconium', 'unbelieving', 'Lystra', 'Jupiter', 'garlands', 'exhorting', 'abstain', 'Silas', 'greeting', 'Fare', 'epistle', 'Timotheus', 'Galatia', 'Troas', 'Macedonia', 'charging', 'Thessalonica', 'Opening', 'consorted', 'baser', 'Jason', 'Athens', 'philosophers', 'superstitious', 'inscription', 'Godhead', 'winked', 'Corinth', 'Aquila', 'Italy', 'Priscilla', 'Corinthians', 'Achaia', 'Ephesus', 'Apollos', 'arts', 'Diana', 'magnificence', 'Gaius', 'Aristarchus', 'Thessalonians', 'Tychicus', 'minding', 'shunned', 'necessities', 'sailing', 'aboard', 'Crying', 'imprisoned', 'martyr', 'Roman', 'banded', 'Felix', 'Farewell', 'pestilent', 'ringleader', 'temperance', 'Festus', 'Agrippa', 'superstition', 'specially', 'Crete', 'voyage', 'Euroclydon', 'helps', 'abstinence', 'sirs', 'fathoms', 'anchors', 'barbarians', 'Publius', 'Hearing', 'Epistle', 'Apostle', 'apostle', 'invisible', 'corruptible', 'inventors', 'revelation', 'hearers', 'uncircumcision', 'access', 'disobedience', 'motions', 'carnal', 'spiritually', 'manifestation', 'subjected', 'conquerors', 'Brethren', 'graffed', 'conceits', 'Deliverer', 'soberly', 'Vengeance', 'envying', 'admonish', 'Spain', 'Greet', 'Salute', 'Hermes', 'saluteth', 'sanctification', 'hereby', 'transferred', 'puffed', 'spectacle', 'followers', 'glorying', 'idolaters', 'Knowledge', 'incorruptible', 'communion', 'Conscience', 'heresies', 'differences', 'governments', 'Charity', 'childish', 'darkly', 'edifying', 'barbarian', 'celestial', 'terrestrial', 'incorruption', 'earthy', 'trump', 'Timothy', 'Titus', 'mortality', 'Giving', 'yoked', 'concord', 'infidel', 'experiment', 'Thanks', 'chaste', 'perils', 'revelations', 'Finally', 'traditions', 'mediator', 'elements', 'allegory', 'predestinated', 'Whereof', 'vocation', 'compacted', 'Speaking', 'hymns', 'wrestle', 'bishops', 'deacons', 'conflict', 'Holding', 'translated', 'consist', 'Laodicea', 'beguile', 'Head', 'Fathers', 'Masters', 'Marcus', 'archangel', 'unruly', 'disorderly', 'fables', 'lawless', 'blasphemer', 'persecutor', 'immortal', 'godliness', 'adorn', 'sobriety', 'bishop', 'vigilant', 'piety', 'railings', 'Charge', 'shun', 'perilous', 'Traitors', 'riot', 'bellies', 'fidelity', 'Looking', 'sundry', 'Majesty', 'Priest', 'Melchisedec', 'afresh', 'anchor', 'holiest', 'sprinkling', 'illuminated', 'builder', 'pilgrims', 'Pure', 'bits', 'helm', 'tamed', 'sensual', 'devilish', 'supreme', 'railing', 'ensue', 'authorities', 'Beloved', 'constraint', 'elected', 'damnable', 'pernicious', 'brute', 'overcometh', 'malicious', 'contending', 'Spirits', 'Sardis', 'rainbow', 'seals', 'Lion', 'vials', 'Blessing', 'conquer', 'bottomless', 'shapes', 'stings', 'woes', 'Seal', 'Devil', 'harpers', 'scorch', 'GREAT', 'martyrs', 'slaves', 'musicians', 'omnipotent', 'transparent', 'SONGS', 'BOOK', 'THEL', 'Pipe', 'rural', 'morn', 'thrush', 'echoing', 'Round', 'laps', 'darkening', 'Gave', 'er', 'mead', 'vales', 'LITTLE', 'BOY', 'southern', 'sunburnt', 'Merry', 'cradle', 'Near', 'robin', 'sobbing', 'chimneys', 'soot', 'sweepers', 'Joe', 'Ned', 'Jack', 'coffins', 'LOST', 'Led', 'Began', 'SONG', 'Susan', 'chorus', 'Sweet', 'Weave', 'brows', 'livelong', 'Chase', 'Heavenly', 'clime', 'Turk', 'Twas', 'dome', 'radiance', 'hum', 'harmonious', 'Beneath', 'bower', 'Sits', 'nibbled', 'Unseen', 'tigers', 'Seeking', 'heedful', 'mane', 'Nightingale', 'Lark', 'Merrily', 'fades', 'Joy', 'methought', 'Dark', 'tangle', 'spray', 'wight', 'ON', 'starry', 'dewy', 'watery', 'Eternal', 'bane', 'builds', 'Self', 'Joys', 'Babes', 'prophetic', 'Lyca', 'Underneath', 'Lost', 'ache', 'frowning', 'Sleeping', 'Pale', 'piteous', 'shriek', 'Rising', 'presse', 'Turning', 'stalked', 'growl', 'Fly', 'brushed', 'ne', 'rosy', 'Tiger', 'tiger', 'aspire', 'twist', 'grasp', 'clasp', 'TREE', 'Youth', 'shrouded', 'threat', 'Driven', 'Garden', 'Chapel', 'writ', 'rounds', 'ale', 'Dame', 'birch', 'sweeper', 'hapless', 'hearse', 'Cruelty', 'spreads', 'leapt', 'piping', 'fiend', 'sulk', 'foe', 'picks', 'shirt', 'Met', 'Waves', 'sings', 'drooping', 'dreary', 'annoy', 'droop', 'blasts', 'sexes', 'Blown', 'mould', 'Image', 'Doubt', 'maze', 'forge', 'gorge', 'engraved', 'Eagle', 'Author', 'Seraphim', 'Thel', 'weed', 'gilded', 'butterfly', 'Har', 'shrine', 'peaceful', 'voiceless', 'milky', 'crops', 'steed', 'humid', 'Descend', 'hover', 'Cloud', 'verdant', 'Hovering', 'st', 'steeds', 'balmy', 'link', 'warbling', 'Lives', 'Worm', 'Worms', 'rais', 'pours', 'nuptial', 'matron', 'terrific', 'Ear', 'glistening', 'Tongue', 'impress', 'whirlpool', 'curb', 'Virgin', 'Fled', 'ken', 'sleeps', 'Tulip', 'Suddenly', 'tap', 'Rain', 'pane', 'rustling', 'cheery', 'keyhole', 'pose', 'wee', 'crack', 'poked', 'doo', 'fiercely', 'rays', 'tiny', 'Mother', 'Ocean', 'big', 'majestic', 'animals', 'RED', 'Goose', 'Duck', 'MAN', 'hadn', 'chocolate', 'Gingerbread', 'Boy', 'couldn', 'roadside', 'threshers', 'smelt', 'mowers', 'didn', 'chuckled', 'snap', 'jungle', 'Jackal', 'Pooh', 'growled', 'wasn', 'City', 'Mouse', 'Country', 'cupboard', 'nibble', 'bang', 'Cat', 'cellar', 'spicy', 'trundle', 'Rollaround', 'funny', 'Slowly', 'steeple', 'vane', 'startling', 'Stars', 'bumped', 'steered', 'steer', 'picked', 'HOW', 'WHALE', 'Rabbit', 'Whale', 'Elephant', 'crouched', 'biggest', 'drum', 'Huh', 'grunted', '----\"', 'tightly', 'tightened', 'braced', 'tremendous', '\";', 'sliding', 'dived', 'jerked', 'slipping', 'surf', 'jerk', 'spouted', 'Spanish', 'shell', 'Chick', 'hoppity', 'Madrid', 'Water', 'bothered', 'smothered', 'Wind', 'sentry', 'Cook', 'dizzy', 'elm', 'blackberry', 'icy', 'rattle', 'blades', 'fragrant', 'ripen', 'redder', 'shouts', 'gathers', '*', 'Wee', 'rocky', 'wits', 'bridge', 'Northern', 'Lights', 'Watching', 'hillside', 'sharpest', 'Field', 'shiny', 'acorn', 'isn', 'cooked', 'necklace', 'Fox', 'apron', 'slung', 'firewood', 'scared', 'perched', 'perch', 'farmhouse', 'thump', 'splash', 'Hin', 'Off', 'ould', 'bin', 'shure', 'din', 'track', 'hides', 'shuts', 'wid', 'Across', 'Right', 'whipped', 'Says', 'popped', 'Thinks', 'tugged', 'Epaminondas', 'Auntie', 'Mammy', 'ain', 'massy', 'truck', 'mince', 'WHO', 'villagers', 'fun', 'Wolf', 'Frogs', 'swamp', 'Jove', 'pond', 'eel', 'wriggling', 'swimming', 'Instantly', 'crabs', 'crab', 'Alligator', 'lashed', 'snapped', 'sticking', 'bubbles', 'juicy', 'crawled', 'dragged', 'humped', 'doesn', 'piled', 'smoked', 'herring', 'Larks', 'uncles', 'shadowy', 'splendid', 'godmother', 'wand', 'housework', 'someone', 'jolly', 'Europe', 'America', 'wayward', 'Honest', 'Thee', 'Piccola', 'France', 'Sad', 'woke', 'Fir', 'Tree', 'experiences', 'text', 'memories', '_The', 'slim', 'rocked', 'swung', 'ocean', 'sledge', 'tub', 'floating', 'wheeled', 'hobbling', 'hospital', 'babies', 'Elsa', 'fairies', 'hopped', 'chaps', 'Thumb', 'Ring', 'cooking', 'broom', 'shoemaker', 'stitch', 'Bright', 'customer', 'pairs', 'elves', 'commenced', 'trousers', 'eve', 'cleaned', 'OTTER', 'Otter', 'Chief', 'War', 'Woodpecker', 'gong', 'trod', 'Lizard', 'Tortoise', 'trailing', 'pike', 'shouldered', 'Around', 'Brahmin', 'grumbling', 'loads', 'overhead', 'vacantly', 'Show', 'Camel', 'swam', 'Consequently', 'mouthful', 'crazy', 'pioneers', 'Mississippi', 'River', 'Central', 'inland', 'huts', 'dug', 'vegetables', 'shoots', 'crickets', 'swarming', 'crawling', 'streaming', 'trenches', 'flapping', 'gulls', 'Snow', 'soaring', 'circled', 'shrill', 'outspread', 'hovering', 'pioneer', 'weaving', 'schools', 'gull', 'emperor', 'China', 'Emperor', 'Chamberlain', 'trampled', 'scraps', 'courtiers', 'silken', 'halls', 'Inside', 'diamonds', 'nightingale', 'tunes', 'whistle', 'r', 'churchyard', 'Margery', 'plum', 'peas', 'Flowers', 'salad', 'lettuce', 'radishes', 'wider', 'weeding', 'wouldn', 'Illustration', 'postman', 'label', 'BROWN', 'Canterbury', 'ploughed', 'platform', 'curved', 'rake', 'scrambling', 'ploughing', 'afternoons', 'spade', 'inches', 'hoe', 'shallow', 'vegetable', 'crust', 'radish', 'twos', 'peeping', 'faintly', 'wrinkled', 'twinkle', 'parks', 'Ducks', 'shines', 'legend', 'Sicily', 'chanting', 'madly', 'pounding', 'peering', 'fluttering', 'stair', 'corridors', 'impostor', 'jester', 'ape', 'procession', 'trains', 'madman', 'cathedral', 'monks', 'throbbing', 'absorbed', 'Elector', 'statue', 'bronze', 'overjoyed', 'Herr', 'Grupello', 'Royal', 'hammering', 'artistic', 'flaw', 'hammered', 'slunk', 'Cherry', 'Gladly', 'wills', 'dazzling', 'roses', 'Fairy', 'prick', 'warnings', 'annoyed', 'Zelia', 'disobey', 'tutor', 'Suliman', 'clash', 'monster', 'gazed', 'deformed', 'trappers', 'buzzing', 'kennel', 'poisoned', 'eastern', 'hermit', 'beak', 'bleed', 'digging', 'NEW', 'Orleans', 'hotels', 'leans', 'wears', 'monument', 'asylum', 'Sisters', 'customers', 'steam', 'factory', 'Catholics', 'mines', 'fights', 'legends', 'Dagda', 'Fomorians', 'metal', 'magic', 'buckle', 'Forth', 'chords', 'comrade', 'Tears', 'tailor', 'garraun', 'peg', 'commence', 'gallon', 'Sea', 'remarked', 'Frode', 'Denmark', 'Giant', 'Maidens', 'Directly', 'pitiless', 'approaches', 'bloodshed', 'tramp', 'braces', 'crash', 'gleamed', 'robed', 'stride', 'wistfully', 'finely', 'lunch', 'drowsy', 'nap', 'sleepers', 'fireworks', 'bony', 'whistled', 'slower', 'budge', 'blankets', 'Castle', 'scratched', 'stumps', 'grasped', 'slimy', 'animal', 'ray', 'gigantic', 'waving', 'clang', 'baggage', 'striding', 'challenge', 'processions', 'peasant', 'clown', 'grin', 'cat', 'Together', 'hut', 'everyone', 'timidly', 'cells', 'Germany', 'Gottlieb', 'Child', 'gruffly', 'loaded', 'dame', 'Babe', 'silvery', 'Diamond', 'daisies', 'Dewdrop', 'blazing', 'fixedly', 'Beetle', 'Sire', 'responded', 'interpose', 'flashed', 'vivid', 'violet', 'flashes', 'splashed', 'sob', 'slid', 'homeward', 'Simple', 'Adventures', 'Buster', 'BUSTER', 'BEAR', 'yawned', 'Black', 'Sammy', 'Jay', 'screaming', 'Thief', 'grinned', 'Chatterer', 'Squirrel', 'Blacky', 'Crow', 'Brook', 'grumbly', 'rumbly', 'trout', 'fisherman', 'EVEN', 'WITH', 'Billy', 'Mink', 'bully', 'Smiling', 'Pool', 'Meadows', 'coated', 'muddy', 'lash', 'enjoys', 'chuckling', 'Doesn', 'smarter', 'Bobby', 'Coon', 'fished', 'Jolly', 'neighbors', 'Grandfather', 'Frog', 'Big', 'tickled', 'Jerry', 'Muskrat', 'rum', 'Didn', 'mildly', 'retorted', 'fighter', 'Shadow', 'FARMER', 'NO', 'LUCK', 'AT', 'whistling', 'trudged', 'catches', 'Made', 'Anger', 'footprint', 'excitement', 'tracks', 'Turtle', 'Reddy', 'Hickory', 'glared', 'drawled', 'scare', 'favor', 'Unc', 'Possum', 'Caw', 'caw', 'Hare', 'Jimmy', 'Toad', 'Friends', 'Meanwhile', 'pail', 'hasn', 'Woods', 'scrambled', 'shrieked', 'logs', 'gasp', 'e', 'yo', 'FOR', 'Nearer', 'jerking', 'lonesome', 'berry', 'Um', 'Makes', 'Pasture', 'Seems', 'pie', 'Mountain', 'roam', 'World', 'mustn', 'peered', 'blueberries', 'blackberries', 'sheer', 'legged', 'um', 'blinked', 'tipped', 'brimming', 'recognized', 'yelling', 'Welcome', 'Tit', 'Jenny', 'Wood', 'peer', 'aroused', 'clattering', 'philosopher', 'stupidly', 'needn', 'comical', 'Wonder', 'adventures', 'Alice', 'sleepy', 'picking', 'OUT', 'rabbit', 'tunnel', 'Zealand', 'Australia', 'dreamy', 'whiskers', 'doorway', 'telescope', \"('\", 'cherry', 'turkey', 'croquet', 'RIGHT', 'gallons', 'pattering', 'Duchess', 'savage', 'Mabel', 'Table', 'Paris', '--\"\\'', 'crocodile', 'Nile', 'chin', 'railway', 'wooden', 'spades', 'walrus', 'Grammar', 'daresay', 'Conqueror', 'est', 'lazily', 'curly', 'rats', 'Lory', 'Race', 'Tale', 'fur', 'sulky', 'Silence', 'usurpation', 'shiver', 'Found', 'hurriedly', 'prizes', 'thimble', 'Hand', 'jury', '.\"\\'', 'Crab', 'oyster', 'Bill', '\\'\"', 'Coming', 'SOMETHING', 'HERE', 'shouldn', 'yer', 'Sounds', 'coward', 'shrieks', 'slate', 'squeaking', 'pebbles', 'pigs', 'barking', 'hoarsely', 'mushroom', 'hookah', 'Caterpillar', 'sternly', 'confusing', 'swallowing', 'OLD', 'FATHER', 'WILLIAM', 'sage', 'muscular', 'awfully', 'T', 'rearing', 'HAVE', 'curving', 'dive', 'Serpent', 'Pigeon', 'Fish', 'Footman', 'sneezing', 'grazed', 'maybe', 'idiotic', 'soup', 'pepper', 'grinning', 'axis', 'tossing', 'flinging', 'engine', 'IF', 'pig', 'trot', 'Hatter', 'vanishing', 'Mad', 'Dormouse', 'elbows', 'meekly', 'gloomily', 'wearily', 'Hearts', 'pinch', 'murdering', 'yawning', 'vote', 'treacle', 'jug', 'eh', 'doze', 'Ground', 'tulip', 'flung', 'clubs', 'oblong', 'Knave', 'flamingo', 'tucked', 'straightened', 'hedgehog', 'unrolled', 'weren', 'Mock', 'Story', 'hopeful', 'Tut', 'squeezed', 'morals', 'waist', 'Birds', 'linked', 'sentenced', 'Gryphon', 'ledge', 'extra', 'Lobster', 'lobster', 'jelly', 'lobsters', 'Back', 'whiting', 'porpoise', 'shingle', 'scaly', 'eels', 'duck', 'belt', 'Shark', 'Waiting', 'Soo', 'oop', 'parchment', 'wig', 'slates', 'dates', 'shifting', 'squeeze', 'dunce', 'denies', 'canvas', 'applause', 'undertone', 'sprawling', 'globe', 'downwards', 'signifies', 'imitated', 'clapping', 'Begin', 'atom', 'KNOW', 'BE', 'FROM', 'BEFORE', 'clasped', 'choking', 'rippling', 'G', 'Professor', 'gleaming', 'professor', 'machine', 'fantastic', 'evolution', 'elusive', 'eternally', 'identities', 'nightmare', 'tools', 'patent', 'revolver', 'coincidence', 'monk', 'crushing', 'detect', 'civilization', 'Middle', 'Ages', 'illustrate', 'religions', 'symbol', 'Phrase', 'progeny', 'morbid', 'lurid', 'exploded', 'erect', 'cracks', 'haze', 'orb', 'maniac', 'planet', 'Cathedral', 'buoy', 'leaden', 'definite', 'Hence', 'unearthly', 'opaque', 'fog', 'dense', 'drowning', 'immeasurable', 'combination', 'cataracts', 'monstrosity', 'voyagers', 'draped', 'mists', 'borderland', 'stark', 'humbug', 'arbitrary', 'essentially', 'collision', 'quadruped', 'element', 'evolutionary', 'barbaric', 'prop', 'rounded', 'embodiment', 'logical', 'maddening', 'monotony', 'Christianity', 'crucifix', 'batter', 'Catholic', 'frenzy', 'wending', 'interminable', 'whirled', 'literal', 'reeling', 'practical', 'grimly', 'ungovernable', 'Ludgate', 'paradox', 'journalism', 'dandy', 'fundamental', 'sickening', 'brains', 'deathless', 'swagger', 'facade', 'physical', 'philosophical', 'sanity', 'elemental', 'universe', 'victorious', 'defeated', 'stillness', 'idiots', 'paralysis', 'unmeaning', 'witted', 'efficient', 'map', 'prosaic', 'moustache', 'float', 'noblest', 'heroes', 'demeanour', 'coax', 'awaiting', 'spiral', 'pinioned', 'sunset', 'plumage', 'masses', 'hurled', 'aren', 'demi', 'trail', 'serpentine', 'buns', 'pantomime', 'hilarious', 'mob', 'splinters', 'police', 'lank', 'dazed', 'plaid', 'smashed', \"'-\", 'constable', 'turbulent', 'ensuing', 'Atheist_', 'district', 'editor', 'thrilling', 'width', 'uplifted', 'Scotchman', 'Turnbull', 'Year', 'artists', 'Bay', 'snaky', 'Celtic', 'Highlander', 'Evan', 'MacIan', 'Fleet', 'historical', 'peacock', 'supernatural', 'debris', 'sharpening', 'Victoria', 'conspirator', 'Highland', 'capture', 'Golden', 'Constitution', 'selected', 'atheist', '\",', 'stolidly', 'Mesopotamian', 'accumulated', 'deity', 'brandishing', 'lunatic', 'lone', 'policemen', 'ponderous', 'questionings', 'enthusiasts', 'shopkeeper', 'types', 'republican', 'appeals', 'Cumberland', 'Vane', 'theoretic', 'hopelessly', 'incomparable', 'Laughter', 'stolidity', 'Loud', 'parallel', 'irritably', 'Eh', 'conceivable', 'coin', 'automatic', '\".', 'pistol', 'refuses', 'bubble', 'imbecile', 'stunned', 'branching', 'phrases', 'accidents', 'duel', 'ghastly', 'thunderstruck', 'thinker', 'atheists', 'shadowed', 'Island', 'Blood', 'mellow', 'greasy', 'poetic', 'glimmer', 'archway', 'squalid', 'type', 'cowardly', 'Gordon', 'Scotchmen', 'Scotch', 'ghostly', 'trophy', 'poised', 'Words', 'shopman', 'stunning', 'Gentlemen', 'grating', 'Raise', 'gag', 'combatants', 'cigarette', 'vitality', 'apathy', 'lunged', 'infernal', 'opponent', 'parried', 'unbearable', 'murderous', 'lunge', 'thrusting', 'chivalry', 'scraping', 'duellists', 'graze', 'mechanical', 'click', 'bellowing', 'Police', 'Murder', 'gasped', 'socks', 'vehicles', 'hansom', 'cabman', 'fares', 'shirts', 'unnaturally', 'superb', 'Price', 'glimmering', 'policeman', 'bugle', 'aperture', 'runaway', 'realities', 'thinkers', 'vista', 'unused', 'amateur', 'wilder', 'conventional', 'practically', 'comrades', 'Road', 'cigar', 'exists', 'posters', 'sensational', 'editors', 'Wilkinson', 'Safe', 'Jones', 'democratic', 'incident', 'fanatic', 'columns', 'headlines', '_Daily', 'inserted', 'colourless', 'temperature', 'gasping', 'reporter', 'announcement', 'simultaneously', 'Empire', 'Government', 'denounced', 'comic', 'costume', 'unimaginable', 'British', 'un', 'developed', 'detective', 'heading', 'split', 'laboriously', 'shaping', 'vaguely', 'largely', 'Chinese', 'hieroglyphic', 'invoked', 'democracy', 'average', 'heroic', 'accuracy', 'omnibus', 'revolutionary', 'intoxicated', 'loosen', 'shivered', 'sunrise', 'mystical', 'magnifying', 'elephants', 'litter', 'strewn', 'indiscriminately', 'anarchy', 'studious', 'journalist', 'luggage', 'anyhow', 'casually', 'plunging', 'Dreyfus', 'criminals', 'Napoleon', 'Africa', 'isolation', 'locking', 'smash', 'brandy', 'deuce', 'idiot', 'sunlight', 'pagan', 'placidly', 'brittle', 'despairing', 'elephant', 'explaining', 'Confound', 'claret', 'bewilderment', 'serenely', 'sane', 'curling', 'tropics', 'unique', 'hygienic', 'brimmed', 'startlingly', 'Dry', 'Tolstoy', 'Catholicism', 'natures', 'plane', 'breeds', 'gripped', 'elaborate', 'hilt', 'grip', 'counterfeit', 'mystic', 'abyss', 'magnet', 'student', 'OTHER', 'swing', 'uplands', 'lunatics', 'genially', 'unmistakable', 'Revolution', 'hoisted', 'surged', 'prouder', 'emotional', 'strolled', 'triangle', 'stained', 'echo', 'heraldic', 'expiring', 'tilted', 'foil', 'Seen', 'temporarily', 'Try', 'indirectly', 'typical', 'pistols', 'adore', 'prints', 'ominous', 'inoffensive', 'whitewashed', 'Nights', 'subtly', 'oriental', 'Turkish', 'civilizations', 'negro', 'turban', 'humming', 'prow', 'twig', 'ducked', 'blinking', 'liquid', 'craven', 'forefinger', 'statues', 'Cornwall', 'continent', 'commerce', 'Wimpey', 'assassins', 'continuous', 'Victory', 'Indians', 'conqueror', 'survivor', 'strained', 'bounding', 'ex', 'Fellow', 'slanting', 'snapping', 'reverberations', 'yawn', 'ceremonial', 'College', 'Damn', 'pewter', 'parallelogram', 'thoroughfares', 'aslant', 'central', 'institution', 'Arms', 'bankrupt', 'tankard', 'tavern', 'threes', 'emphatic', 'myth', 'monotonous', 'recognize', 'Divine', 'humorous', 'grimace', 'philosophies', 'cathedrals', 'strides', 'rustic', 'signals', 'vibrating', 'primitive', 'flats', 'districts', 'pines', 'atmospheres', 'creed', 'cosmos', 'ignore', 'Bruno', 'Us', 'electric', 'normal', 'Carlo', 'Cambridge', 'anti', 'ideal', 'combinations', 'imaginative', 'goal', 'moonlit', 'Leaving', 'clutched', 'hoot', 'twitched', 'Fate', 'baffling', 'formless', 'raced', 'motor', 'chauffeur', 'profile', 'aquiline', 'novels', 'ruthless', 'menacing', 'gurgling', 'senile', 'champions', 'boarding', 'rivulet', 'masquerade', 'conjuring', 'disarmed', 'melodious', 'battery', 'boldest', 'sullen', 'aspiring', 'swaying', 'captured', 'arrest', 'diving', 'throb', 'machinery', 'woodlands', 'slacken', 'fabulous', 'wrongs', 'towering', 'tragic', 'shattering', 'hangs', 'steering', 'sergeant', 'stung', 'section', 'reverent', 'Norman', 'arrogant', 'moonshine', 'obvious', 'momentarily', 'nowadays', 'drama', 'toy', 'Anyhow', 'realize', 'peaked', 'schoolboy', 'apologetically', 'frigid', 'profoundly', 'arresting', 'thundering', 'buffalo', 'grotesque', 'slouching', 'phantom', 'flapped', 'longitude', 'Hampshire', 'stems', 'daybreak', 'revealing', 'crouching', 'blazed', 'lustrous', 'explosion', 'wavered', 'apologetic', 'loosening', 'tenement', 'irony', 'creeds', 'inhuman', 'masculine', 'Isles', 'biting', 'grassy', 'strode', 'sturdily', 'precipice', 'architecture', 'drab', 'monologue', 'ornamental', 'bridges', 'foliage', 'semicircle', 'Point', 'bluff', 'spectators', 'saluting', 'framework', 'load', 'crest', 'centuries', 'promontory', 'ironical', 'teeming', 'tropical', 'seaweed', 'hips', 'collapse', 'sweating', 'moaning', 'steamer', 'grim', 'implements', 'whisky', 'skeleton', 'breakwater', 'weird', 'ballad', 'scrap', 'Hurrah', 'Paradise', 'Land', 'knitted', 'omen', 'le', 'cataract', 'Louis', 'tournament', 'Courage', 'parody', 'apparition', 'blazes', 'blundering', 'reflectively', 'clatter', 'levels', 'shoals', 'cannon', 'twin', 'ribbed', 'diplomacy', 'hamlet', 'Bull', 'Durand', 'depressing', 'villa', 'extremes', 'meagre', 'beads', 'Madeleine', 'personality', 'casual', 'peasants', 'storied', 'irritating', 'conventions', 'Camille', 'Bert', 'pious', 'squall', 'Gregory', 'frock', 'spout', 'callous', 'nook', 'nimble', 'woodland', 'bullet', 'aristocrat', 'stifled', 'semi', 'community', 'guns', 'pallor', 'fable', 'mask', 'massive', 'stubbornly', 'wrecked', 'oddity', 'selling', 'wrench', 'hits', 'Englishman', 'confidentially', 'yacht', 'logic', 'Left', 'benignity', 'abstract', 'bowsprit', 'pirates', 'boxes', 'champagne', 'Army', 'cigars', 'spectre', 'puffing', 'islet', 'farce', 'tragedy', 'sentinels', 'truce', 'tobacco', 'Apollo', 'hieroglyphics', 'breathless', 'convulsions', 'nigger', 'Margate', 'chart', 'crested', 'tangled', 'barred', 'discoloured', 'jingle', 'portly', 'Past', 'layers', 'horizontal', 'astride', 'vaulted', 'knights', 'laburnum', 'whiteness', 'sunlit', 'matured', 'Council', 'floundering', 'regal', 'promptly', 'adamantine', 'moodily', 'balancing', 'dynamite', 'favours', 'meaningless', 'murdered', 'subordinates', 'loyal', 'confronted', 'aristocracy', 'Broad', 'forked', 'rim', 'phase', 'Quayle', 'savagely', 'odds', 'almighty', 'bet', 'hereditary', 'chap', 'indifferently', 'incidentally', 'sided', 'patients', 'bearded', 'madhouse', 'jail', 'slabs', 'exhilarating', 'scientist', 'crude', 'flap', 'quire', 'penalty', 'ancestor', 'simpler', 'luminous', 'tints', 'lemon', 'chip', 'sparkle', 'meteors', 'benediction', 'owns', 'Pendragon', 'Saturn', 'bleeding', 'confronting', 'grasping', 'peers', 'brigand', 'sloped', 'mended', 'ringed', 'triple', 'spurs', 'plume', 'twisting', 'princely', 'suns', 'moods', 'impressive', 'problems', 'theories', 'Jersey', 'strips', 'flowering', 'shreds', 'careering', 'mirror', 'slapping', 'shaggy', 'balloon', 'sinister', 'rag', 'rocking', 'scarf', 'braver', 'Below', 'pitching', 'sideways', 'campaign', 'gunpowder', 'programme', 'prairies', 'population', 'unborn', 'applaud', 'stifling', 'corridor', 'piles', 'poise', 'actor', 'B', 'glazed', 'tiles', 'capitals', 'officials', 'cell', 'hatchway', 'cocoa', 'maddened', 'reckless', 'tube', 'Prussian', 'leak', 'germs', 'swiftest', 'colossal', 'spike', 'certificate', 'Tower', 'carve', 'strayed', 'indirect', 'Alone', 'shuddered', 'rhyme', 'isolated', 'baffled', 'oblique', 'galloping', 'crawl', 'outlet', 'cocked', 'dwarfish', 'mumbling', 'trailed', 'lovingly', 'Hallo', 'hellish', 'labyrinth', 'Hutton', 'arched', 'Heard', 'lunacy', 'insanity', 'taint', 'reversed', 'Minister', 'inaudible', 'deepening', 'grizzled', 'quietude', 'Bank', 'turrets', 'outlined', 'rattled', 'tumble', 'mistook', 'matchless', 'inexplicable', 'collapsed', 'researches', 'structure', 'gleam', 'Beatrice', 'Drake', 'laurel', 'classification', 'feverishly', 'stalking', 'sunken', 'cadence', 'bullets', 'hauled', 'crowding', 'spikes', 'massacre', 'Russian', 'forbids', 'fulfilment', 'crowds', 'obscurely', 'fired', 'corps', 'stalwart', 'cosy', 'restaurant', 'customary', 'indicates', 'promenade', 'Monsieur', 'superstitions', 'victim', 'indecent', 'smoky', 'accordance', 'suicide', 'scorching', 'shrieking', 'deafening', 'arrested', 'clenched', 'peals', 'Fool', 'topmost', 'flush', 'echoes', 'sceptical', 'materialism', 'writers', 'cavern', 'shafts', 'hollows', 'Everyone', 'Project', 'Gutenberg', 'PROJECT', 'GUTENBERG', 'eBooks', 'based', 'copyright', 'Midnight', '://', '/', 'eBook', 'dollars', 'nominally', '$', '2002', 'files', 'Literary', 'Archive', 'Foundation', 'donations', 'Alabama', 'Arkansas', 'Columbia', 'Florida', 'Georgia', 'Illinois', 'Indiana', 'Kansas', 'Kentucky', 'Louisiana', 'Maine', 'Massachusetts', 'Michigan', 'Missouri', 'Mexico', 'Carolina', 'Ohio', 'Oregon', 'Pennsylvania', 'Dakota', 'Tennessee', 'Texas', 'Vermont', 'Virginia', 'Washington', 'wire', 'com', '**', 'Print', 'copies', 'OR', 'tm', 'domain', 'United', 'States', 'products', 'damages', 'costs', 'BUT', 'AS', 'agents', 'links', 'fee', 'Honor', 'royalty', 'WANT', 'Glass', 'Hood', 'specialist', 'chemistry', 'mechanics', 'flanked', 'clerical', 'thud', 'MacNabs', 'intensity', 'radiant', 'MacNab', 'Todhunter', 'triumphs', 'problem', 'President', 'Mayor', 'Republic', 'unquestionable', 'cleric', 'noiseless', 'fiercest', 'swarthy', 'incidents', 'morbidity', 'sill', 'drugged', 'swiftness', 'demon', 'glint', 'potatoes', 'knotted', 'systematically', 'untie', 'flask', 'blackmailed', 'lays', 'knots', 'reiterated', 'ejaculated', 'masked', 'intense', 'brutes', 'intuition', 'ineffable', 'traces', 'juggling', 'Brothers', 'Thieves', 'Muscari', 'Dante', 'Venetian', 'Ethel', 'Harrogate', 'torrid', 'races', 'crows', 'vivacious', 'dire', 'Ezza', 'European', 'costumes', 'factories', 'Italians', 'courier', 'paralytic', 'riveted', 'arrant', 'brigands', 'Montano', 'Signor', 'Boston', 'emptying', 'sombre', 'cutlass', 'peaks', 'preposterous', 'wheeling', 'hues', 'nobler', 'crests', 'splintered', 'Kent', 'Britain', 'Dutch', 'padded', 'flowery', 'tough', 'muzzles', 'carbines', 'wading', 'epics', 'impregnable', 'gendarmes', 'Cato', 'Poets', 'classic', 'millionaire', 'outlaw', 'item', 'Santa', 'lure', 'disaster', 'ferocity', 'revolve', 'peak', 'vibration', 'loosened', 'sham', 'masks', 'Darkness', 'imperial', 'caress', 'unprecedented', 'Chicago', 'civilized', 'Hirsch', 'Armagnac', 'Brun', 'Adieu', 'armes', 'Quaker', 'Frenchman', 'anarchist', 'shattered', 'cafe', 'balcony', 'Frenchmen', 'Dubosc', 'betook', 'Maurice', 'Oriental', 'clustering', 'seizing', 'populace', 'Silent', 'Secretary', 'Office', 'majority', 'militant', 'rails', 'festive', 'weedy', 'fringed', 'confront', 'Valognes', 'gilt', 'dazzle', 'Flambeau', 'patriot', 'department', 'contains', '....', 'instincts', 'cipher', 'packing', 'shortest', 'flank', 'hued', 'chalk', 'terrace', 'aloft', 'burglar', 'sinks', 'Passage', 'unsuccessful', 'actress', 'Wilson', 'Seymour', 'Fashion', 'scores', 'Cutler', 'Nelson', 'Parkinson', 'Aurora', 'garb', 'American', 'Dream', 'individuality', 'victories', 'vase', 'muscles', 'Southern', 'amorous', 'concentration', 'abject', 'calculating', 'hissed', 'Looks', 'cannibal', 'Case', 'reliable', 'Cowdray', 'Patrick', 'Butler', 'dock', 'Tall', 'curves', 'projections', 'mediaeval', 'flows', 'Yankee', 'throbs', 'Harvey', 'Greywood', 'Usher', 'Society', 'exclusive', 'Trick', 'Todd', 'Pilgrim', 'Pond', 'miscellaneous', 'Cannibal', 'jewelled', 'bosoms', 'Falconroy', 'feudal', 'Convict', 'State', 'fragmentary', 'athletic', 'assassin', 'convict', 'bayonets', 'hooked', 'athletes', 'sleeves', 'counts', 'expansive', 'hospitals', 'streaks', 'shores', 'muffled', 'lantern', 'handy', 'geological', 'buoyancy', 'submerged', 'pea', 'Drugger', 'Davis', 'gaping', 'depraved', 'exploit', 'borrowing', 'miser', 'Saints', 'vices', 'shoved', 'pealing', 'cracked', 'cowards', 'Americans', 'pyramids', 'pilgrim', 'hailed', 'loosely', 'Carstairs', 'Collection', 'coins', 'Giles', 'distinctions', 'halfpence', 'Wales', 'Hawker', 'pedigree', 'Caesars', 'livid', 'tapped', 'helplessly', 'appealing', 'hovered', 'prowess', 'whirl', 'receding', 'vindictive', 'phantoms', 'tulips', 'insolently', 'bargains', 'resplendent', 'victor', 'ally', 'exposure', 'Taking', 'collector', 'gait', 'MR', 'NUTT', 'Eyres', 'Exmoor', 'tyrant', 'Barlow', 'Finn', 'repress', 'threads', 'cider', 'Blue', 'Dragon', 'ghosts', 'antique', 'pantaloons', 'antiquities', 'quarry', 'Mull', 'librarian', 'damn', 'technically', 'decanter', 'triangular', 'scar', 'lawsuit', 'Glamis', 'Chamber', 'glassy', 'Unknown', 'granite', 'discernible', 'invoke', 'contest', 'Pendragons', 'Fanshaw', 'Cornish', 'Merlin', 'seamen', 'pilot', 'Elizabethan', 'landsman', 'voyages', 'Pacific', 'urges', 'canoe', 'tar', 'timbers', 'Main', 'Spaniard', 'oval', 'alongside', 'fences', 'enclose', 'plumes', 'cavalry', 'swore', 'gateway', 'crescent', 'pooh', 'cruising', 'coil', 'hose', 'lumps', 'jagged', 'venerable', 'nautical', 'cabin', 'savages', 'negroes', 'uniforms', 'mishap', 'disasters', 'returns', 'sermon', 'hailing', 'spouting', 'Knock', 'paddles', 'tramping', 'quill', 'tropic', 'margin', 'studded', 'bandstand', 'Pooley', 'glove', 'canopy', 'Japanese', 'wintry', 'disconcerted', 'splinter', 'Following', 'Bar', 'jack', 'Malvoli', 'Nigger', 'sherry', 'ogre', 'caste', 'basking', 'Curious', 'headsman', 'vertical', 'dodge', 'perspective', 'racing', 'tier', 'Grand', 'Downs', 'emerged', 'Monkey', 'continents', 'spaces', 'African', 'glistened', 'buck', 'ports', 'Cray', 'outlines', 'attitudes', 'Indian', 'Major', 'Putnam', 'shots', 'freshly', 'cruet', 'husky', 'tinged', 'Audrey', 'Watson', 'serves', 'Oman', 'natives', 'bolts', 'latch', 'Eastern', 'Face', 'unlock', 'Port', 'circling', 'Asiatic', 'dictionary', 'torrents', 'mottled', 'gas', 'Boulnois', 'humorously', 'Kidd', 'Catastrophism', 'Calhoun', 'Champion', 'Claude', 'Dalroy', 'snuff', 'scandal', 'Democracy', 'cars', 'cubic', 'Finding', 'beehive', 'unreal', 'patched', 'wakes', 'flashing', 'sable', 'gardening', 'fin', 'reeled', 'detectives', 'monomaniac', 'magazine', 'Bloody', 'Heiligwaldenstein', 'extracts', 'Amid', 'pasteboard', 'Otto', 'Grossenmark', 'tyrants', 'nightly', 'area', 'budding', 'kettles', 'inmost', 'wordless', 'sentries', 'frequented', 'rifles', 'facades', 'groping', 'drip', 'vice', 'brazen', 'intricate', 'bandaged', 'Edmund', 'crippled', 'motley', 'Paumanok', 'amain', 'Saffron', 'identical', 'nightfall', 'supremacy', 'blend', 'empyrean', 'Syme', 'Rosamond', 'bomb', 'peal', 'Baker', 'Chaos', 'chaos', 'defeats', 'anarchism', 'bombs', 'lilac', 'anarchists', 'cutter', 'screw', 'subterranean', 'surround', 'barricade', 'disguises', 'Anarchist', 'vacancy', 'cape', 'tug', 'beastly', 'trampling', 'Comrade', 'Buttons', 'Comrades', 'dynamiter', 'chairman', 'ambiguous', 'mountainous', 'Witherspoon', 'Shame', 'aims', 'volley', 'underground', 'Honesty', 'Virtue', 'cheers', 'Supreme', 'Strike', 'Kill', 'Close', 'launch', 'latitude', 'combining', 'deluge', 'villains', 'twopence', 'Join', 'subtle', 'Emperors', 'boyhood', 'edifice', 'spying', 'traitors', 'button', 'insupportable', 'concrete', 'bun', 'masonry', 'pyramid', 'tuft', 'Leicester', 'flaunt', 'continental', 'obscured', 'Gogol', 'Pole', 'demoniac', 'Marquis', 'Eustache', 'dissolution', 'faire', 'verge', 'purport', 'Czar', 'expands', 'jingling', 'Christendom', 'et', 'marching', 'drums', 'emerging', 'portable', 'limping', 'arithmetic', 'gasps', 'clinking', 'crutch', 'hive', 'Circus', 'rhymes', 'threading', 'docks', 'panes', 'selecting', 'angular', 'fluid', 'lids', 'ethereal', 'De', 'fossils', 'Burgundy', 'Naples', 'exiled', 'radiating', 'drained', 'buoyant', 'taps', 'companionship', 'scope', 'mastering', 'numberless', 'statements', 'spinning', 'intolerably', 'expanded', 'narrated', 'clinch', 'toad', 'Given', 'remotest', 'miraculous', 'Calais', 'digestion', 'whipping', 'Nose', 'marine', 'recklessly', 'intuitions', 'fatality', 'Ducroix', 'pageant', 'solve', 'Walking', 'Inspector', 'Ratcliffe', 'Mean', 'cable', 'cables', 'Guinea', 'hatchet', 'Erie', 'innkeeper', 'slopes', 'Horses', 'Renard', 'Swiftly', 'wrenching', 'bubbling', 'wade', 'entrails', 'Swords', 'magnanimous', 'cabs', 'kissing', 'pendant', 'distances', 'Wheel', 'Earl', 'heaving', 'bleached', 'tireless', 'exasperated', 'bestial', 'Pan', 'Horrible', 'larks', 'Along', 'abandonment', 'oaken', 'suite', 'tatters', 'orbs', 'seeks', 'Creation', 'scented', 'insects', 'Sabbath', 'obeys', 'repel', 'guards', 'Rossmore', 'schoolmistress', 'schooling', 'GO', 'Peggy', 'bog', 'Hopkins', 'garland', 'History', 'dipping', 'scalding', 'wasteful', 'Several', 'hemp', 'packthread', 'mason', 'slated', 'Betsy', 'halfpenny', 'Seventh', 'Goody', 'Grope', 'Danish', 'potato', 'BARRING', 'waken', 'BY', 'Lightfoot', 'Jem', 'Truck', 'threepence', 'Lazy', 'Lawrence', 'lounged', 'passenger', 'mammy', 'Wife', 'playground', 'sevenpence', 'cracking', 'cheating', 'mats', 'bedside', 'snatching', 'veins', 'lurked', 'loath', 'yon', 'slouched', 'gaol', 'Spencer', 'Franklin', 'Pomfret', 'natur', 'starve', 'Corkscrew', 'prying', 'retribution', 'Manchon', 'sallied', 'alehouse', 'tubs', 'poke', 'sneaking', 'breakers', 'playhouse', 'accomplices', 'Shrewsbury', 'hawthorn', 'agency', 'Barbara', 'Attorney', 'violets', 'Bab', 'Rich', 'moody', 'fittest', 'lease', 'dauntless', 'wicker', 'cowslip', 'dexterous', 'Somers', 'peremptory', 'Won', 'TAKE', '\"*', 'fathom', 'precedents', 'mazes', 'timely', 'avaricious', 'feeds', 'th', 'unwonted', 'scholars', 'emulous', 'marbles', 'harper', 'slily', 'vengeful', 'awed', 'plank', 'ranged', 'recess', 'Daisy', 'Hey', 'revolved', 'WELL', 'milliner', 'sauce', 'propitious', 'sullenly', 'anyrate', 'ribands', 'Strathspey', 'comb', 'stops', 'Somerville', 'rueful', 'shavings', 'Brian', 'Neill', 'plots', 'lye', 'Mac', 'Bell', 'Sister', 'loudest', 'fie', 'abashed', 'soonest', 'Eton', 'Windmill', 'exhibit', 'poles', 'Cap', 'Montem', 'Bursal', 'Talbot', 'Wheeler', 'Rory', 'Ryan', 'Newington', 'Landlord', 'Hearty', 'Waiter', 'Piercefield', 'Violetta', 'Landlady', 'Chambermaid', 'SCENE', 'MRS', 'jellies', 'Aloud', 'Exit', 'WHEELER', 'twas', 'swallows', 'TALBOT', 'Talb', 'hostler', 'Bombay', 'Enough', 'Burs', 'BURSAL', 'twill', 'Exeunt', 'Dash', 'Finsbury', 'fleet', 'Finsb', 'stun', 'Fancy', 'FIRST', 'J', 'electioneerer', 'Aside', 'fumbling', 'RORY', 'RYAN', 'claps', 'huzzaing', 'lave', 'pushes', 'continues', 'Huzza', 'huzza', 'frighted', 'jackanapes', 'spires', 'Faith', 'Fins', 'Boys', 'squeezing', 'Violet', 'loses', 'Hark', 'hark', 'Easy', 'Holland', 'raspberry', 'Oakly', 'peddler', 'raspberries', 'Brobdingnag', 'dye', 'Done', 'persevere', 'Guernsey', 'Gresham', 'Hal', 'Sweepstakes', 'writhed', 'FAMOUS', 'archery', 'confectioner', 'Gothic', 'Vision', 'Hard', 'hovel', 'epaulettes', 'sewing', 'cork', 'piazza', 'BACK', 'prostrate', 'Saracen', 'poz', 'Bustle', 'aught', 'magpie', 'Montague', 'Bertha', 'Theresa', 'Tattle', 'libraries', 'births', 'GLOBE', 'anatomical', 'macaroons', 'grammar', 'Carbuncle', 'Mar', 'Fred', 'Croker', 'preluding', 'Valiant', 'Battersby', 'Christopher', 'Chimney', 'wedged', 'diversion', 'Panado', 'frolic', 'Fisher', 'Archer', 'premium', 'Townsend', 'Greybeards', 'Archers', 'Chip', 'Greybeard', 'Barring', 'Tyrants', 'Obedience', 'sagacious', 'tinder', 'unbar', 'drenched', 'Powers', 'foiled', 'puns', 'spars', 'perpendicularly', 'beholds', 'ventilator', 'mutiny', 'battledore', 'shuttlecock', 'reptile', 'Fishermen', 'flogged', 'Villars', 'Cecilia', 'Leonora', 'lilacs', 'elated', 'mandarin', 'yields', 'plaited', 'curing', 'infused', 'distemper', 'Flora', 'keepsake', 'straps', 'Barbary', 'intrepid', 'di', 'i', 'chips', 'sulphurous', 'melon', 'Neapolitan', 'Piedro', 'Francisco', 'cent', 'bask', 'Resina', 'panniers', 'Fresh', 'incredulous', 'rogue', 'rogues', 'partnership', 'gratis', 'Rosetta', 'summary', 'compasses', 'arsenal', 'faggot', 'notched', 'Lee', 'Herculaneum', 'Vesuvius', 'crater', 'Mount', 'lava', 'eruption', 'flights', 'subterraneous', 'Camillo', 'brindled', 'Improvisatore', 'proceeds', 'Grateful', 'Regardless', 'lustre', 'windlass', 'del', 'Greco', 'Torre', 'rockets', 'firework', 'Th', 'Hardy', 'Loveit', 'Tarlton', 'wield', 'resounded', 'meanings', 'desist', 'divulged', 'audacious', 'gliding', 'Power', 'Trueman', 'resound', 'Dunstable', 'chaises', 'scotcher', 'postillion', 'blanket', 'slippers', 'puffs', 'Moby', 'FRENCH', 'Sub', 'Leviathan', 'Raphael', 'Whales', 'extracted', 'returne', 'againe', 'maine', 'Immense', 'Created', 'swims', 'gills', 'spouts', 'fry', 'harpooneers', 'VOYAGE', 'Fife', 'baleen', 'Oft', 'hoops', 'magnitude', 'towing', 'NANTUCKET', 'stranded', 'crews', 'mariner', 'insect', 'Polar', 'Arch', 'butt', 'stove', 'SHIP', 'SPERM', 'shrouds', 'resounds', 'endures', 'Sperm', 'Greenland', 'WHALING', 'lee', 'Steady', 'Mast', 'ahoy', 'shoal', 'Thunder', 'Nantucket', 'LAY', 'onset', 'whalemen', 'outs', 'expanse', 'Whaling', 'harpooned', 'Stern', 'harpooneer', 'boundless', 'wharves', 'breezes', 'reveries', 'rigging', 'landsmen', 'leagues', 'magnetic', 'lakes', 'infallibly', 'wedded', 'Niagara', 'invest', 'trip', 'oceans', 'Commodore', 'abandon', 'plumb', 'forecastle', 'spar', 'decks', 'punch', 'astern', 'breathes', 'whaling', 'Fates', 'portentous', 'Patagonian', 'hooded', 'Horn', 'Bedford', 'embark', 'aboriginal', 'canoes', 'harpoon', 'remorseless', 'jet', 'Spouter', 'Coffin', 'gable', 'Sumatra', 'lengthwise', 'equator', 'moored', 'Entering', 'limber', 'perpendicular', 'primal', 'heathenish', 'tufted', 'Mixed', 'lances', 'harpoons', 'hump', 'Crossing', 'dusky', 'anchored', 'avast', 'goin', 'headway', 'jackets', 'aint', 'Starting', 'offing', 'sovereign', 'shipmates', 'shipmate', 'reminiscences', 'Bulkington', 'orgies', 'hammock', 'Broke', 'bedfellow', 'flukes', 'clam', 'abreast', 'counterpane', 'seaman', 'guise', 'whaleman', 'cannibals', 'tattooed', 'tattooing', 'tomahawk', 'beaver', 'Years', 'shipped', 'sooty', 'biscuit', 'Angels', 'ee', 'Queequeg', 'sleepe', 'hemisphere', 'glided', 'pickle', 'trowsers', 'dented', 'mates', 'brawny', 'Andes', 'contrasting', 'zone', 'parlor', 'boarded', 'inseparable', 'beats', 'unheeded', 'fishery', 'Seed', 'feat', 'porpoises', 'spermaceti', 'tapering', 'perennial', 'musk', 'odorous', 'Returning', 'sleet', 'steadfastly', 'Memory', 'towed', 'Japan', 'unrecorded', 'census', 'vital', 'murky', 'Eternity', 'Methinks', 'stave', 'Pulpit', 'Mapple', 'gleams', 'maritime', 'architect', 'sanctity', 'scud', 'azure', 'gangway', 'larboard', 'starboard', 'Shipmates', 'yarns', 'pregnant', 'billow', 'surging', 'lurks', 'Cadiz', 'Straits', 'wharf', 'hoisting', 'essays', 'gamesome', 'descends', 'stab', 'convicts', 'berth', 'groans', 'burns', 'cleaving', 'leaps', 'aft', 'lull', 'hatches', 'Senators', 'Pagan', 'freer', 'heeded', 'swells', 'bland', 'Wild', 'whereat', 'pagans', 'wakeful', 'arctic', 'identity', 'congenial', 'elastic', 'serene', 'undulating', 'whaler', 'Sag', 'Harbor', 'wrists', 'Thought', 'coronation', 'schooner', 'barbs', 'farmers', 'marches', 'immemorial', 'casks', 'bracing', 'Tartar', 'gaunt', 'boom', 'brine', 'cask', 'prairie', 'Nantucketers', 'assaults', 'pirate', 'Nantucketer', 'climbs', 'Alps', 'Hussey', 'outset', 'Cod', 'chowder', 'flavor', 'fishy', 'y', 'Ship', 'Yojo', 'harbor', 'Ramadan', 'Pequod', 'footed', 'hull', 'Cologne', 'sperm', 'hempen', 'helmsman', 'wigwam', 'fibres', 'minutest', 'windward', 'distrustful', 'Vineyard', 'obliquely', 'transom', 'modified', 'vest', 'reminiscence', 'clutch', 'splice', 'doubloons', 'Blast', 'leaky', 'leeward', 'AHAB', 'squaw', 'brig', 'Quohog', 'hauling', 'Avast', 'twine', 'levelled', 'bayonet', 'hav', 'coils', 'harbors', 'comprising', 'whalebone', 'Hands', 'scuttle', 'profoundest', 'Starbuck', 'Stubb', 'capstan', 'handspikes', 'Meantime', 'cordage', 'fruition', 'invested', 'coiling', 'Flask', 'cooper', 'hulls', 'Shore', 'direst', 'keel', 'gainst', 'Fishery', 'procedure', 'declines', 'veteran', 'recoil', 'eddies', 'tapers', 'lastly', 'manned', 'aggregate', 'archipelagoes', 'salutes', 'muskets', 'Peru', 'latitudes', 'portents', 'welded', 'latent', 'vicissitudes', 'costliest', 'august', 'circumference', 'castaways', 'perchance', 'swart', 'cheerily', 'impious', 'humor', 'leviathans', 'encountering', 'Post', 'Arctic', 'whalers', 'headsmen', 'trio', 'provides', 'Tashtego', 'neighboring', 'rounding', 'Antarctic', 'lithe', 'Air', 'Daggoo', 'corporeal', 'navies', 'Pip', 'tambourine', 'taffrail', 'particle', 'Perseus', 'Manxman', 'popularly', 'dismasted', 'Ere', 'pivot', 'layer', 'loftiest', 'sprouts', 'respond', 'helmeted', 'slumbers', 'steersman', 'emerge', 'lumber', 'mainmast', 'wouldst', 'Dough', 'binnacle', 'Leviathans', 'jets', 'gums', 'Halloa', 'Cetology', 'Already', 'Scoresby', 'Beale', 'indications', 'naturalists', 'Cuvier', 'anatomy', 'Pliny', 'Linnaeus', 'Owen', 'retreats', 'laborers', 'Macey', 'cogent', 'FOLIO', 'OCTAVO', 'DUODECIMO', 'ounce', 'designated', 'Fin', 'girth', 'ripples', 'eludes', 'Folio', 'sonorous', 'blubber', 'Narwhale', 'Letter', 'bended', 'bigness', 'Porpoise', 'Cannon', 'architects', 'vigilance', 'relaxed', 'incarnate', 'potency', 'Cabin', 'swings', 'warlike', 'noiselessly', 'plumed', 'dilated', 'martial', 'tackle', 'Hercules', 'invests', 'Sleet', 'Voyage', 'rifle', 'Childe', 'visual', 'blending', 'dimly', 'flitting', 'inscrutable', 'tides', 'dents', 'fluke', 'specific', 'Tash', 'wrenched', 'jib', 'measureless', 'Norway', 'methinks', 'fiends', 'tost', 'foremast', 'volition', 'Forthwith', 'indissoluble', 'sidelong', 'swerve', 'tows', 'embattled', 'Mogul', 'pennant', 'fleeting', 'SAILOR', 'butts', 'pump', 'PIP', 'Form', 'Rig', 'Brahma', 'Ganges', 'Tahiti', 'Baltic', 'squalls', 'meridian', 'rumors', 'incorporate', 'ignoble', 'currents', 'wrecks', 'unharmed', 'limitless', 'creamy', 'bridal', 'lung', 'Hudson', 'essence', 'throned', 'sire', 'appalling', 'ire', 'emblem', 'Passion', 'furthest', 'transcendent', 'imparts', 'albatross', 'tally', 'van', 'endlessly', 'aspects', 'Lima', 'phenomenon', 'soundings', 'Deity', 'inherent', 'substances', 'Cabaco', 'rustle', 'Archy', 'neighbor', 'charts', 'horizontally', 'Season', 'Line', 'equatorial', 'tallied', 'throes', 'adequately', 'pumps', 'Langsdorff', 'inhale', 'traverse', 'lashing', 'gunwale', 'tackles', 'coiled', 'Less', 'Fedallah', 'ginger', 'Start', 'oarsman', 'loggerhead', 'crazed', 'oarsmen', 'gunwales', 'waif', 'loomed', 'chisel', 'glide', 'amours', 'Rio', 'allured', 'fathomless', 'midway', 'whelmed', 'consort', 'wilds', 'ducking', 'skulls', 'steers', 'Town', 'Pedro', 'Sebastian', 'Radney', 'Steelkilt', 'Lakeman', 'Manilla', 'Ontario', 'Huron', 'rigged', 'manhood', 'profuse', 'Canallers', 'swamps', 'Freely', 'Antony', 'response', 'Best', 'bowsman', 'haul', 'swimmer', 'Pictures', 'Hindoo', 'Andromeda', 'Gate', 'amaze', 'hoist', 'paintings', 'tons', 'triumphal', 'fac', 'Achilles', 'fabled', 'brit', 'drifts', 'Java', 'zones', 'freight', 'loom', 'chocks', 'intricacies', 'straining', 'grazing', 'vapoury', 'Clear', 'Woo', 'hee', 'steak', 'keels', 'Haul', 'spiracle', 'waning', 'contracting', 'crotch', 'convulsive', 'freighted', 'palate', 'Fleece', 'critters', 'dat', 'dey', 'dis', 'Aloft', 'unctuous', 'stages', 'flexible', 'hawser', 'rind', 'enveloping', 'wafted', 'gash', 'untold', 'Sail', 'Mayhew', 'unconditional', 'Ginger', 'swum', 'snake', 'Parsee', 'contemporary', 'impalpable', 'Heidelburgh', 'Tun', 'tun', 'limpid', 'leaks', 'Plato', 'Prairie', 'scan', 'Gall', 'dwells', 'achieve', 'cavity', 'vertebrae', 'spinal', 'convex', 'Meets', 'Jungfrau', 'Derick', 'feeder', 'Yarman', 'pod', 'cumbrous', 'neared', 'mocks', 'hawks', 'adrift', 'aspirations', 'Vishnoo', 'headland', 'pitchpoling', 'emergencies', 'fleecy', 'spoutings', 'breaths', 'individuals', 'exhaled', 'strata', 'Therein', 'Sunda', 'renounce', 'speeding', 'expanding', 'drugg', 'vaults', 'subtlest', 'dalliance', 'gripe', 'harem', 'Equator', 'roving', 'occult', 'settlements', 'Fast', 'barb', 'plaintiffs', 'defendants', 'Gold', 'odor', 'ambergris', 'Bouton', 'aromatic', 'grains', 'imports', 'bounteous', 'hug', 'divinely', 'muscle', 'mincer', 'rapt', 'soar', 'adhesiveness', 'doubloon', 'Taurus', 'Enderby', 'Trumpet', 'mallet', 'Bunger', 'Stood', 'Sons', 'flip', 'lbs', 'polar', 'Tranquo', 'Tranque', 'skeletons', 'Pompey', 'Matter', 'Rocks', 'blacksmith', 'Carpenter', 'drivers', 'SNEEZES', 'drench', 'nearing', 'musket', 'unfold', 'ebb', 'Perth', 'blithe', 'oblivious', 'seams', 'Horse', 'Work', 'fang', 'ether', 'Bachelor', 'Dying', 'whirls', 'Typhoon', 'flickering', 'squadrons', 'hearses', 'couldst', 'Immortal', 'quadrant', 'corpusants', 'Lightning', 'fitful', 'reaches', 'aisle', 'Rat', 'nestling', 'Invisible', 'creeps', 'enslaved', 'Trade', 'Winds', 'regiments', 'Heart', 'intercept', 'blissful', 'Muse', 'Abyss', 'Moved', 'Raised', 'Omnipotent', 'Served', 'Enemy', 'realms', 'Victor', 'Innumerable', 'empyreal', 'Foe', 'Sole', 'Fearless', 'Than', 'Whereto', 'Fiend', 'Shot', 'surge', 'Thither', 'Infinite', 'scaped', 'Stygian', 'sufferance', 'erewhile', 'Ethereal', 'Hung', 'Forms', 'Seraph', 'Shapes', 'erst', 'Jehovah', 'Cherubim', 'scape', 'Fell', 'Olympus', 'gems', 'orient', 'Anon', 'flutes', 'Sat', 'Millions', 'Stands', 'myriads', 'Space', 'Celestial', 'ore', 'brigade', 'symphonies', 'jocund', 'Vain', 'Virtues', 'Equal', 'resistless', 'excels', 'Chance', 'ambrosial', 'Thrones', 'exempt', 'Wide', 'Ended', 'Firm', 'Toward', 'Thence', 'Betwixt', 'Adversary', 'Fierce', 'athwart', 'Thyself', 'Pensive', 'lore', 'Pit', 'adhere', 'Borne', 'Confusion', 'Wandering', 'sovran', 'highth', 'receiv', 'plac', 'rul', 'blest', 'Comes', 'unsought', 'Thenceforth', 'Glad', 'Princedoms', 'scepter', 'Dominations', 'copious', 'inferiour', 'Fit', 'desart', 'pinnacles', 'seised', 'center', 'Breathe', 'Illustrious', 'impure', 'wonderous', 'Flew', 'superiour', 'aery', 'Haply', 'horrour', 'Mankind', 'bowers', 'Graces', 'tresses', 'Creatures', 'Bending', 'Creature', 'angelick', 'heroick', 'Spiritual', 'peerless', 'Morn', 'responsive', 'Singing', 'beauteous', 'Present', 'impaired', 'Ride', 'Longer', 'worthier', 'Goddess', 'Reason', 'multiform', 'warble', 'globes', 'speeds', 'Food', 'Cherubick', 'twixt', 'Tables', 'Omnipotence', 'quell', 'illustrious', 'Superiour', 'Rebellious', 'Voice', 'festivals', 'terrour', 'Liberty', 'shouldst', 'impassive', 'avails', 'Valour', 'unfound', 'Approaching', 'Rage', 'undying', 'befel', 'bard', 'Beast', 'amplitude', 'Messenger', 'Pleas', 'Thoughts', 'Laertes', 'farms', 'Tempter', 'Bold', 'Triumph', 'Appetite', 'Speech', 'carnage', 'pastoral', 'arming', 'amplest', 'film', 'ope', 'sweaty', 'Age', 'Freedom', 'Nations', 'Flood', 'departs', 'attributes', 'Tyranny', 'unnamed', 'carol', 'Tragedie', 'Actus', 'Prima', 'Flauius', 'certaine', 'ouer', 'Stage', 'walke', 'Vpon', 'signe', 'Speake', 'Mur', 'vse', 'Fla', 'knaue', 'mee', 'liue', 'euer', 'vpon', 'haue', 'worke', 'leade', 'weare', 'selfe', 'indeede', 'cruell', 'Haue', 'vp', 'Armes', 'passe', 'appeare', 'Tyber', 'heare', 'strew', 'Pompeyes', 'Countrymen', 'poore', 'weepe', 'teares', 'kisse', 'mou', 'downe', 'Capitoll', 'finde', 'Feast', 'Ile', 'perceiue', 'thicke', 'flye', 'aboue', 'keepe', 'vs', 'Calphurnia', 'Portia', 'Decius', 'Cicero', 'Brutus', 'Cassius', 'Caska', 'Caes', 'Cask', 'speakes', 'Calp', 'Heere', 'Antonio', 'Ant', 'sayes', 'leaue', 'Sooth', 'euery', 'noyse', 'Musicke', 'Ides', 'Cassi', 'Manet', 'Brut', 'Cass', 'lacke', 'quicke', 'Loue', 'beare', 'loues', 'Bru', 'looke', 'turne', 'onely', 'giue', 'himselfe', 'shewes', 'meanes', 'iust', 'Noble', 'seeke', 'Cas', 'loue', 'Flourish', 'feare', 'thinke', 'heere', 'generall', 'vertue', 'fauour', 'subiect', 'Thinke', 'saide', 'Helpe', 'marke', 'Coward', 'Marke', 'Giue', 'drinke', 'Titinius', 'sicke', 'beleeue', 'Honors', 'vnder', 'selues', 'Graues', 'deere', 'Starres', 'heauy', 'soone', 'growne', 'eternall', 'Diuell', 'meete', 'Sonne', 'Vnder', 'weake', 'seene', 'thinkes', 'Feare', 'giuen', 'lookes', 'neuer', 'themselues', 'eare', 'speake', 'chanc', 'aske', 'Crowne', 'backe', 'meere', 'neyther', 'faine', 'owne', 'Ayre', 'Falling', 'sicknesse', 'meane', 'pleas', 'doe', 'Players', 'vnto', 'Marry', 'beene', 'goe', 'amisse', 'foure', 'Soule', 'Mothers', 'lesse', 'newes', 'promis', 'aliue', 'minde', 'Doe', 'Mettle', 'Enterprize', 'forme', 'giues', 'mindes', 'firme', 'seuerall', 'dayes', 'euen', 'Heauen', 'burne', 'Torches', 'Lyon', 'Euen', 'Reasons', 'Vnto', 'Heauens', 'knowne', 'crosse', 'dreadfull', 'Ghosts', 'kinde', 'Natures', 'Instruments', 'fearefull', 'saue', 'Dagger', 'deliuer', 'ayre', 'Neuer', 'beares', 'Tyrant', 'Poore', 'redresse', 'farre', 'Noblest', 'stirre', 'Cinna', 'Metellus', 'Cymber', 'Statue', 'Trebonius', 'Offence', 'Vertue', 'neere', 'Luc', 'proofe', 'turnes', 'preuent', 'Bed', 'Looke', 'reade', 'tooke', 'mans', 'Knocke', 'Dreame', 'mortall', 'Kingdome', 'halfe', 'Faces', 'rous', 'darke', 'Eyes', 'lyes', 'breake', 'Cin', 'confesse', 'Sunne', 'yeare', 'sweare', 'Soules', 'neede', 'Sweare', 'mens', 'iudgement', 'seeme', 'Caius', 'Seruants', 'Arme', 'resolu', 'Flatterers', 'houre', 'Ligarius', 'asleepe', 'Por', 'Y', 'foote', 'withall', 'eate', 'talke', 'greefe', 'wholsome', 'vowes', 'vnfold', 'bosome', 'Leaue', 'Cai', 'braue', 'peece', 'Iulius', 'murther', 'Seruant', 'Ser', 'Warre', 'seemes', 'knowes', 'foorth', 'wisedome', 'keepes', 'Senate', 'Deci', 'haile', 'Lye', 'yeeld', 'thanke', 'paines', 'prythee', 'Hearke', 'winde', 'harme', 'followes', 'heeles', 'enterprize', 'Lepidus', 'Haile', 'leysure', 'neerer', 'seru', 'sodaine', 'voyce', 'begge', 'Prayers', 'Starre', 'Dyes', 'cheere', 'gaue', 'Royall', 'lou', 'liuing', 'Fortunes', 'feares', 'ranke', 'Instrument', 'businesse', 'pitty', 'receiue', 'Onely', 'strooke', 'Wisedome', 'wayes', 'greeue', 'Deere', 'Enemies', 'Funerall', 'dumbe', 'custome', 'Reuenge', 'foule', 'Octauius', 'comming', 'yong', 'Ple', 'Beleeue', 'Ambitious', 'Question', 'Body', 'findes', 'Twere', 'liues', 'faithfull', 'stuffe', 'Iudgement', 'Beare', 'soule', 'Seale', 'haire', 'Daggers', 'Tent', 'wel', 'feele', 'reueng', 'Traitor', 'dy', 'Action', 'moue', 'reuenge', 'Heare', 'Poet', 'teare', 'Octa', 'blacke', 'Asse', 'Businesse', 'hauing', 'Treasure', 'eares', 'Souldier', 'Drum', 'Lucillius', 'Pindarus', 'Lucil', 'receiu', 'sicken', 'doore', 'Iustice', 'Villaine', 'Moone', 'liu', 'Legions', 'growes', 'Foole', 'Breast', 'loued', 'Hee', 'betweene', 'Messala', 'Attendants', 'Messa', 'Enemie', 'Souldiers', 'deepe', 'Gowne', 'Claudio', 'Lordship', 'heauie', 'Angell', 'Sleepe', 'Mes', 'Battaile', 'behinde', 'Alarum', 'Alarums', 'Titin', 'tane', 'ioy', 'Prisoner', 'successe', 'Strato', 'Volumnius', 'slaine', 'Countries', 'Sold', 'Clitus', 'remaines', 'Clit', 'Torch', 'griefe', 'prou', 'seruice', 'Barnardo', 'Fran', 'twelue', 'thankes', 'Barn', 'goodnight', 'Horatio', 'Marcellus', 'Dane', 'Soldier', 'Hora', 'Maiesty', 'Denmarke', 'Norwey', 'Fortinbras', 'Lands', 'seiz', 'Cocke', 'Charme', 'Scena', 'Secunda', 'Gertrude', 'Queene', 'Polonius', 'Ophelia', 'twere', 'Thankes', 'Throne', 'Laer', 'Pol', 'Cosin', 'Minde', 'Qu', 'heauen', 'Vnkle', 'thrift', 'Act', 'Tertia', 'deare', 'Ophe', 'Polon', 'vnderstand', 'Custome', 'madnesse', 'Gho', 'Prison', 'vnnaturall', 'Murther', 'wil', 'Braine', 'Graue', 'helpe', 'Reynol', 'wilde', 'indirections', 'Goe', 'extasie', 'Guildensterne', 'Rosincrance', 'Hamlets', 'Rosin', 'Guil', 'Newes', 'Liege', 'Sonnes', 'Highnesse', 'Maiestie', 'Commission', 'Madnesse', 'vilde', 'bene', 'Guild', 'color', 'Player', 'Braines', 'Winde', 'Play', 'Pyrrhus', 'dismall', 'drowne', 'diuell', 'Fellowes', 'verie', 'hoa', 'Slaue', 'leaues', 'poyson', 'Husband', 'shee', 'dallying', 'Ban', 'diseas', 'blesse', 'Masse', 'Gent', 'ene', 'masse', 'graue', 'Owle', 'Kin', 'Clo', 'Scull', 'tan', 'Osricke', 'Osr', 'Foyles', 'dally', 'Drinke', 'Drumme', 'Colours', 'Macbeth', 'Witches', 'Donalbaine', 'Lenox', 'Mal', 'Rosse', 'Angus', 'Thane', 'Cawdor', 'Title', 'Banquo', 'Macb', 'Banq', 'Malcolme', 'Thanes', 'powre', 'Duncan', 'Macduff', 'Hostesse', 'drest', 'Porter', 'Macd', 'Macduffe', 'Malc', 'Murth', 'Health', 'Fleans', 'Len', 'Seyward', 'Cauldron', 'Doct', 'Ment', 'Dunsinane', 'Seyton', 'Sey', 'measur', 'Leaves', 'Walt', 'Whitman', 'chants', '}', 'physiology', 'bards', 'Ships', 'rapport', 'Personality', 'Eidolons', 'eidolons', 'merge', 'eidolon', 'campaigns', 'orbic', 'perturbations', 'universes', 'yearning', 'dilate', 'fuse', 'effuse', 'Kanada', 'Mannahatta', 'carols', 'sundown', 'orators', 'California', 'clank', 'Solitary', 'institutions', 'retrospective', 'Libertad', 'Chants', 'pulses', 'camerado', 'themes', 'composite', 'determin', 'ensemble', 'Colorado', 'traveler', 'Kanadian', 'vistas', 'grander', 'literatures', 'steamers', 'immigrants', 'maize', 'belov', 'clipper', 'glisten', 'pois', 'stretches', 'woolly', 'hemm', 'grandsons', 'bays', 'mechanic', 'generals', 'lipp', 'twittering', 'Manhattan', 'cycles', 'bibles', 'fibre', 'whirr', 'scallop', 'bivouac', 'colors', 'Allah', 'prelude', 'steamships', 'engineers', 'trillions', 'eras', 'vapor', 'nimbus', 'maternity', 'balk', 'apparitions', 'capitol', 'disappear', 'pageants', 'tableaus', 'absorb', 'recitative', 'myths', 'railroads', 'laboring', 'pennants', 'Allons', 'envelop', 'Journeyers', 'gayly', 'womanhood', 'Brooklyn', 'nighest', 'Answerer', 'Congress', 'travelers', 'growths', 'Potomac', 'Carolinas', 'bugles', 'gravitation', 'myriad', 'elate', 'railroad', 'cannons', 'Flag', 'unreck', 'recesses', 'enclosing', 'Duly', 'chanted', 'Pioneers', 'sinewy', 'arous', 'responding', 'dirge', 'murk', 'lambent', 'Banner', 'Vigil', 'vigil', 'veterans', 'tallying', 'Idea', 'aspiration', 'Unfolded', 'Perfume', 'trumpeter', '}[']\n",
            "['human', 'interface', 'computer', 'survey', 'user', 'system', 'response', 'time', 'eps', 'trees', 'graph', 'minors']\n"
          ],
          "name": "stdout"
        }
      ]
    },
    {
      "cell_type": "code",
      "metadata": {
        "id": "UlfFUcF9__4A",
        "colab_type": "code",
        "outputId": "7c51557d-1d20-47f5-f4f4-bb424420a45e",
        "colab": {
          "base_uri": "https://localhost:8080/",
          "height": 190
        }
      },
      "source": [
        "vector_c = model2.wv['computer']\n",
        "\n",
        "\n",
        "\n",
        "#print(vector_c)\n",
        "\n",
        "print(model) \n",
        "\n",
        "\n",
        "\n",
        "\n",
        "vector_t = model2.wv['time']\n",
        "#print(vector_t)\n",
        "\n",
        "print(model2.similar_by_vector(vector_c))\n",
        "print(model2.similar_by_vector(vector_t))\n",
        "\n"
      ],
      "execution_count": 32,
      "outputs": [
        {
          "output_type": "stream",
          "text": [
            "Word2Vec(vocab=17011, size=100, alpha=0.025)\n",
            "[('computer', 1.0), ('trees', 0.18067461252212524), ('graph', 0.09885556995868683), ('user', 0.05702870339155197), ('human', 0.015458092093467712), ('minors', -0.006871828809380531), ('response', -0.08514246344566345), ('time', -0.09487903118133545), ('interface', -0.09714832156896591), ('system', -0.11603781580924988)]\n",
            "[('time', 0.9999999403953552), ('response', 0.1709960550069809), ('human', 0.11712338030338287), ('eps', 0.0952422246336937), ('trees', 0.0767492949962616), ('interface', -0.019803009927272797), ('graph', -0.03488349914550781), ('system', -0.0816764086484909), ('computer', -0.09487904608249664), ('minors', -0.13383223116397858)]\n"
          ],
          "name": "stdout"
        },
        {
          "output_type": "stream",
          "text": [
            "/usr/local/lib/python3.6/dist-packages/ipykernel_launcher.py:15: DeprecationWarning: Call to deprecated `similar_by_vector` (Method will be removed in 4.0.0, use self.wv.similar_by_vector() instead).\n",
            "  from ipykernel import kernelapp as app\n",
            "/usr/local/lib/python3.6/dist-packages/gensim/matutils.py:737: FutureWarning: Conversion of the second argument of issubdtype from `int` to `np.signedinteger` is deprecated. In future, it will be treated as `np.int64 == np.dtype(int).type`.\n",
            "  if np.issubdtype(vec.dtype, np.int):\n",
            "/usr/local/lib/python3.6/dist-packages/ipykernel_launcher.py:16: DeprecationWarning: Call to deprecated `similar_by_vector` (Method will be removed in 4.0.0, use self.wv.similar_by_vector() instead).\n",
            "  app.launch_new_instance()\n"
          ],
          "name": "stderr"
        }
      ]
    },
    {
      "cell_type": "code",
      "metadata": {
        "id": "2C30pmKknKMJ",
        "colab_type": "code",
        "outputId": "77ba0d21-ec51-4927-81ca-df69fe422372",
        "colab": {
          "base_uri": "https://localhost:8080/",
          "height": 54
        }
      },
      "source": [
        "vector_c = model.wv['mother']\n",
        "vector_t = model.wv['woman']\n",
        "\n",
        "#print(model.similar_by_vector(vector_t-vector_c))\n",
        "\n",
        "\n",
        "#print(model.wv.most_similar('woman'))\n",
        "print(model.wv.most_similar_cosmul(['woman', 'king'],['man']))\n",
        "\n"
      ],
      "execution_count": 33,
      "outputs": [
        {
          "output_type": "stream",
          "text": [
            "[('daughter', 0.912455141544342), ('son', 0.9064741134643555), ('chamberlains', 0.8922019600868225), ('captain', 0.8856467008590698), ('queen', 0.8789352178573608), ('Solomon', 0.8704864978790283), ('Joseph', 0.8667926788330078), ('Rachel', 0.8635896444320679), ('Amoz', 0.8603639602661133), ('scribe', 0.8556996583938599)]\n"
          ],
          "name": "stdout"
        }
      ]
    }
  ]
}